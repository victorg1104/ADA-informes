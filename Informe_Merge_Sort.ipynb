{
  "nbformat": 4,
  "nbformat_minor": 0,
  "metadata": {
    "colab": {
      "name": "Informe Merge Sort.ipynb",
      "provenance": [],
      "collapsed_sections": []
    },
    "kernelspec": {
      "name": "python3",
      "display_name": "Python 3"
    },
    "language_info": {
      "name": "python"
    }
  },
  "cells": [
    {
      "cell_type": "markdown",
      "source": [
        "# 1. Descripción del problema"
      ],
      "metadata": {
        "id": "ys2SqerWtrgy"
      }
    },
    {
      "cell_type": "markdown",
      "source": [
        "El problema a tratar por este algoritmo continúa siendo el **problema de ordenamiento**, que consiste en modificar una secuencia de números para que luego de aplicado el algoritmo, los mismos elementos de la secuencia se encuentren en un orden específico. Por ejemplo ordenar los números de un arreglo de menor a mayor o viceversa.\n",
        "\n",
        "**Entrada:** Secuencia de *n* números $[a_1,a_2,...,a_n]$\n",
        "\n",
        "**Salida**: Permutación ordenada de la secuencia de entrada: $[a_1',a_2',...,a_n']$, de tal manera que $a_1'\\leq a_2' \\leq... \\leq a_n'$.\n",
        "\n",
        "**Tamaño del problema:** El tamaño para este problema viende definido por la cantidad *n* de valores a ordenar.\n",
        "\n",
        "\n",
        "<a href=\"https://imgur.com/XWBpqxt\"><img src=\"https://i.imgur.com/XWBpqxt.jpg\" title=\"source: imgur.com\" /></a>\n",
        "\n",
        "La diferencia de este algoritmo con el Insretion Sort es la forma de solucionar el mismo problema, lo cual se explicará en la siguiente sección."
      ],
      "metadata": {
        "id": "r7Vhn5P9uU07"
      }
    },
    {
      "cell_type": "markdown",
      "source": [
        "# 2. Merge Sort\n"
      ],
      "metadata": {
        "id": "15etIsSS32ep"
      }
    },
    {
      "cell_type": "markdown",
      "source": [
        "## 2.1 Código"
      ],
      "metadata": {
        "id": "tkaX9fGbBQp3"
      }
    },
    {
      "cell_type": "code",
      "source": [
        "Contador1 = 0 #Contador de llamadas recursivas\n",
        "Contador2 = 0 #Contador de comparaciones\n",
        "\n",
        "def MergeSort(array, verbose = False):\n",
        "\tglobal Contador1\n",
        "\n",
        "\tif (len(array) <= 1): #Caso base: si el tamaño del arreglo es 0 o 1 retorna el arreglo tal cual pues ya está ordenado\n",
        "\t\tContador1 += 1\n",
        "\t\treturn array\n",
        " \n",
        " \t#Se divide el arreglo original en dos mitades y se les aplica Merge Sort de manera recursiva\n",
        "\tmedio = len(array) // 2\n",
        "\tder = MergeSort((array[:medio]), verbose)\n",
        "\tContador1 += 1\n",
        "\tizq = MergeSort((array[medio:]), verbose)\n",
        "\tContador1 += 1\n",
        "\n",
        "\treturn Merge(der, izq, verbose)  #Se juntan ambos arreglos\n",
        "\n",
        "def Merge(A, B, verbose):\n",
        "\t#Variables auxiliares para recorrer sub-arreglos\n",
        "\ti = 0\n",
        "\tj = 0\n",
        "\tglobal Contador2\n",
        "\tC = []\n",
        "\n",
        "\tif(verbose == True):\n",
        "\t\tprint(\"Arreglo izquierdo: \" + \"\\033[33m\" + str(A))\n",
        "\t\tprint(\"\\033[0m\")\n",
        "\t\t\n",
        "\t\tprint(\"Arreglo derecho: \" + \"\\033[31m\" + str(B))\n",
        "\t\tprint(\"\\033[0m\")\n",
        "\t\n",
        "\twhile(i < len(A) and j < len(B)):  #Se va insertando el menor elemento de cada sub arreglo en el arreglo combinado\n",
        "\t\tContador2 += 1\n",
        "\t\tif(A[i] < B[j]):\n",
        "\t\t\tC.append(A[i])\n",
        "\t\t\ti+=1\n",
        "\t\telse:\n",
        "\t\t\tC.append(B[j])\n",
        "\t\t\tj+=1\n",
        "\t\t\n",
        "\t#Se agregan todos los elementos restantes de los sub-arreglos\n",
        "\tC += A[i:]\n",
        "\tContador2 += len(A[i:])\n",
        "\tC += B[j:]\n",
        "\tContador2 += len(B[j:])\n",
        "\n",
        "\tif verbose == True:\n",
        "\t\tprint(\"Arreglo resultante: \" + \"\\033[34m\" + str(C))\n",
        "\t\tprint(\"\\033[0m\")\n",
        "\n",
        "\treturn C  #Se juntan ambos arreglos\n",
        "\n",
        "\n",
        "#Ejemplo\n",
        "A = [4,5,6,3,7,9,1]\n",
        "verbose = False\n",
        "\n",
        "if(verbose == True):\n",
        "\tprint(\"Entrada: \" + \"\\033[31m\" + str(A))\n",
        "\tprint(\"\\033[0m\")\n",
        "else:\n",
        "\tprint(\"Entrada: \", A)\n",
        " \n",
        "Contador1 = 0 #Contador de llamadas recursivas\n",
        "Contador2 = 0 #Contador de comparaciones\n",
        "A = MergeSort(A, verbose)\n",
        "\n",
        "if(verbose == True):\n",
        "\tprint(\"Salida: \" + \"\\033[92m\" + str(A))\n",
        "\tprint(\"\\033[0m\")\n",
        "else:\n",
        "\tprint(\"Salida: \", A)\n",
        "\tprint(\"Numeros de comparaciones: \", Contador2)\n",
        "\tprint(\"Numeros de llamadas recursivas: \", Contador1)"
      ],
      "metadata": {
        "colab": {
          "base_uri": "https://localhost:8080/"
        },
        "id": "TeFqDcQwBWOs",
        "outputId": "dd10399c-fd32-47de-8b50-fad96014c243"
      },
      "execution_count": 92,
      "outputs": [
        {
          "output_type": "stream",
          "name": "stdout",
          "text": [
            "Entrada:  [4, 5, 6, 3, 7, 9, 1]\n",
            "Salida:  [1, 3, 4, 5, 6, 7, 9]\n",
            "Numeros de comparaciones:  20\n",
            "Numeros de llamadas recursivas:  19\n"
          ]
        }
      ]
    },
    {
      "cell_type": "markdown",
      "source": [
        "## 2.2 Descripción\n",
        "\n"
      ],
      "metadata": {
        "id": "22CyMFk__bYn"
      }
    },
    {
      "cell_type": "markdown",
      "source": [
        "El algoritmo de Merge Sort consiste en el ordenamiento de un arreglo o lista de números mediante el uso del diseño **divide y vencerás**, el cual se explicará a continuación de la entrada y salida del algoritmo.\n",
        "\n",
        "**Entrada:** Un arreglo o lista con n cantidad de números.\n",
        "\n",
        "**Salida:** El mismo arreglo con exactamente los mismos elementos pero ordenados de menor a mayor.\n",
        "\n",
        "El funcionamiento mencionado anteriormente se consigue gracias a el principio anteriormente mencionado **\"divide y vencerás\"**, el cual se hizo famoso debido a que era la técnica que utilizaba el imperio romano para ganar sus batallas. Sin embargo su uso se fue masificando al punto en que se utiliza para cualquier situación en la cual conviene dividir un problema inicial en sub-problemas que sean más llevaderos o \"fáciles\" de solucionar, para así llegar a un resultado final. \n",
        "\n",
        "Este algoritmo lleva a cabo lo anterior realizando los siguientes tres pasos:\n",
        "\n",
        "1. Se divide el arreglo de $n$ elementos en dos que contengan $n/2$ elementos.\n",
        "\n",
        "2. Ordena cada sub-arreglo utilizando en cada uno  y de manera recursiva el algoritmo Merge Sort.\n",
        "\n",
        "3. Utiliza una función ***merge*** la cual se encarga de combinar ambos sub-arreglos y dar como resultado el nuevo arreglo con los mismos $n$ elementos pero de manera ordenada."
      ],
      "metadata": {
        "id": "chIfPkf2BbHS"
      }
    },
    {
      "cell_type": "markdown",
      "source": [
        "## 2.3 Ejemplo"
      ],
      "metadata": {
        "id": "lupJG8CPgtQp"
      }
    },
    {
      "cell_type": "markdown",
      "source": [
        "En la siguiente imagen se iluistrará y luego se explicará un ejemplo del uso de Merge Sort para el arreglo `A = [4, 5, 6, 3, 7, 9, 1]`:\n",
        "\n",
        "<a href=\"https://imgur.com/EyB8kK6\"><img src=\"https://i.imgur.com/EyB8kK6.jpg\" title=\"source: imgur.com\" /></a>\n",
        "\n",
        "* **Paso 1:** En este paso se puede apreciar que el arreglo se divide a la mitad. Debido a que es un arreglo de tamaño 7, los sub-arreglos resultantes son de tamaño 3 y 4 respectivamente.\n",
        "\n",
        "* **Paso 2:** Para este paso cada sub-arreglo es dividido en dos también, para el sub-arreglo de la izquierda, de tamaño tres, dan como resultado dos sub- arreglos de tamaño 2 y 1. Mientras que para el de la derecha, quedan dos de 2 elementos cada uno.\n",
        "\n",
        "* **Paso 3:** En este siguiente paso se consigue el primer objetivo principal del Merge Sort, dividir a la mínima capacidad el problema, teniendo finalmnente 7 arreglos de tamaño 1, el cual contiene cada componente del arreglo original.\n",
        "\n",
        "* **Paso 4:** En el paso cuatro es que comienza a funcionar la función ***Merge***, la cual es la encargada de comparar y combinar los componentes de cada sub-arreglo, determinando cuál es el menor de ellos y en base a eso otorgarles una nueva posición en el arreglo resultante.\n",
        "\n",
        "* **Paso 5:** Para este paso es importante observar que los sub arreglos contienen los mismos números que los del paso 2, con la característica que ahora se encuentran ordenados de menor a mayor.\n",
        "\n",
        "* **Paso 6:** En el paso final es que se puede observar cómo queda el arreglo resultante después de aplicar el Merge Sort, teniendo los mismos elementos que el arreglo original pero ordenados de menor a mayor."
      ],
      "metadata": {
        "id": "TvUvIP8mgwmu"
      }
    },
    {
      "cell_type": "markdown",
      "source": [
        "## 2.4 Ejecución del código con opción verbose"
      ],
      "metadata": {
        "id": "aH8E7ZNKkxjd"
      }
    },
    {
      "cell_type": "code",
      "source": [
        "import random\n",
        "\n",
        "A = random.sample(range(1, 100), 7)\n",
        "verbose = True\n",
        "\n",
        "if(verbose == True):\n",
        "\tprint(\"Entrada: \" + \"\\033[31m\" + str(A))\n",
        "\tprint(\"\\033[0m\")\n",
        "else:\n",
        "\tprint(\"Entrada: \", A)\n",
        "\n",
        "Contador1 = 0\n",
        "Contador2 = 0\n",
        "A = MergeSort(A, verbose)\n",
        "\n",
        "if(verbose == True):\n",
        "\tprint(\"Entrada: \" + \"\\033[92m\" + str(A))\n",
        "\tprint(\"\\033[0m\")\n",
        "else:\n",
        "\tprint(\"Entrada: \", A)\n",
        " \n",
        "print(\"Llamadas a Merge Sort: \", Contador1)\n",
        "print(\"Comparaciones en Merge: \", Contador2)"
      ],
      "metadata": {
        "colab": {
          "base_uri": "https://localhost:8080/"
        },
        "id": "CcQhUKuJk2bd",
        "outputId": "c95585a6-e2ae-4d45-b583-fafa8209a701"
      },
      "execution_count": 93,
      "outputs": [
        {
          "output_type": "stream",
          "name": "stdout",
          "text": [
            "Entrada: \u001b[31m[12, 3, 66, 42, 38, 68, 23]\n",
            "\u001b[0m\n",
            "Arreglo izquierdo: \u001b[33m[3]\n",
            "\u001b[0m\n",
            "Arreglo derecho: \u001b[31m[66]\n",
            "\u001b[0m\n",
            "Arreglo resultante: \u001b[34m[3, 66]\n",
            "\u001b[0m\n",
            "Arreglo izquierdo: \u001b[33m[12]\n",
            "\u001b[0m\n",
            "Arreglo derecho: \u001b[31m[3, 66]\n",
            "\u001b[0m\n",
            "Arreglo resultante: \u001b[34m[3, 12, 66]\n",
            "\u001b[0m\n",
            "Arreglo izquierdo: \u001b[33m[42]\n",
            "\u001b[0m\n",
            "Arreglo derecho: \u001b[31m[38]\n",
            "\u001b[0m\n",
            "Arreglo resultante: \u001b[34m[38, 42]\n",
            "\u001b[0m\n",
            "Arreglo izquierdo: \u001b[33m[68]\n",
            "\u001b[0m\n",
            "Arreglo derecho: \u001b[31m[23]\n",
            "\u001b[0m\n",
            "Arreglo resultante: \u001b[34m[23, 68]\n",
            "\u001b[0m\n",
            "Arreglo izquierdo: \u001b[33m[38, 42]\n",
            "\u001b[0m\n",
            "Arreglo derecho: \u001b[31m[23, 68]\n",
            "\u001b[0m\n",
            "Arreglo resultante: \u001b[34m[23, 38, 42, 68]\n",
            "\u001b[0m\n",
            "Arreglo izquierdo: \u001b[33m[3, 12, 66]\n",
            "\u001b[0m\n",
            "Arreglo derecho: \u001b[31m[23, 38, 42, 68]\n",
            "\u001b[0m\n",
            "Arreglo resultante: \u001b[34m[3, 12, 23, 38, 42, 66, 68]\n",
            "\u001b[0m\n",
            "Entrada: \u001b[92m[3, 12, 23, 38, 42, 66, 68]\n",
            "\u001b[0m\n",
            "Llamadas a Merge Sort:  19\n",
            "Comparaciones en Merge:  20\n"
          ]
        }
      ]
    },
    {
      "cell_type": "markdown",
      "source": [
        "Las impresiones en caso de que la opción verbose esté activada ilustran lo que va sucediendo con el arreglo luego de separarlo en arreglos unitarios. Básicamente se muestra la formación progresiva de arreglos de mayor tamaño en los cuales se encuentren con los elementos de los sub-arreglos originales pero con el orden requerido. Mostrando así los elementos a juntar en colores amarillo y rojo respectivamente, seguido por el arreglo resultante del Merge luego de cada paso."
      ],
      "metadata": {
        "id": "uCrzC2a9lTIn"
      }
    },
    {
      "cell_type": "markdown",
      "source": [
        "# 3. Propidades del algoritmo"
      ],
      "metadata": {
        "id": "O7WrlqsOmNM2"
      }
    },
    {
      "cell_type": "markdown",
      "source": [
        "## 3.1Tiempo de ejecución"
      ],
      "metadata": {
        "id": "OF3niKpRgDDp"
      }
    },
    {
      "cell_type": "markdown",
      "source": [
        "Para el tiempo de ejecución de este algoritmo, se debe analizar el comportamiento de este según su entrada, por lo que tenemos la siguiente representación:\n",
        "\n",
        "\\begin{equation}\n",
        "T(n) = \\begin{cases}\n",
        "  O(1)  & N \\text{es 1} \\\\\n",
        "  2T(n/2) + O(n) & \\text{N mayores a 1}\n",
        "\\end{cases}\n",
        "\\end{equation}\n",
        "\n",
        "Lo que quiere decir esto es que Merge Sort se comporta de dos maneras dependiendo del tamaño de su entrada. Por un lado si el arreglo a ordenar es de tamaño 1, se retorna el mismo arreglo, lo cual tiene una complejidad constante $O(1)$. Para todos los otros casos, el algoritmo al ser recursivo crea dos arreglos de tamaño $n \\above 1pt 2$ a los cuales se les aplicará también el mismo algoritmo, estos se combinarán mediante la función Merge que tiene una complejidad lineal $O(n)$, mientras que el hecho de la división del arreglo en dos tiene también una complejidad $O(1)$.\n",
        "\n",
        "Bajo esta primicia se puede aramar un árbol de recursión para calcular el tiempo de ejecución, el cual quedaría de la siguiente manera.\n",
        "\n",
        "<a href=\"https://imgur.com/QELlsUO\"><img src=\"https://i.imgur.com/QELlsUO.jpg\" title=\"source: imgur.com\" /></a>\n",
        "\n",
        "Se observa que por cada nivel, la suma de las complejidades temporales viene dada por el *Merge* de los componentes, por lo cual el resultado para cada nivel siempre es $n$. Teniendo lo anterior en cuenta, se debe multiplicar la complejidad de cada nivel por la altura del árbol, el cual al ser binario corresponde a $\\log_{2}(n)$. Realizando la operación correspondiente tenemos que la complejidad temporal para el algoritmo Merge Sort corresponde a $O(n \\log(n))$."
      ],
      "metadata": {
        "id": "JPt5dd97mRGw"
      }
    },
    {
      "cell_type": "markdown",
      "source": [
        "## 3.2 Correctitud"
      ],
      "metadata": {
        "id": "veB1VpruTZTd"
      }
    },
    {
      "cell_type": "markdown",
      "source": [
        "### **3.2.1 Teorema  de correctitud de función Merge**\n",
        "\n",
        "El algoritmo Merge, luego de ser aplicado en dos sub-arreglos del orden $[a_1,a_2, \\ldots ,a_n]$ y $[b_1,b_2, \\ldots ,b_n]$ , genera un nuevo arreglo $[a_1',a_2', \\ldots ,a_n']$ el cual cumple las condiciones de tener los mismos elementos de los sub-arreglos y estar ordenado de **menor a mayor**, es decir $a_1' \\leq a_2' \\leq \\ldots \\leq a_n'$ \n",
        "\n",
        "### **Prueba del teorema**\n",
        "\n",
        "* **Propiedad invariante de bucle**: En cada iteración, se tienen i elementos ordenados pertenecientes al arreglo resultante, los cuales corresponden a los menores elementos de los sub arreglos originales.\n",
        "\n",
        "**Inicialización**\n",
        "\n",
        "Para la primera iteración, los sub arreglos que se utilizan para hacer el merge contienen solo un elemento cada uno, por lo que trivialmente están ordenados y son los elementos de menor valor de los respectivos sub arreglos originales, estos son los elementos que compondrán entonces al arreglo resultante.\n",
        "\n",
        "* **Imagen de explicación de la inicialización:**\n",
        "\n",
        "<a href=\"https://imgur.com/DbtksQc\"><img src=\"https://i.imgur.com/DbtksQc.jpg\" title=\"source: imgur.com\" /></a>\n",
        "\n",
        "**Mantención**\n",
        "\n",
        "Para la mantención se debe analizar lo que ocurre con la i-ésima iteración. En este caso, se asume que los dos sub-arreglos ya están ordenados. Teniéndo en cuenta esto, se recorre cada sub-arreglo, y los elementos de cada uno se comparan, determinando en base a esto sus nuevas posiciones en el arreglo resultante, de esta manera, se asegura que en el nuevo arreglo se insertarán de menor a mayor y por consiguiente el arreglo generado también estará ordenado.\n",
        "\n",
        "* **Imagen de explicación de la mantención:**\n",
        "\n",
        "<a href=\"https://imgur.com/0GAh6ke\"><img src=\"https://i.imgur.com/0GAh6ke.jpg\" title=\"source: imgur.com\" /></a>\n",
        "\n",
        "En la anterior imagen podemos ver que los sub-arreglos A y B que están previametne ordenados se recorren desde el inicio hasta el final, comparando así sus elementos para luego ser insertados en el nuevo arreglo ordenado.\n",
        "\n",
        "Nótese que si por ejemplo, se llegase a insertar el último elemento de A, el resto de elementos en B que quedaron por comparar se agregarán automáticamente al final de C.\n",
        "\n",
        "Al comprobar que esta propiedad se cumple al inicio del algoritmo y durante la iteración *i-ésima*, se asume que para el último elemento la propiedad **invariante del bucle** se sigue cumpliendo y por ende queda demostrada.\n",
        "\n"
      ],
      "metadata": {
        "id": "IWSzI4jZTeMh"
      }
    },
    {
      "cell_type": "markdown",
      "source": [
        "### **3.2.2 Teorema  de correctitud de algoritmo Merge Sort**\n",
        "\n",
        "El algoritmo Merge Sort, luego de ser aplicado en un arreglo del orden $[a_1,a_2, \\ldots ,a_n]$, genera un nuevo arreglo $[a_1',a_2', \\ldots ,a_n']$ el cual cumple las condiciones de tener los mismos elementos del arreglo original, pero ordenados de **menor a mayor**, es decir $a_1' \\leq a_2' \\leq \\ldots \\leq a_n'$ \n",
        "\n",
        "### **Prueba del teorema**\n",
        "\n",
        "Debido a que Merge Sort es un algoritmo recursivo, para la prueba de este segundo teorema se hará uso del método de inducción matemática, el cual consiste en demostrar que una propoisición $P(n)$ se cumple para todos los números $n$. Para esto se deben aplicar los siguientes puntos:\n",
        "\n",
        "1. Probar que $P(n)$ se cumple para un caso base.\n",
        "2. Probar que si $P(k)$ es verdadera, entonces también se cumple para $P(k+1)$\n",
        "\n",
        "### **Caso base**\n",
        "\n",
        "El caso base es para cuando $n=1$, es decir Merge Sort se aplica para un arreglo con tan solo un elemento, en este caso el algoritmo retorna el mismo arreglo con su elemento y este por ende se encuentra ordenado, el algoritmo entonces funciona correctamente.\n",
        "\n",
        "### **Paso inductivo**\n",
        "\n",
        "Para este caso se asume que la propiedad de Merge Sort se cumple para todos los elementos menores o iguales a $k$. Luego observamos que para una entrada $k+1$, tenemos que el algoritmo genera dos sub-arreglos de tamaño $k+1 \\above 1pt 2$ cada uno. Teniendo en cuenta lo mencionado al principio del paso inductivo y gracias a que $k+1 \\above 1pt 2$ $\\leq k$, se puede asegurar que la propiedad se cumple también para $k+1$.\n",
        "\n",
        "Es importante recalcar que el algoritmo Merge Sort hace uso de la función Merge, de la cual su correctitud ya ha sido comprobada. Esta es finalmente la que junta ambos sub-arreglos ordenados en uno solo con los elementos del arreglo original, completando así la correctitud del algoritmo."
      ],
      "metadata": {
        "id": "tJDa10Nfw1d6"
      }
    },
    {
      "cell_type": "markdown",
      "source": [
        "# 4. Experimentos"
      ],
      "metadata": {
        "id": "N14_QSBIgUUe"
      }
    },
    {
      "cell_type": "code",
      "source": [
        "def insertionSort(array, verbose = False): #Argumentos: El arreglo a ordenar + opción verbose para ver el paso a paso\n",
        "  if verbose == True:\n",
        "    print(\"\\n\")\n",
        "\n",
        "  comp = 0 #comparaciones\n",
        "  permut = 0 #permutaciones\n",
        "\n",
        "  for i in range (1,len(array)): #Ciclo más grande, es el que realiza cada paso del algoritmo\n",
        "    key = array[i] #Se guarda número a ubicar\n",
        "    j = i-1\n",
        "\n",
        "    if verbose == True:\n",
        "      print(\"Pasada\", i)\n",
        "      print(\"arreglo al inicio:\", array)\n",
        "      print(\"Número a posicionar:\", array[i])\n",
        "\n",
        "    while 1:\n",
        "      comp += 1\n",
        "      if j >= 0 and key < array[j]:\n",
        "        permut+=1\n",
        "        #Si el número es mayor al de su izquierda, se intercambian de posición entre ellos\n",
        "        array[j+1] = array[j]\n",
        "        array[j] = key\n",
        "        j-=1 #Se modifica variable j para seguir recorriendo el arreglo hacia la izquierda hasta llegar a la posición 0\n",
        "      else:\n",
        "        break #De no ser necesario una permutación, se sigue avanzando para el siguiente número\n",
        "    \n",
        "    if verbose == True:\n",
        "      print(\"Partes ordenadas del arreglo luego de permutar:\")\n",
        "      print(\"[\", end = '')\n",
        "\n",
        "      for k in range(0, i): #Coloreado del arreglo para una mejor comprensión de este\n",
        "        print(\"\\033[92m\" + str(array[k]) + \", \", end = '')\n",
        "      for l in range(i, len(array)):\n",
        "        if(l != len(array)-1):\n",
        "          print(\"\\033[0m\" + str(array[l]) + \", \", end = '')\n",
        "        else:\n",
        "          print(\"\\033[0m\" + str(array[l]), end = '')\n",
        "\n",
        "      print(\"]\\n\")\n",
        "\n",
        "  return comp, permut"
      ],
      "metadata": {
        "id": "dI0U8GPlSpP4"
      },
      "execution_count": 94,
      "outputs": []
    },
    {
      "cell_type": "markdown",
      "source": [
        "## 4.1 Mejor y peor caso\n",
        "\n",
        "Para el primer experimento, se estudiarán la cantidad de comparaciones realizadas en el mejor y peor caso posible para el algoritmo.\n",
        "\n",
        "Es importante recalcar que el mejor caso de este algoritmo y el peor caso son de cierta forma \"relativos\", ya que ambos tienen exactamente la misma complejidad $O(n \\log(n))$. Esto es debido a que en ambos casos el algoritmo desarma el arreglo y luego lo vuelve a combinar comparando los elementos entre sí, no existe una comprobación de orden previa a la división."
      ],
      "metadata": {
        "id": "3Cf3onG7gZnj"
      }
    },
    {
      "cell_type": "code",
      "source": [
        "import matplotlib.pyplot as plt\n",
        "import math\n",
        "\n",
        "x=[n for n in range(5,20)] \n",
        "y1=[(n * math.log2(n)) for n in range(5,20)] # worst case\n",
        "y2=[(n * math.log2(n)) for n in range(5,20)] # best case\n",
        "y=[]; \n",
        "\n",
        "for n in range(5,20):\n",
        "  a = random.sample(range(1, 100), n)\n",
        "  Contador2 = 0\n",
        "  a = MergeSort(a)\n",
        "  y.append(Contador2)\n",
        "\n",
        "plt.plot(x,y)\n",
        "plt.plot(x,y1)\n",
        "plt.plot(x,y2)\n",
        "plt.legend([\"MergeSort\", \"Peor caso\", \"Mejor caso\"])\n",
        "\n",
        "plt.xlabel('Tamaño del problema')\n",
        "plt.ylabel('Número de comparaciones')\n",
        "plt.show()"
      ],
      "metadata": {
        "colab": {
          "base_uri": "https://localhost:8080/",
          "height": 279
        },
        "id": "MbtpbKAOhEia",
        "outputId": "29679145-5b01-48d1-8136-16b5964f0448"
      },
      "execution_count": 95,
      "outputs": [
        {
          "output_type": "display_data",
          "data": {
            "text/plain": [
              "<Figure size 432x288 with 1 Axes>"
            ],
            "image/png": "[encoded data removed]"
          },
          "metadata": {
            "needs_background": "light"
          }
        }
      ]
    },
    {
      "cell_type": "markdown",
      "source": [
        "## 4.2 Comparación con Insertion Sort"
      ],
      "metadata": {
        "id": "shXnkOKwb2SZ"
      }
    },
    {
      "cell_type": "markdown",
      "source": [
        "### **Análisis de resultados**\n",
        "\n",
        "Para la primera gráfica se muestra la relación entre el tamaño $n$ del problema y la cantidad de comparaciones realizadas por el algoritmo, junto con las comparaciones calculadas de forma matemática para mejor y el peor caso. Como se mencionó anteriormente, el mejor y peor caso comparten la misma complejidad temporal por lo cual su gráfica es la misma. Por otro lado el Merge Sort implementado en este informe se acerca bastante a las estimaciones correspondientes, lo cual ayuda a reafirmar el correcto funcionamiento del algoritmo."
      ],
      "metadata": {
        "id": "3h2eU-Qdonf0"
      }
    },
    {
      "cell_type": "code",
      "source": [
        "import matplotlib.pyplot as plt\n",
        "import datetime\n",
        "from timeit import repeat\n",
        "\n",
        "x = []; y1 = [] ; y2 = []\n",
        "\n",
        "for n in range(5,500):\n",
        "\n",
        "  a = random.sample(range(1, 1000), n)\n",
        "\n",
        "  #la función repeat está ejecutando 20 veces InsertionSort con el arreglo a y retorna el mejor tiempo obtenido.\n",
        "  t = repeat(setup=\"from __main__ import insertionSort\", stmt=f\"insertionSort({a})\", repeat=1, number=10)\n",
        "\n",
        "  k = repeat(setup=\"from __main__ import MergeSort\", stmt=f\"MergeSort({a})\", repeat=1, number=10)\n",
        "\n",
        "  x.append(n)\n",
        "  y1.append(k)\n",
        "  y2.append(t)\n",
        "\n",
        "\n",
        "plt.plot(x,y1)\n",
        "plt.plot(x,y2)\n",
        "plt.legend([\"Merge Sort\", \"Insertion Sort\"])\n",
        "\n",
        "plt.xlabel('n')\n",
        "plt.ylabel('time in ms')\n",
        "plt.show()"
      ],
      "metadata": {
        "colab": {
          "base_uri": "https://localhost:8080/",
          "height": 279
        },
        "id": "JxyXWY0a8QTc",
        "outputId": "0723859e-85be-4afe-b7fa-3b0df5e0ff81"
      },
      "execution_count": 91,
      "outputs": [
        {
          "output_type": "display_data",
          "data": {
            "text/plain": [
              "<Figure size 432x288 with 1 Axes>"
            ],
            "image/png": "[encoded data removed]"
          },
          "metadata": {
            "needs_background": "light"
          }
        }
      ]
    },
    {
      "cell_type": "markdown",
      "source": [
        "Luego de analizar ambos gráficos, se puede ver que a pesar de ciertos picos de rendimiento (los cuales luego de varias ejeciones del mismo código se llegó a la conclusión que se debía a anomalías del procesador), el algoritmo Merge Sort presenta un crecimiento más lento a comparación del Insertion Sort dependiendo del tamaño del problema. Luego en tamaños muy grandes el Insertion Sort se comporta mucho más lento que el Merge Sort.\n",
        "\n",
        "Lo anteriormente descrito se podría considerar dentro de lo esperable debido a las complejidades temporales teóricas de ambos algoritmos ($O(n^2)$ para el Insertion y $O(n\\log(n))$ para el Merge). Siendo el Merge Sort el de menor requerimiento en tiempo, y el más estable a lo largo de las pruebas, debido a que presenta una menor cantidad de fluctuaciones a lo largo de su gráfica a comparación del Insertion Sort."
      ],
      "metadata": {
        "id": "rrM6WU11AuPa"
      }
    }
  ]
}