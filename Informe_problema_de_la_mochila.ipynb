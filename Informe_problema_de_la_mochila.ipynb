{
  "nbformat": 4,
  "nbformat_minor": 0,
  "metadata": {
    "colab": {
      "provenance": [],
      "collapsed_sections": [
        "qYLJrGKFsdJB",
        "O7WrlqsOmNM2",
        "N14_QSBIgUUe"
      ]
    },
    "kernelspec": {
      "name": "python3",
      "display_name": "Python 3"
    },
    "language_info": {
      "name": "python"
    }
  },
  "cells": [
    {
      "cell_type": "markdown",
      "source": [
        "# 1. Descripción del problema"
      ],
      "metadata": {
        "id": "ys2SqerWtrgy"
      }
    },
    {
      "cell_type": "markdown",
      "source": [
        "El problema a tratar en este informe es un problema de optimización llamado **el problema de la mochila**. Para entenderlo mejor hay que hacer de cuenta de que se es un ladrón, el cual tiene la libertad de robar una cierta cantidad de objetos que tienen un valor y peso asociados, sin embargo estos deben ser guardados en una mochila, la cual soporta un peso máximo total dentro de ella. Así, el problema se reduce a maximizar la ganancia que se puede conseguir con una combinación de objetos $n_{i'}$ de valores $v_{i'}$ y pesos $p_{i'}$ que deben ir dentro de una mochila de peso máximo $P$.\n",
        "\n",
        "**Entrada:** lista de objetos de tamaño $n$ en la cual cada elemento $i$ tiene asociado un valor $v_i$ y un peso $p_i$.\n",
        "\n",
        "**Salida**: Valor máximo posible de ganancia obtenida $G$.\n",
        "\n",
        "**Tamaño del problema:** El tamaño para este problema viende definido por la cantidad de objetos que se pueden elegir, debido a que mientras más objetos, mayor cantidad de combinaciones posibles y por ende más grande el problema.\n",
        "\n",
        "<a href=\"https://imgur.com/pp79bkt\"><img src=\"https://i.imgur.com/pp79bkt.jpg\" title=\"source: imgur.com\" /></a>\n",
        "\n",
        "A lo largo de este informe, se revisarán dos opciones de algoritmo para llegar a la solución final esperada. En primer lugar una opción mediante un algoritmo de **programación dinámica bottom-up**, y en segundo, un algoritmo de programación dinámica también pero que utiliza la variante de **elección greedy**."
      ],
      "metadata": {
        "id": "r7Vhn5P9uU07"
      }
    },
    {
      "cell_type": "markdown",
      "source": [
        "# 2. Algoritmos\n"
      ],
      "metadata": {
        "id": "15etIsSS32ep"
      }
    },
    {
      "cell_type": "markdown",
      "source": [
        "## 2.1 Opción bottom-up"
      ],
      "metadata": {
        "id": "tkaX9fGbBQp3"
      }
    },
    {
      "cell_type": "markdown",
      "source": [
        "### 2.1.1 Descripción"
      ],
      "metadata": {
        "id": "b5jHhLjqrg-d"
      }
    },
    {
      "cell_type": "markdown",
      "source": [
        "Esta opción, de manera parecida a otros algoritmos que se han revisado, utiliza la programación dinámica **bottom-up** para resolver el problema, es decir que resuelve los sub-problemas de menor tamaño de manera óptima, y a raíz de sus resultados va armando una solución final también óptima.\n",
        "\n",
        "El algoritmo finalmente lo que debe hacer es ir probando las combinaciones de objetos y elegir la mejor, es por esto que debe tomar en cada iteración de este la decisión de ingresar o no un objeto a la mochila dependiendo de su peso y valor.\n",
        "\n",
        "Es así como la **subestructura óptima** de este problema es la siguiente:\n",
        "\n",
        "<a href=\"https://imgur.com/OjTUBHd\"><img src=\"https://i.imgur.com/OjTUBHd.jpg\" title=\"source: imgur.com\" /></a>\n",
        "\n",
        "La función de recurrencia que utiliza el algoritmo es de la siguiente manera:\n",
        "\n",
        "\\begin{equation}\n",
        "V(i,p) = \\begin{cases}\n",
        "  0  & \\text{si } n = 0 \\text { ó } P = 0\\\\\n",
        "  V(i-1,p) & \\text {si } p_i > P \\\\\n",
        "  max(V(i-1,p), v_i + V(i-1, P-p_i)) & \\text{si } p_i \\leq P\n",
        "\\end{cases}\n",
        "\\end{equation}\n",
        "\n",
        "Esto quiere decir que el algoritmo tiene tres tipos de comportamiento según su entrada. Por un lado, si se tienen 0 objetos a elegir, o el peso máximo de la mochila es $0$ se retornará el valor $0$, este sería nuestro caso base.\n",
        "\n",
        "También que en caso de querer insertar un objeto  de peso mayor a $P$ (peso máximo soportado por la mochila), se retornará el valor máximo conseguido en la iteración anterior, la cual no considera el objeto que se quiere ingresar.\n",
        "\n",
        "Finalmente, en caso de que el peso del objeto sí pueda ser soportado por la mochila, se debe elegir el máximo valor entre:\n",
        "\n",
        "1. El valor máximo encontrado hasta ahora, sin contar el valor ni peso del objeto $i$.\n",
        "\n",
        "2. La suma del valor del objeto más el máximo valor posible a conseguir con el peso restante que puede soportar la mochila.\n",
        "\n",
        "Este algoritmo consigue este funcionamiento mediante la creación de una matriz auxiliar `M[][]` las columnas de esta matriz representarán todos los pesos desde $0$ hasta $P$, mientras que en las filas se encontrarán los pesos respectivos de cada objeto.\n",
        "\n",
        "Es así como en cada posición `M[i][j]` se guardará el máximo valor posible para un peso $j$, habiendo considerado todos los objetos seleccionables desde $0$ hasta $i$.\n",
        "\n",
        "Finalmente la tabla se irá llenando por filas, decidiendo si agregar o no el objeto $i$ en la columna $j$, sumándolo así con el valor calculado en la fila anterior en esa columna o no.\n",
        "\n",
        "Se retornará en última instancia el elemento en la posición `M[n][P]`, el cual será el último elemento añadido a la tabla, y corresponde al máximo valor para un tamaño $P$ habiendo considerado todas las opciones que consideren agregar o no a los $n$ elementos seleccionables."
      ],
      "metadata": {
        "id": "9CKYdS_E_FlZ"
      }
    },
    {
      "cell_type": "markdown",
      "source": [
        "### 2.1.2 Código"
      ],
      "metadata": {
        "id": "tJ9pfHUE_AZB"
      }
    },
    {
      "cell_type": "code",
      "source": [
        "def knapSack(pesoMax, pesos, valores, n, verbose = False):\n",
        "\tK = [[0 for x in range(pesoMax + 1)] for x in range(n + 1)]   #Matriz auxiliar\n",
        "\t\t\t\t\t\t\t\t\t\t\t\t\t\t\t\t\t\t\t\t\t\t\t\t\t\t\t\t\t\t\t\t\t#Filas: objetos/pesos seleccionables Columnas: pesos posible\n",
        "\tpesoTot = 0\n",
        "\tsubProblemas = 0\n",
        "\n",
        "\tfor i in range(n + 1):  #Se recorre cada fila\n",
        "\t\tif verbose == True and i != 0:\n",
        "\t\t\tprint(\"\\033[31m\" + \"Calculando opciones para el objeto \" + str(i) + \": \" + \"\\033[0m\")\n",
        "\n",
        "\t\tfor j in range(pesoMax + 1): #Se recorre cada columna\n",
        "\t\t\tif i == 0 or j == 0:\n",
        "\t\t\t\tK[i][j] = 0 #Se coloca un 0 en caso de que alguno de los dos pesos sea nulo\n",
        "\n",
        "\t\t\telif pesos[i-1] <= j:  #Si el objeto es soportado por la mochila, se calcula el máximo de los valores posibles\n",
        "\t\t\t\tif verbose == True and pesos[i-1] == j:\n",
        "\t\t\t\t\tprint(\"Peso máximo soportado: \" + \"\\033[31m\" + str(j) + \"\\033[0m\")\n",
        "\t\t\t\t\tprint(\"Valor máximo calculado anteriormente: \" + \"\\033[34m\" + str(K[i-1][j]) + \"\\033[0m\")\n",
        "\t\t\t\t\tprint(\"Valor máximo conseguido agregando el objeto \" + str(i) + \"(\" + str(j) + \")\" + \": \\033[33m\" + str(valores[i-1] + K[i-1][j-pesos[i-1]]) + \"\\033[0m\")\n",
        "\t\t \n",
        "\t\t\t\tK[i][j] = max(valores[i-1] + K[i-1][j-pesos[i-1]], K[i-1][j])\n",
        "\t\t\t\tsubProblemas += 1\n",
        "\t\t\n",
        "\t\t\t\tif K[i][j] == valores[i-1] + K[i-1][j-pesos[i-1]] and pesos[i-1] == j:\n",
        "\t\t\t\t\tpesoTot = pesos[i-1] + pesoMax - pesos[i-1]\n",
        "\n",
        "\t\t\t\tif verbose == True and pesos[i-1] == j:\n",
        "\t\t\t\t\tprint(\"Valor máximo a guardar: \" + \"\\033[35m\" + str(K[i][j]) + \"\\033[0m\");\n",
        "\n",
        "\t\t\telse:\n",
        "\t\t\t\tK[i][j] = K[i-1][j]  #Se retorna el valor conseguido en la iteración anterior en caso de que el objeto no pueda entrar en la mochila\n",
        " \n",
        "\tif verbose == True:\n",
        "\t\tprint(\"Se retorna finalmente valor máximo: \" + \"\\033[92m\" + str(K[n][pesoMax]) + \"\\033[0m con peso: \\033[92m\" + str(pesoTot) + \" \\033[0m\")\n",
        "\treturn K[n][pesoMax], subProblemas   #Se retorna el último elemento de la tabla, el cual corresponde al máximo valor posible \n",
        " \n",
        "valores = [60, 100, 120]\n",
        "pesos = [10, 20, 30]\n",
        "pesoMax = 50\n",
        "n = len(valores)\n",
        "valMax, sub = knapSack(pesoMax, pesos, valores, n)\n",
        "print(\"El valor máximo posible para\", pesoMax, \"es:\", valMax)"
      ],
      "metadata": {
        "colab": {
          "base_uri": "https://localhost:8080/"
        },
        "id": "TeFqDcQwBWOs",
        "outputId": "3c5acfc3-9f1f-43b8-de45-f0dc7d2ea9d1"
      },
      "execution_count": 3,
      "outputs": [
        {
          "output_type": "stream",
          "name": "stdout",
          "text": [
            "El valor máximo posible para 50 es: 220\n"
          ]
        }
      ]
    },
    {
      "cell_type": "markdown",
      "source": [
        "Las variables relevantes son:\n",
        "\n",
        "* `valores`, lista de valores de cada objeto.\n",
        "* `pesos`, lista de pesos de cada objeto.\n",
        "* `pesoMax`, máximo peso soportado por la mochila.\n",
        "* `n` largo de la lista de objetos.\n",
        "* `i` y `j`, variables que servirán para recorrer la matriz e ir guardando valores."
      ],
      "metadata": {
        "id": "t9B6CNfIhNwA"
      }
    },
    {
      "cell_type": "markdown",
      "source": [
        "### 2.1.3 Ejemplo"
      ],
      "metadata": {
        "id": "-Qb5U4QGZ4aU"
      }
    },
    {
      "cell_type": "markdown",
      "source": [
        "Para el ejemplo utilizado en el código anteriormente mencionado, se entrega a la función una lista de valores `[60, 100, 120]`, compuesta por $3$ valores, sumado a esto, se entrega una lista de pesos de cada objeto `[10, 20, 30]`. Cabe recalcar que cada valor `valores[i]` de la lista, está relacionado con cada peso `pesos[i]` de la segunda lista. Finalmente se entrega el peso máximo soportado por la mochila el cual es `pesoMax = 50`.\n",
        "\n",
        "Así, el algoritmo nos retorna que el valor máximo posible que se puede conseguir como beneficio es de $220$. Se puede también deducir que los objetos que se encontrarán dentro de la mochila son el objeto $2$ y $3$.\n",
        "\n",
        "<a href=\"https://imgur.com/CY3WQ0F\"><img src=\"https://i.imgur.com/CY3WQ0F.jpg\" title=\"source: imgur.com\" /></a>\n",
        "\n",
        "Adicionalmente, se muestra a continuación una imagen adaptada de cómo queda dispuesta la matriz K con los valores máximos a conseguir con un determinado peso:\n",
        "\n",
        "<a href=\"https://imgur.com/poqs4NE\"><img src=\"https://i.imgur.com/poqs4NE.jpg\" title=\"source: imgur.com\" /></a>\n",
        "\n",
        "En la imagen se puede observar el comportamiento del llenado de la matriz, es así como cuando por ejemplo, si se analiza la fila $1$, se ve cómo para el peso $10$ en adelante, el máximo valor que se puede conseguir es $60$, esto es porque solo podemos considerar añadir el objeto $1$, o en caso contrario no agregar ningún objeto.\n",
        "\n",
        "Finalmente se observa en la fila 3 cómo el algoritmo decide la mejor de las opciones según el peso máximo dado, es así como para un peso máximo de $30$, no selecciona al objeto $3$, sino que elije la combinación de los objetos $1$ y $2$, cuyo peso es el mismo, pero tienen en conjunto un valor de $160$."
      ],
      "metadata": {
        "id": "BJp2sqg0Z89e"
      }
    },
    {
      "cell_type": "markdown",
      "source": [
        "### 2.1.4 Ejecución del código con opción verbose"
      ],
      "metadata": {
        "id": "c9NQXAueAJMr"
      }
    },
    {
      "cell_type": "code",
      "source": [
        "valores = [60, 100, 120]\n",
        "pesos = [10, 20, 30]\n",
        "pesoMax = 50\n",
        "n = len(valores)\n",
        "print(knapSack(pesoMax, pesos, valores, n, True))"
      ],
      "metadata": {
        "id": "L2G-KznhANmv",
        "colab": {
          "base_uri": "https://localhost:8080/"
        },
        "outputId": "f1dc6480-ecae-45f1-d603-427a990ca87e"
      },
      "execution_count": 7,
      "outputs": [
        {
          "output_type": "stream",
          "name": "stdout",
          "text": [
            "\u001b[31mCalculando opciones para el objeto 1: \u001b[0m\n",
            "Peso máximo soportado: \u001b[31m10\u001b[0m\n",
            "Valor máximo calculado anteriormente: \u001b[34m0\u001b[0m\n",
            "Valor máximo conseguido agregando el objeto 1(10): \u001b[33m60\u001b[0m\n",
            "Valor máximo a guardar: \u001b[35m60\u001b[0m\n",
            "\u001b[31mCalculando opciones para el objeto 2: \u001b[0m\n",
            "Peso máximo soportado: \u001b[31m20\u001b[0m\n",
            "Valor máximo calculado anteriormente: \u001b[34m60\u001b[0m\n",
            "Valor máximo conseguido agregando el objeto 2(20): \u001b[33m100\u001b[0m\n",
            "Valor máximo a guardar: \u001b[35m100\u001b[0m\n",
            "\u001b[31mCalculando opciones para el objeto 3: \u001b[0m\n",
            "Peso máximo soportado: \u001b[31m30\u001b[0m\n",
            "Valor máximo calculado anteriormente: \u001b[34m160\u001b[0m\n",
            "Valor máximo conseguido agregando el objeto 3(30): \u001b[33m120\u001b[0m\n",
            "Valor máximo a guardar: \u001b[35m160\u001b[0m\n",
            "Se retorna finalmente valor máximo: \u001b[92m220\u001b[0m con peso: \u001b[92m50 \u001b[0m\n",
            "220\n"
          ]
        }
      ]
    },
    {
      "cell_type": "markdown",
      "source": [
        "Para la ejecución del verbose, se imprime por pantalla el mayor valor encontrado considerando todas las combinaciones posibles hasta el objeto. Es así como se observa cómo se compara el valor considerando o no el objeto y se guarda el mayor entre estos dos. \n",
        "\n",
        "Finalmente en verde se resalta el valor máximo encontrado, junto con el peso total de la combinación, esto es para que se pueda tener ciertas luces con respecto a qué objetos son los que componen el valor máximo encontrado."
      ],
      "metadata": {
        "id": "uCrzC2a9lTIn"
      }
    },
    {
      "cell_type": "markdown",
      "source": [
        "## 2.2 Opción algoritmo greedy\n",
        "\n"
      ],
      "metadata": {
        "id": "22CyMFk__bYn"
      }
    },
    {
      "cell_type": "markdown",
      "source": [
        "### 2.2.1 Descripción\n",
        "\n"
      ],
      "metadata": {
        "id": "qXRdj8Qxrbzr"
      }
    },
    {
      "cell_type": "markdown",
      "source": [
        "Para esta opción, se aplicará el paradigma de **algoritmos greedy**, esta forma de diseñar algoritmos sigue los principios de la programación dinámica, en el sentido de que particiona el problema original en sub-problemas que se pueden resolver individualmente para llegar a la solución final, sin embargo este tipo de algoritmos no calculan necesariamente todas las opciones/sub-problemas, sino que elijen con un cierto criterio un sub-problema a resolver, para así terminar resolviendo el resto del problema.\n",
        "\n",
        "Los algoritmos greedy constan de dos elementos principales:\n",
        "\n",
        "1. Una elección greedy\n",
        "\n",
        "2. Una subestructura óptima\n",
        "\n",
        "Se espera que combinando estos dos elementos, se llegue a una solución óptima, pero es importante recalcar que los algoritmos greedy **no aseguran** que la solución a la que se llegue sea la más óptima para el problema en cuestión.\n",
        "\n",
        "Para este problema en particular, la estrategia para realizar la elección greedy es basar la elección de cada objeto en su beneficio de valor por unidad de peso, es decir $v_i \\above 1 pt p_i$.\n",
        "\n",
        "De esta manera, el algoritmo calculará estos valores para cada objeto, y los insertará de manera ordenada **descendente** en un arreglo auxiliar. A continuación de esto, se asumirá que el primer objeto de este arreglo será el que dará un mayor beneficio, por lo cual se agregará a la mochila en primer lugar. \n",
        "\n",
        "De quedar aún espacio suficiente para insertar otro objeto en la mochila, se procederá a insertar el siguiente elemento del arreglo, y así sucesivamente hasta que no quede peso suficiente para que otro objeto entre a la mochila."
      ],
      "metadata": {
        "id": "chIfPkf2BbHS"
      }
    },
    {
      "cell_type": "markdown",
      "source": [
        "### 2.2.2 Código"
      ],
      "metadata": {
        "id": "K3RrYdbDuHhg"
      }
    },
    {
      "cell_type": "code",
      "source": [
        "import operator\n",
        "\n",
        "def knapSackDin (pesoMax, pesos, valores, n, verbose = False):\n",
        "  ratio = {}\n",
        "  iter = 0\n",
        "\n",
        "  for i in range (n):\n",
        "    iter += 1\n",
        "    r = valores[i]/pesos[i]\n",
        "    ratio[i] = r\n",
        "\n",
        "  ratio = sorted(ratio.items(), key = operator.itemgetter(1), reverse = True)\n",
        "\n",
        "  if verbose == True:\n",
        "    pesoAux = pesoMax\n",
        "    for key in enumerate(ratio):\n",
        "      print(\"Objeto: \\033[34m\" + str(key[1][0]) +  \"\\033[0m tiene un valor por unidad de peso de: \\033[33m\" + str(key[1][1]) + \"\\033[0m\")\n",
        "  maxValor = 0\n",
        "\n",
        "  for key in enumerate(ratio):\n",
        "    iter += 1\n",
        "\n",
        "    if pesos[key[1][0]] <= pesoMax:\n",
        "\n",
        "      if verbose == True:\n",
        "        print(\"Se agrega el objeto: \\033[34m\" + str(key[1][0]) + \"\\033[0m con valor: \\033[35m\" + str(valores[key[1][0]]) + \"\\033[0m y peso: \\033[31m\" + str(pesos[key[1][0]]) + \"\\033[0m\")\n",
        "        print(\"Peso restante: \\033[32m\" + str(pesoMax) + \"\\033[0m\")\n",
        "\n",
        "      maxValor += valores[key[1][0]]\n",
        "      pesoMax -= pesos[key[1][0]]\n",
        "\n",
        "  if verbose == True:\n",
        "    print(\"Se retorna finalmente valor máximo: \" + \"\\033[92m\" + str(maxValor) + \"\\033[0m con peso: \\033[92m\" + str(pesoAux - pesoMax) + \" \\033[0m\")\n",
        "\n",
        "  return maxValor, iter\n",
        "\n",
        "valores = [60, 100, 120]\n",
        "pesos = [10, 20, 30]\n",
        "pesoMax = 50\n",
        "n = len(valores)\n",
        "valMax, sub = knapSackDin(pesoMax, pesos, valores, n)\n",
        "print(\"El valor máximo posible para\", pesoMax, \"es:\", valMax)"
      ],
      "metadata": {
        "colab": {
          "base_uri": "https://localhost:8080/"
        },
        "id": "nclEdP0kuK3l",
        "outputId": "d88bbfff-2e97-463a-db8c-1a9b6075e75c"
      },
      "execution_count": 4,
      "outputs": [
        {
          "output_type": "stream",
          "name": "stdout",
          "text": [
            "El valor máximo posible para 50 es: 160\n"
          ]
        }
      ]
    },
    {
      "cell_type": "markdown",
      "source": [
        "Las variables relevantes son:\n",
        "\n",
        "* `ratio`: Que es el arreglo donde se guardan los valores de valor/peso obtenidos para cada objeto.\n",
        "* `maxValor`: Almacena el máximo valor encontrado.\n",
        "* `key`: Es importante recalcar que para esta opción se utiliza un diccionario, en el cual cada ratio encontrado se asocia al índice del objeto en cuestión, de esta manera esta variable se encarga de acceder a la clave de nuestro diccionario, y en base a eso recorrer las listas de valores y pesos de los objetos."
      ],
      "metadata": {
        "id": "un08FhAHiY7a"
      }
    },
    {
      "cell_type": "markdown",
      "source": [
        "### 2.2.3 Ejemplo"
      ],
      "metadata": {
        "id": "lupJG8CPgtQp"
      }
    },
    {
      "cell_type": "markdown",
      "source": [
        "El ejemplo utilizado es el mismo mostrado anteriormente:\n",
        "\n",
        "<a href=\"https://imgur.com/YAAeHoH\"><img src=\"https://i.imgur.com/YAAeHoH.jpg\" title=\"source: imgur.com\" /></a>"
      ],
      "metadata": {
        "id": "TvUvIP8mgwmu"
      }
    },
    {
      "cell_type": "markdown",
      "source": [
        "### 2.2.4 Ejecución con opción verbose"
      ],
      "metadata": {
        "id": "qYLJrGKFsdJB"
      }
    },
    {
      "cell_type": "code",
      "source": [
        "valores = [60, 100, 120]\n",
        "pesos = [10, 20, 30]\n",
        "pesoMax = 50\n",
        "n = len(valores)\n",
        "print(knapSackDin(pesoMax, pesos, valores, n, True))"
      ],
      "metadata": {
        "id": "QqD0SG0Osg0H",
        "colab": {
          "base_uri": "https://localhost:8080/"
        },
        "outputId": "d9212eef-ab12-4eae-d3c1-b0e75cd3360a"
      },
      "execution_count": 54,
      "outputs": [
        {
          "output_type": "stream",
          "name": "stdout",
          "text": [
            "Objeto: \u001b[34m0\u001b[0m tiene un valor por unidad de peso de: \u001b[33m6.0\u001b[0m\n",
            "Objeto: \u001b[34m1\u001b[0m tiene un valor por unidad de peso de: \u001b[33m5.0\u001b[0m\n",
            "Objeto: \u001b[34m2\u001b[0m tiene un valor por unidad de peso de: \u001b[33m4.0\u001b[0m\n",
            "Se agrega el objeto: \u001b[34m0\u001b[0m con valor: \u001b[35m60\u001b[0m y peso: \u001b[31m10\u001b[0m\n",
            "Peso restante: \u001b[32m50\u001b[0m\n",
            "Se agrega el objeto: \u001b[34m1\u001b[0m con valor: \u001b[35m100\u001b[0m y peso: \u001b[31m20\u001b[0m\n",
            "Peso restante: \u001b[32m40\u001b[0m\n",
            "Se retorna finalmente valor máximo: \u001b[92m160\u001b[0m con peso: \u001b[92m30 \u001b[0m\n",
            "160\n"
          ]
        }
      ]
    },
    {
      "cell_type": "markdown",
      "source": [
        "Para este verbose, se presenta inicialmente el valor/peso de cada objeto de la lista, para tener la idea de cómo es que quedarán ordenados los objetos en base a este valor calculado. Posteriormente, se imprime por pantalla el orden en el cual son ingresados los objetos, para finalmente retornar el máximo valor obtenido por este algoritmo junto con su peso asociado."
      ],
      "metadata": {
        "id": "mX4VeyI3sI_n"
      }
    },
    {
      "cell_type": "markdown",
      "source": [
        "# 3. Propidades del algoritmo"
      ],
      "metadata": {
        "id": "O7WrlqsOmNM2"
      }
    },
    {
      "cell_type": "markdown",
      "source": [
        "## 3.1 Correctitud"
      ],
      "metadata": {
        "id": "veB1VpruTZTd"
      }
    },
    {
      "cell_type": "markdown",
      "source": [
        "### 3.1.1 Teorema de correctitud del algoritmo Bottom-up"
      ],
      "metadata": {
        "id": "qxir2GE4CxNq"
      }
    },
    {
      "cell_type": "markdown",
      "source": [
        "El algoritmo para resolver el problema de la mochila, dadas dos listas $[v_1,v_2, \\ldots ,v_i]$ y $[p_1,p_2, \\ldots ,p_i]$, donde $i$ representa un objeto, $v_i$ y $p_i$ representan un valor y un peso asociado al objeto $i$ respectivamente, además de un valor de peso máximo $P$. El algoritmo retorna el mayor valor posible a obtener para una combinación de objetos $i$ con peso $p_i$ y valor $v_i$ considerando que ninguna combinación puede sobrepasar al límite $P$.\n",
        "\n",
        "**Hipótesis**\n",
        "\n",
        "En cada iteración el algoritmo para resolver el problema de la mochila, retorna el máximo valor posible para un peso máximo determinado para esa iteración, esto quiere decir que en la última iteración, el valor máximo retornado, será el máximo valor posible para el peso máximo que se entrega al comienzo del problema.\n",
        "\n",
        "**Prueba del teorema**\n",
        "\n",
        "Para la comprobación de la correctitud del algortimo se utilizará el método de inducción, el cual ya ha sido explicado en informes anteriores.\n",
        "\n",
        "**Caso base**\n",
        "\n",
        "Cuando el peso máximo entregado al comienzo del problema es $0$, o por contraparte se tienen $0$ elementos para seleccionar, se observa que el algoritmo retorna el valor $0$, el cual es trivialmente el único y máximo valor posible a alcanzar.\n",
        "\n",
        "**Paso inductivo**\n",
        "\n",
        "Para tamaños más grandes, el algoritmo verifica inicialmente que el peso del objeto a agregar sea soportado por la mochila, en caso de ser así, se procede a comparar si el valor del objeto que se va a agregar, sumado con el máximo beneficio que se puede conseguir con el espacio restante de la mochila es mayor que el máximo beneficio conseguido con la iteración anterior para el mismo peso en cuestión (esto gracias al funcionamiento de la matriz auxiliar, explicado anteriormente), de ser verdadera esta sentencia, el valor máximo se actualizará al valor del objeto más el máximo beneficio restante, en caso contrario, el algoritmo elegirá el valor anteriormente calculado.\n",
        "\n",
        "De esta manera, para el paso final, se comparará el máximo valor posible agregando o no el objeto con mayor peso seleccionable, y de esta manera, se retornará el mayor valor para el peso más cercano al límite de peso de la mochila."
      ],
      "metadata": {
        "id": "IWSzI4jZTeMh"
      }
    },
    {
      "cell_type": "markdown",
      "source": [
        "### 3.1.2 Incorrectitud del algoritmo greedy"
      ],
      "metadata": {
        "id": "gGzp1Gg6LT1T"
      }
    },
    {
      "cell_type": "markdown",
      "source": [
        "La principal duda que surge a continuación es por qué entonces, si el algoritmo greedy comparte características con el algoritmo bottom-up, además de realizar una elección que parece ser óptima, por qué no se asegura que la solución final a la cual se llega con el algoritmo greedy sea también la solución óptima para el problema original.\n",
        "\n",
        "Esto se explica debido a las características que componen un algoritmo greedy, y es que se tienen los siguientes elementos:\n",
        "\n",
        "1. Se tiene la elección greedy +  un subproblema con las mismas características del problema original. En nuestro problema, la elección greedy es elegir el elemento con mayor ratio, y el siguiente subproblema se reduce a lo mismo, elegir el siguiente elemento dentro de nuestro arreglo con el mejor ratio, hasta que se alcance el peso máximo soportado.\n",
        "\n",
        "2. Resolver el problema original es equivalente a resolver todos los subproblemas con la misma estrategia. Esto también es cierto debido a que cuando se llegue al peso máximo posible, quiere decir que se han elegido todos los elementos con mejor ratio posibles, lo cual significaría que se ha llegado al máximo valor posible a conseguir dentro del peso máximo entregado.\n",
        "\n",
        "3. Es con este paso final con el cual no se puede asegurar que el algoritmo realiza una elección óptima, debido a que no necesariamente el elemento con mejor ratio o mayor valor deba estar presente dentro de la mochila.\n",
        "\n",
        "Es ahí donde el algoritmo greedy no cumple con la condición de ser óptimo, y es que estos algoritmos basan su correctitud en el tipo de elección que realizan, por lo cual si esta es óptima, el algoritmo también lo será, y viceversa como ocurre en este caso.\n",
        "\n",
        "Se púede observar fácilmente esta característica observando el ejemplo presentado en este informe, y es que en la opción de algoritmo greedy, se agregan los objetos $1$ y $2$ que son los que tienen una mejor relación valor/peso, sin embargo, debido a que estos dos objetos se agregan en un inicio, para el objeto $3$ la mochila se encuentra sin espacio, por lo cual es imposible considerar la opción de que este sea incluido o combinado con algún otro objeto de la mochila, lo cual descarta la opción óptima la cual se sabe gracias al algoritmo Bottom-up que es guardar el objeto $2$ y $3$, combinación que dará un valor total de $220$."
      ],
      "metadata": {
        "id": "Qe00BDYsLdbF"
      }
    },
    {
      "cell_type": "markdown",
      "source": [
        "## 3.2 Tiempos de ejecución"
      ],
      "metadata": {
        "id": "OF3niKpRgDDp"
      }
    },
    {
      "cell_type": "markdown",
      "source": [
        "### 3.2.1 Tiempo de ejecución de algoritmo Bottom-up"
      ],
      "metadata": {
        "id": "Z5SQF6HhPsX2"
      }
    },
    {
      "cell_type": "markdown",
      "source": [
        "Para el tiempo de ejecución de este algoritmo, se debe analizar el comportamiento de este en el código.\n",
        "\n",
        "Como se describió anteriormente, el algoritmo utiliza dos ciclos `for`, el primero que recorre la lista de objetos seleccionables de tamaño $n$. Mientras que el segundo ciclo `for` que se encuentra anidado, se recorren todos los pesos posibles desde $0$ hasta $P$, siendo este último el peso máximo soportado por la mochila.\n",
        "\n",
        "Es así como la complejidad temporal de este algoritmo es de orden $O(n*m)$."
      ],
      "metadata": {
        "id": "JPt5dd97mRGw"
      }
    },
    {
      "cell_type": "markdown",
      "source": [
        "### 3.2.2 Tiempo de ejecución del algoritmo greedy\n"
      ],
      "metadata": {
        "id": "blS2c81FRC3_"
      }
    },
    {
      "cell_type": "markdown",
      "source": [
        "El algoritmo greedy por su parte realiza dos operaciones fundamentales que requieren un tiempo para ser realizados.\n",
        "\n",
        "En primer lugar se tiene el ordenamiento de los objetos con respecto a su ratio, esto, dependiendo del algoritmo de ordenamiento que se utilice tendrá un tiempo determinado de ejecución, pero para efectos de este informe, se elegirá el algoritmo de ordenamiento estándar con complejidad temporal de $O(n*log(n))$.\n",
        "\n",
        "A lo anterior se le agrega el tiempo que toma recorrer el arreglo para llegar a la solución, el cual viene denotado por el segundo ciclo `for`, el cual adiciona una complejidad de $O(n)$.\n",
        "\n",
        "Finalmente el algoritmo greedy tiene una complejidad temporal de $O(n*log(n))$."
      ],
      "metadata": {
        "id": "LhHvN99sPxEn"
      }
    },
    {
      "cell_type": "markdown",
      "source": [
        "# 4. Experimentos"
      ],
      "metadata": {
        "id": "N14_QSBIgUUe"
      }
    },
    {
      "cell_type": "markdown",
      "source": [
        "## 4.1 Comparación entre alternativas"
      ],
      "metadata": {
        "id": "shXnkOKwb2SZ"
      }
    },
    {
      "cell_type": "markdown",
      "source": [
        "En el siguiente experimento se ilustrará cómo se comportan los tiempos de ejecución de cada alternativa del algoritmo (recursiva/bottom-up), a medida que el tamaño del problema crece."
      ],
      "metadata": {
        "id": "pncKO4BVVQsi"
      }
    },
    {
      "cell_type": "markdown",
      "source": [
        "### Tiempo de ejecución de Bottom-up"
      ],
      "metadata": {
        "id": "aTEH6nSQi7p1"
      }
    },
    {
      "cell_type": "code",
      "source": [
        "import matplotlib.pyplot as plt\n",
        "import datetime\n",
        "import random\n",
        "from timeit import repeat\n",
        "\n",
        "def knapsack_instance_generator(N):\n",
        "  val = []\n",
        "  wt = []\n",
        "  prev_v = 0\n",
        "  prev_w = 0\n",
        "  for i in range(N):\n",
        "    v = random.randint(1, 100)\n",
        "    val.append(prev_v + v)\n",
        "    prev_v += v\n",
        "    \n",
        "    w = random.randint(1, 10)\n",
        "    wt.append(prev_w + w)\n",
        "    if (v >= 50):\n",
        "        prev_w += w\n",
        "\n",
        "  W = int(sum(wt) / 2)\n",
        "  return W, val, wt\n",
        "\n",
        "x = []; y1 = []\n",
        "\n",
        "for n in range(1,50):\n",
        "\n",
        "  W, valores, pesos = knapsack_instance_generator(n)\n",
        "\n",
        "  t = repeat(setup=\"from __main__ import knapSack\", stmt=f\"knapSack({W}, {pesos}, {valores}, {len(valores)})\", repeat=1, number=10)\n",
        "\n",
        "  x.append(n)\n",
        "  y1.append(t)\n",
        "\n",
        "\n",
        "plt.plot(x,y1)\n",
        "plt.legend([\"Algoritmo Bottom-up\"])\n",
        "\n",
        "plt.xlabel('n')\n",
        "plt.ylabel('time in ms')\n",
        "plt.show()"
      ],
      "metadata": {
        "colab": {
          "base_uri": "https://localhost:8080/",
          "height": 279
        },
        "id": "JxyXWY0a8QTc",
        "outputId": "16b800d4-4ea0-4ffe-d44a-688fe53d42a1"
      },
      "execution_count": 5,
      "outputs": [
        {
          "output_type": "display_data",
          "data": {
            "text/plain": [
              "<Figure size 432x288 with 1 Axes>"
            ],
            "image/png": "[encoded data removed]"
          },
          "metadata": {
            "needs_background": "light"
          }
        }
      ]
    },
    {
      "cell_type": "markdown",
      "source": [
        "### Tiempo de ejecución de algoritmo greedy"
      ],
      "metadata": {
        "id": "hKgwptf6W_4f"
      }
    },
    {
      "cell_type": "code",
      "source": [
        "x = []; y1 = []\n",
        "\n",
        "for n in range(1,100):\n",
        "\n",
        "  W, valores, pesos = knapsack_instance_generator(n)\n",
        "\n",
        "  k = repeat(setup=\"from __main__ import knapSackDin\", stmt=f\"knapSackDin({W}, {pesos}, {valores}, {len(valores)})\", repeat=1, number=10)\n",
        "\n",
        "  x.append(n)\n",
        "  y1.append(k)\n",
        "\n",
        "\n",
        "plt.plot(x,y1)\n",
        "plt.legend([\"Algoritmo Greedy\"])\n",
        "\n",
        "plt.xlabel('n')\n",
        "plt.ylabel('time in ms')\n",
        "plt.show()"
      ],
      "metadata": {
        "colab": {
          "base_uri": "https://localhost:8080/",
          "height": 279
        },
        "id": "OxqLTWQvXFGO",
        "outputId": "5b17135f-a86e-4716-90c4-f85fa1b01ae6"
      },
      "execution_count": 6,
      "outputs": [
        {
          "output_type": "display_data",
          "data": {
            "text/plain": [
              "<Figure size 432x288 with 1 Axes>"
            ],
            "image/png": "[encoded data removed]"
          },
          "metadata": {
            "needs_background": "light"
          }
        }
      ]
    },
    {
      "cell_type": "markdown",
      "source": [
        "### Conclusiones"
      ],
      "metadata": {
        "id": "Ro_5Qa0LrSzk"
      }
    },
    {
      "cell_type": "markdown",
      "source": [
        "Luego de analizar ambos gráficos, se pueden observar ambos crecimientos de tiempo en relación al tamaño del problema. Por un lado se observa que la tendencia de la primera gráfica es de cierta forma cuadrática, tal como se mencionaba en el punto de la complejidad temporal. Mientras que el algoritmo greedy presenta una cierta forma casi lineal también cercano a la complejidad temporal mencionada anteriormente.\n",
        "\n",
        "Todo esto a pesar de ciertos picos de rendimiento por características de procesador, estas han estado presentes en todas las pruebas."
      ],
      "metadata": {
        "id": "rrM6WU11AuPa"
      }
    },
    {
      "cell_type": "markdown",
      "source": [
        "## 4.2 Comparación entre cantidad de sub-problemas/iteraciones\n",
        "\n",
        "Se compararán ya no el tiempo medido por computadora sino el contador de subproblemas a resolver presente en la implementación del algoritmo recursivo, con respecto a la cantidad de iteraciones que se deben resolver para el algoritmo bottom-up, mencionada anteriormente en la descripción del algoritmo."
      ],
      "metadata": {
        "id": "3Cf3onG7gZnj"
      }
    },
    {
      "cell_type": "code",
      "source": [
        "import matplotlib.pyplot as plt\n",
        "import math\n",
        "\n",
        "y = []; y1 = []; x = []\n",
        "\n",
        "for n in range(0,50):\n",
        "  pesoMax, valores, pesos = knapsack_instance_generator(n)\n",
        "  cont1 = cont2 = 0\n",
        "\n",
        "  aux, cont1 = knapSack(pesoMax, pesos, valores, len(valores))\n",
        "  aux, cont2 = knapSackDin(pesoMax, pesos, valores, len(valores))\n",
        "  \n",
        "  x.append(n)\n",
        "  y.append(cont1)\n",
        "  y1.append(cont2)\n",
        "\n",
        "plt.plot(x,y)\n",
        "plt.plot(x,y1)\n",
        "\n",
        "plt.legend([\"Algoritmo Bottom-up\", \"Algoritmo Greedy\"])\n",
        "\n",
        "plt.xlabel('Tamaño del problema')\n",
        "plt.ylabel('Número de subProblemas/iteraciones')\n",
        "plt.show()"
      ],
      "metadata": {
        "colab": {
          "base_uri": "https://localhost:8080/",
          "height": 279
        },
        "id": "513dP4zFcS-W",
        "outputId": "c6debcac-a3d3-400f-e5a6-a5141105e4c7"
      },
      "execution_count": 7,
      "outputs": [
        {
          "output_type": "display_data",
          "data": {
            "text/plain": [
              "<Figure size 432x288 with 1 Axes>"
            ],
            "image/png": "[encoded data removed]"
          },
          "metadata": {
            "needs_background": "light"
          }
        }
      ]
    },
    {
      "cell_type": "markdown",
      "source": [
        "### Conclusiones"
      ],
      "metadata": {
        "id": "ih-w-dm3ad8J"
      }
    },
    {
      "cell_type": "markdown",
      "source": [
        "En este último gráfico se puede observar con mayor claridad como la proporción del tamaño del problema sobre el tiempo es casi lineal para el algoritmo Greedy, mientras que para el algoritmo recursivo es una relación exponencial a partir de un tamaño $20$."
      ],
      "metadata": {
        "id": "-7uK1XbCfqqG"
      }
    },
    {
      "cell_type": "markdown",
      "source": [
        "## 4.3 Comparación de valores alcanzados"
      ],
      "metadata": {
        "id": "P3i0lTQTaiXk"
      }
    },
    {
      "cell_type": "markdown",
      "source": [
        "Para este último experimento se graficará cómo se diferencian los valores máximos obtenidos dependiendo del algoritmo que se utilice para un tamaño de problema en particular, se generarán varias instancias con tamaños de problema distintos, y se utilizará un gráfico de cajas y bigotes para mostrar los resultados."
      ],
      "metadata": {
        "id": "bPPuDurFIZ-Z"
      }
    },
    {
      "cell_type": "markdown",
      "source": [
        "### Problema tamaño 5"
      ],
      "metadata": {
        "id": "F9RqljrJKcLQ"
      }
    },
    {
      "cell_type": "code",
      "source": [
        "y = []; y1 = []; x = []\n",
        "\n",
        "for i in range(0,10):\n",
        "  pesoMax, valores, pesos = knapsack_instance_generator(5)\n",
        "  cont1 = cont2 = 0\n",
        "\n",
        "  aux1, cont1 = knapSack(pesoMax, pesos, valores, len(valores))\n",
        "  aux2, cont2 = knapSackDin(pesoMax, pesos, valores, len(valores))\n",
        "  \n",
        "  x.append(i)\n",
        "  y.append(aux1)\n",
        "  y1.append(aux2)\n",
        "\n",
        "plt.boxplot(y)\n",
        "\n",
        "plt.legend([\"Algoritmo Bottom-up\"])\n",
        "\n",
        "plt.xlabel('Tamaño del problema')\n",
        "plt.ylabel('Valores obtenidos')\n",
        "plt.show()"
      ],
      "metadata": {
        "colab": {
          "base_uri": "https://localhost:8080/",
          "height": 279
        },
        "id": "-xvsdUJEI0Jc",
        "outputId": "e3df4c1f-a897-4a38-f083-da19c1db0722"
      },
      "execution_count": 30,
      "outputs": [
        {
          "output_type": "display_data",
          "data": {
            "text/plain": [
              "<Figure size 432x288 with 1 Axes>"
            ],
            "image/png": "[encoded data removed]"
          },
          "metadata": {
            "needs_background": "light"
          }
        }
      ]
    },
    {
      "cell_type": "code",
      "source": [
        "plt.boxplot(y1)\n",
        "\n",
        "plt.legend([\"Algoritmo Greedy\"])\n",
        "\n",
        "plt.xlabel('Tamaño del problema')\n",
        "plt.ylabel('Valores obtenidos')\n",
        "plt.show()"
      ],
      "metadata": {
        "colab": {
          "base_uri": "https://localhost:8080/",
          "height": 279
        },
        "id": "rHAp3XBjLhFy",
        "outputId": "b9d9ccd8-60bd-4d7a-c2a4-aa4b8f467912"
      },
      "execution_count": 31,
      "outputs": [
        {
          "output_type": "display_data",
          "data": {
            "text/plain": [
              "<Figure size 432x288 with 1 Axes>"
            ],
            "image/png": "[encoded data removed]"
          },
          "metadata": {
            "needs_background": "light"
          }
        }
      ]
    },
    {
      "cell_type": "markdown",
      "source": [
        "### Problema tamaño 10"
      ],
      "metadata": {
        "id": "3rmQJb1JLxUy"
      }
    },
    {
      "cell_type": "code",
      "source": [
        "y = []; y1 = []; x = []\n",
        "\n",
        "for i in range(0,10):\n",
        "  pesoMax, valores, pesos = knapsack_instance_generator(10)\n",
        "  cont1 = cont2 = 0\n",
        "\n",
        "  aux1, cont1 = knapSack(pesoMax, pesos, valores, len(valores))\n",
        "  aux2, cont2 = knapSackDin(pesoMax, pesos, valores, len(valores))\n",
        "  \n",
        "  x.append(i)\n",
        "  y.append(aux1)\n",
        "  y1.append(aux2)\n",
        "\n",
        "plt.boxplot(y)\n",
        "\n",
        "plt.legend([\"Algoritmo Bottom-up\"])\n",
        "\n",
        "plt.xlabel('')\n",
        "plt.ylabel('Valores obtenidos')\n",
        "plt.show()"
      ],
      "metadata": {
        "colab": {
          "base_uri": "https://localhost:8080/",
          "height": 267
        },
        "id": "Mswv9hRuLzzp",
        "outputId": "8dca8e25-b7f9-4d90-bd0e-90499e515159"
      },
      "execution_count": 32,
      "outputs": [
        {
          "output_type": "display_data",
          "data": {
            "text/plain": [
              "<Figure size 432x288 with 1 Axes>"
            ],
            "image/png": "[encoded data removed]"
          },
          "metadata": {
            "needs_background": "light"
          }
        }
      ]
    },
    {
      "cell_type": "code",
      "source": [
        "plt.boxplot(y1)\n",
        "\n",
        "plt.legend([\"Algoritmo Greedy\"])\n",
        "\n",
        "plt.xlabel('')\n",
        "plt.ylabel('Valores obtenidos')\n",
        "plt.show()"
      ],
      "metadata": {
        "colab": {
          "base_uri": "https://localhost:8080/",
          "height": 266
        },
        "id": "rmXgFzSSL55N",
        "outputId": "2e7e1679-b6eb-4374-d186-a7e032bd1368"
      },
      "execution_count": 33,
      "outputs": [
        {
          "output_type": "display_data",
          "data": {
            "text/plain": [
              "<Figure size 432x288 with 1 Axes>"
            ],
            "image/png": "[encoded data removed]"
          },
          "metadata": {
            "needs_background": "light"
          }
        }
      ]
    },
    {
      "cell_type": "markdown",
      "source": [
        "### Problema tamaño 20"
      ],
      "metadata": {
        "id": "O_Opkp8VMZWP"
      }
    },
    {
      "cell_type": "code",
      "source": [
        "y = []; y1 = []; x = []\n",
        "\n",
        "for i in range(0,10):\n",
        "  pesoMax, valores, pesos = knapsack_instance_generator(20)\n",
        "  cont1 = cont2 = 0\n",
        "\n",
        "  aux1, cont1 = knapSack(pesoMax, pesos, valores, len(valores))\n",
        "  aux2, cont2 = knapSackDin(pesoMax, pesos, valores, len(valores))\n",
        "  \n",
        "  x.append(i)\n",
        "  y.append(aux1)\n",
        "  y1.append(aux2)\n",
        "\n",
        "plt.boxplot(y)\n",
        "\n",
        "plt.legend([\"Algoritmo Bottom-up\"])\n",
        "\n",
        "plt.xlabel('')\n",
        "plt.ylabel('Valores obtenidos')\n",
        "plt.show()"
      ],
      "metadata": {
        "colab": {
          "base_uri": "https://localhost:8080/",
          "height": 265
        },
        "id": "ArUCNfPzMcai",
        "outputId": "6a8051b5-196c-4a4f-949a-d156f78782b0"
      },
      "execution_count": 34,
      "outputs": [
        {
          "output_type": "display_data",
          "data": {
            "text/plain": [
              "<Figure size 432x288 with 1 Axes>"
            ],
            "image/png": "[encoded data removed]"
          },
          "metadata": {
            "needs_background": "light"
          }
        }
      ]
    },
    {
      "cell_type": "code",
      "source": [
        "plt.boxplot(y1)\n",
        "\n",
        "plt.legend([\"Algoritmo Greedy\"])\n",
        "\n",
        "plt.xlabel('')\n",
        "plt.ylabel('Valores obtenidos')\n",
        "plt.show()"
      ],
      "metadata": {
        "colab": {
          "base_uri": "https://localhost:8080/",
          "height": 265
        },
        "id": "dgyVJojfMg_d",
        "outputId": "0c7e9202-f34a-4145-d82b-20050cef227f"
      },
      "execution_count": 35,
      "outputs": [
        {
          "output_type": "display_data",
          "data": {
            "text/plain": [
              "<Figure size 432x288 with 1 Axes>"
            ],
            "image/png": "[encoded data removed]"
          },
          "metadata": {
            "needs_background": "light"
          }
        }
      ]
    },
    {
      "cell_type": "markdown",
      "source": [
        "### Conclusiones"
      ],
      "metadata": {
        "id": "nqmKHs81MpAo"
      }
    },
    {
      "cell_type": "markdown",
      "source": [
        "A lo largo del experimento se puede observar que para el algoritmo greedy, los resultados obtenidos suelen estar siempre con una ligera mayor dispersión entre los valores, mientras que para el algoritmo Bottom-up los valores se encuentran más condensados.\n",
        "\n",
        "Esto se puede deber a que el algoritmo Bottom-up, asegura siempre un mismo tipo de comportamiento, debido a que siempre se va a basar en sus respuestas anteriores para definir una solución final. Por otro lado el algoritmo greedy tiene un comportamiento mucho más variable, debido a que la efectividad del criterio de la elección greedy dependerá también del contexto del problema y sus valores.\n",
        "\n",
        "Finalmente se puede destacar que a medida que el tamaño del problema crece, el rendimiento del algoritmo greedy en términos de precisión crece, debido a que se observan gráficos más similares el uno al otro entre ambas opciones de algoritmo. Por lo que se podría concluir que el algoritmo greedy en tamaños grandes de problema, puede llegar a rendir de una manera cercana a la óptima esperada."
      ],
      "metadata": {
        "id": "ZMW3_aycMqer"
      }
    }
  ]
}