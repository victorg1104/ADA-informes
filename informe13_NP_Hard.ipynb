{
  "nbformat": 4,
  "nbformat_minor": 0,
  "metadata": {
    "colab": {
      "provenance": []
    },
    "kernelspec": {
      "name": "python3",
      "display_name": "Python 3"
    },
    "language_info": {
      "name": "python"
    }
  },
  "cells": [
    {
      "cell_type": "markdown",
      "source": [
        "### Integrantes: \n",
        "* Victor Granda\n",
        "* Ramiro Magnatera"
      ],
      "metadata": {
        "id": "78izRZMz13rB"
      }
    },
    {
      "cell_type": "markdown",
      "source": [
        "## 1. Preguntas"
      ],
      "metadata": {
        "id": "sxuVP7mjJZ5q"
      }
    },
    {
      "cell_type": "markdown",
      "source": [
        "### 1.1 ¿Qué quiere decir que un problema NP-Hard?"
      ],
      "metadata": {
        "id": "3_6VPKZ_Jvf9"
      }
    },
    {
      "cell_type": "markdown",
      "source": [
        "Formalmente, un problema es **NP-Hard** si cualquier problema NP es reducible a este en un tiempo polinomial.\n",
        "\n",
        "Dicho en otras palabras, un problema es NP-Hard si no se puede encontrar ni verificar una solución en tiempo polinomial. Son problemas llamados \"intratables\", los cuales comunmente tienen una complejidad temporal de $2^n$.\n",
        "\n",
        "### Ejemplo\n",
        "\n",
        "A continuación se muestran 2 ejemplos de problemas NP-Hard, los cuales a su vez serán descritos y explicados en el presente informe, estos problemas son:\n",
        "\n",
        "* Problema de la mochila\n",
        "\n",
        "<a href=\"https://imgur.com/OGTUReH\"><img src=\"https://imgur.com/OGTUReH.png\" title=\"source: imgur.com\" /></a>\n",
        "\n",
        "* Problema de suma de subconjuntos\n",
        "\n",
        "<a href=\"https://imgur.com/McirTrV\"><img src=\"https://imgur.com/McirTrV.png\" title=\"source: imgur.com\" /></a>\n",
        "\n",
        "\n",
        "\n",
        "\n",
        "\n",
        "\n",
        "\n",
        "\n"
      ],
      "metadata": {
        "id": "L4Pyb1rNKHol"
      }
    },
    {
      "cell_type": "markdown",
      "source": [
        "### 1.2 ¿Qué quiere decir que $P\\neq NP$?"
      ],
      "metadata": {
        "id": "Tn6_ElXVJ3Jj"
      }
    },
    {
      "cell_type": "markdown",
      "source": [
        "**$P\\neq NP$** es una famosa conjetura, lo que quiere decir que aun no está comprobada, más aun no se encuentra algun caso que no la cumpla. \n",
        "\n",
        "Para explicar lo que quiere decir esta conjetura, primero debemos definir lo que es $P$ y $NP$\n",
        "\n",
        "* **P:** Son todos aquellos problemas que pueden ser resueltos en un **tiempo polinomial**.\n",
        "\n",
        "* **NP:** Son aquellos problemas que pueden ser resueltos en un **tiempo no polinomial**, sin embargo, se puede verificar una respuesta en tiempo polinomial.\n",
        "\n",
        "Entonces, en simples palabras podemos definir que **$P\\neq NP$** ya que, definiendo que los problemas resolubles en un tiempo polinomial, es diferente a un problema sin solución en un tiempo polinomial, podemos hacer la distinción en que existen problemas que no pueden ser resueltos en tiempo polinomial, sin embargo, sus soluciones pueden verificarse en dicho tiempo.\n",
        "\n",
        "En la siguiente imagen, podemos ver la diferencia de los conjuntos:\n",
        "\n",
        "<a href=\"https://imgur.com/KipVI0J\"><img src=\"https://imgur.com/KipVI0J.png\" title=\"source: imgur.com\" /></a>\n",
        "\n",
        "Se separan los distintos conjuntos, en donde en la parte de abajo, la cual sería la menos compleja, tenemos el conjunto **P**, el cual está dentro del conjunto **NP**, que vendrian a ser los problemas \"tratables\". Luego tenemos los NP-Complete, los cuales son los problemas más dificiles del conjunto NP. Y finalmente tenemos el conjunto NP-Hard, donde encontramos los problemas \"intratables\".\n",
        "\n",
        "Por lo tanto, mientras **$P\\neq NP$** sea correcto, ningun algoritmo NP-Hard puede ser resuelto en un tiempo polinomial.\n",
        "\n",
        "Si se llegara a comprobar que **$P = NP$**, entonces tendríamos el siguiente caso:\n",
        "\n",
        "<a href=\"https://imgur.com/IGEd8d9\"><img src=\"https://imgur.com/IGEd8d9.png\" title=\"source: imgur.com\" /></a>\n",
        "\n",
        "Donde tanto los problemas $P$, $NP$, y $NP$-$Completos$ podrían ser resueltos en un tiempo polinomial, lo que significaría que los problemas NP-Hard o NP-Completos, no son intratables, sino que son tratables en tiempo polinomial, sin embargo, tendríamos que estar en busqueda constante de este tipo de algoritmos."
      ],
      "metadata": {
        "id": "J40U0wDDKNzw"
      }
    },
    {
      "cell_type": "markdown",
      "source": [
        "### 1.3 ¿Cómo se prueba  que un problema es NP-Hard usando reducciones?"
      ],
      "metadata": {
        "id": "eSmy0WJzKAN1"
      }
    },
    {
      "cell_type": "markdown",
      "source": [
        "Para demostrar que un problema $B$ es **intratable** o **NP-Hard** debemos aplicar **reducciones:**\n",
        "\n",
        "1. Seleccionamos un problema ${A}$ que sabemos que es **NP-Hard**.\n",
        "2. Si el problema ${A}$ es **reducible** a ${B}$, entonces el problema ${B}$  es **NP-Hard** también.\n",
        "\n",
        "<a href=\"https://imgur.com/jGuArX7\"><img src=\"https://imgur.com/jGuArX7.png\" title=\"source: imgur.com\" /></a>\n",
        "\n",
        "En otras palabras, si en la instancia de un **problema NP-hard** (Problema A) podemos instanciar la resolución de nuestro problema (Problema B) en un tiempo polinomial, podemos decir que el problema A es reducible a un problema B y que este último de igual forma es NP-Hard.\n",
        "\n",
        "Ejemplo\n",
        "\n",
        "Una problema conocido para demostrar problemas NP-Hard comunes es el **3-SAT**, como veremos en la siguiente imagen:\n",
        "\n",
        "<a href=\"https://imgur.com/f4PhHf4\"><img src=\"https://imgur.com/f4PhHf4.png\" title=\"source: imgur.com\" /></a>\n",
        "\n",
        "Como vemos, gracias a que sabemos que el problema **3-SAT** es NP-Hard, podemos demostrar una serie de problemas aplicando reducción.\n"
      ],
      "metadata": {
        "id": "suhQVXI-QIIg"
      }
    },
    {
      "cell_type": "markdown",
      "source": [
        "## 2. Descripción de problemas"
      ],
      "metadata": {
        "id": "O0JlxXMu2UHp"
      }
    },
    {
      "cell_type": "markdown",
      "source": [
        "### 2.1 Problema de la mochila"
      ],
      "metadata": {
        "id": "b6wlMNmY9f53"
      }
    },
    {
      "cell_type": "markdown",
      "source": [
        "El problema de la mochila es un problema de optimización combinatoria, en el que dado un conjunto de \"objetos\", cada uno con un peso y un valor, y una \"mochila\" que tiene una capacidad máxima. Se nos pide ingresar objetos a la mochila de modo que el peso total sea menor o igual a un límite dado y el valor total es lo más grande posible. Deriva su nombre del problema al que se enfrenta alguien que está limitado por una mochila de tamaño fijo y debe llenarla con los artículos más valiosos.\n",
        "\n",
        "---\n",
        "\n",
        "**Entrada**: *Arreglo de valores $[a_1,a_2,...,a_n]$, Arreglo de pesos $[a_1,a_2,...,a_n]$ y un número entero positivo **T** el cual será la capacidad máxima*.\n",
        "\n",
        "**Salida**: *Valor máximo que se puede conseguir*\n",
        "\n",
        "---\n",
        "\n",
        "<a href=\"https://imgur.com/lKhXKt0\"><img src=\"https://imgur.com/lKhXKt0.png\" title=\"source: imgur.com\" /></a>\n",
        "\n",
        "En la siguiente imagen podemos ver un ejemplo del problema:\n",
        "\n",
        "<a href=\"https://imgur.com/McirTrV\"><img src=\"https://imgur.com/McirTrV.png\" title=\"source: imgur.com\" /></a>\n",
        "\n",
        "En donde de entrada se tienen 3 objetos: uno de valor $60$ y un peso de 1kg, el segundo de valor $100$ y un peso de 2kg, y un tercer objeto de valor $120$ y un peso de 3kg. Además, nos dicen que la capacidad máxima que puede almacenar la mochila es de 5kg, por lo que debemos intentar obtener la mayor ganancia respetando el peso máximo.\n",
        "\n",
        "Como salida tenemos el valor de $220$, que sería ingresando a la mochila los objeto dos y tres, lo cual nos daría un peso de 5kg y la ganacia de $220$.\n",
        "\n",
        "Este problema tiene diferentes variantes y formas de ser resuelto, ya sea aplicando programación dinámica, greedy, entre otras. Sin embargo, en este informe nos enfocaremos en su variante que tiene complejidad NP-Hard.\n",
        "\n",
        "\n"
      ],
      "metadata": {
        "id": "7VjtU2RF-PYv"
      }
    },
    {
      "cell_type": "markdown",
      "source": [
        "### 2.2 Problema del mínimo *makespan*"
      ],
      "metadata": {
        "id": "WIzCpyGf-JL2"
      }
    },
    {
      "cell_type": "markdown",
      "source": [
        "#### **Descripción**"
      ],
      "metadata": {
        "id": "EzZp_B88-UPv"
      }
    },
    {
      "cell_type": "markdown",
      "source": [
        "El siguiente problema corresponde a un problema de **optimización** NP-Hard, el cual es aplicable en varias áreas de la ingeniería. Viene dado por el siguiente enunciado:\n",
        "\n",
        "Se tiene una cantidad $n$ de tareas o ***trabajos*** a realizar, cada trabajo $i$ perteneciente a este conjunto tiene un largo asociado $l_i > 0$, que significa una cantidad de tiempo que demora en ser procesada o resuelta esa tarea en particular. Adicionalmente a esto, se tiene una cantidad $m$ de ***máquinas*** que son capaces de hacerse cargo de esas ***trabajos***, así estas máquinas almacenarán dentro de ellas una ***carga*** $C_m$, la cual vendrá definida por la suma de los largos $l_n$ de todas las tareas $n$ de las cuales la máquina se está haciendo cargo. Finalmente se define el concepto ***makespan*** como la **máxima carga $C$** que almacene alguna de las máquinas disponibles para realizar las tareas.\n",
        "\n",
        "El problema finalmente es generar una configuración del tipo **tarea-máquina**. En la cual el **makespan** de esta asignación sea el menor posible.\n",
        "\n",
        "<a href=\"https://imgur.com/6E4mGC0\"><img src=\"https://i.imgur.com/6E4mGC0.jpg\" title=\"source: imgur.com\" /></a>\n",
        "\n",
        "**Entrada:** $n$   trabajos $[0,1,2,3, ... ,i]$ con $ 0 < i < n$ con largos $l_i > 0$, una cantidad $m$ de máquinas idénticas que procesarán cada tarea asignada a ellas.\n",
        "\n",
        "**Salida:** Configuración de asginaciones máquina-tarea, de tal manera que el **makespan**, es decir la carga $C$ de la máquina más cargada, sea la mínima posible.\n",
        "\n",
        "Este problema es aplicable para distintos aspectos. El más obvio, es suponer que se tiene una cantidad de tareas para la universidad, cada una con un largo definido de tiempo el cual toma por realizarse. A su vez, las \"máquinas\" del ejemplo serían los días de la semana. \n",
        "\n",
        "De esta forma, se buscaría asignar las tareas a los días de tal manera en la cual el día más cargado de trabajos por realizar, tenga la menor cantidad de horas asignadas posible dentro de todas las combinaciones."
      ],
      "metadata": {
        "id": "iW53JZ0T-b8c"
      }
    },
    {
      "cell_type": "markdown",
      "source": [
        "## 3. Demostración NP-Hard\n"
      ],
      "metadata": {
        "id": "idKF_P_w-PnD"
      }
    },
    {
      "cell_type": "markdown",
      "source": [
        "Para poder demostrar que el problema de la mochila es **NP-Hard**, debemos tomar un problema \"A\" que ya sea NP-Hard y reducirlo a nuestro problema en cuestión, como veremos en la siguiente imagen:\n",
        "\n",
        "<a href=\"https://imgur.com/jGuArX7\"><img src=\"https://imgur.com/jGuArX7.png\" title=\"source: imgur.com\" /></a>\n",
        "\n",
        "\n"
      ],
      "metadata": {
        "id": "NRS0Gg1l-xWy"
      }
    },
    {
      "cell_type": "markdown",
      "source": [
        "### 3.1 Suma de Subconjuntos"
      ],
      "metadata": {
        "id": "VV861gEdKmUZ"
      }
    },
    {
      "cell_type": "markdown",
      "source": [
        "Para ello, podemos hacerlo mediante el problema **suma de subconjuntos**, el cual es un problema NP-Hard que puede reducirse a nuestro problema. Para ello primero debemos entender como funciona el problema suma de subconjuntos.\n",
        "\n",
        "El problema de suma de subconjuntos (SSP) es un problema de optimización, en el que se pide encontrar un subconjunto cuya suma sea como máximo **T**.\n",
        "\n",
        "---\n",
        "\n",
        "**Entrada**: *Conjunto de variables independientes positivas $[a_1,a_2,...,a_n]$ y un número **T** entero positivo*\n",
        "\n",
        "**Salida**: *True en caso de encontrar un subconjunto con suma **T** o False en caso contrario*\n",
        "\n",
        "---\n",
        "\n",
        "<a href=\"https://imgur.com/OGTUReH\"><img src=\"https://imgur.com/OGTUReH.png\" title=\"source: imgur.com\" /></a>\n",
        "\n"
      ],
      "metadata": {
        "id": "yvHWw6pI-oGZ"
      }
    },
    {
      "cell_type": "markdown",
      "source": [
        "### 3.2.1 Reducción del problema **Subset Sum** a **Knapsack**"
      ],
      "metadata": {
        "id": "rENpOkS8MhHI"
      }
    },
    {
      "cell_type": "markdown",
      "source": [
        "####**Teorema**: *El problema problema de la mochila es NP-Hard.*\n",
        "\n",
        "Para probar el Teorema usaremos el principio de reducción mencionado anteriormente. Debemos dar por hecho que el problema SSP es NP-Hard. Por lo tanto intentaremos reducir el SSP al problema de la mochila.\n",
        "\n",
        "####**Lema**: *El problema SSP se reduce al problema de la mochila.*\n",
        "\n",
        "Para comprobar el lema, debemos pensar en lo siguiente: Un algoritmo que resuelva el **problema de la suma de subconjuntos** (Problema A) que utilice una subrutina que internamente resuelva el **problema de la mochila** (Problema B).\n",
        "\n",
        "<a href=\"https://imgur.com/DufxkVv\"><img src=\"https://imgur.com/DufxkVv.png\" title=\"source: imgur.com\" /></a>\n",
        "\n",
        "Si vemos la finalidad de ambos problemas, podemos distinguir un patron similar en donde ambos buscan un subconjunto de elementos más cercano o igual al valor máximo ingresado. \n",
        "\n",
        "---\n",
        "\n",
        "###**PreProceso**\n",
        "\n",
        "Luego de analizar ambos problemas, se puede ver que el problema de la suma del subconjuntos es similar al problema de la mochila si consideramos lo siguiente:\n",
        "\n",
        "<a href=\"https://imgur.com/MkSv8NA\"><img src=\"https://imgur.com/MkSv8NA.png\" title=\"source: imgur.com\" /></a>\n",
        "\n",
        "Al hacer esta traducción, podemos aplicar el problema de la mochila para poder resolver el problema de la suma del subconjunto máximo.\n",
        "\n",
        "### **Aplicación**\n",
        "\n",
        "Resolvemos el problema de la mochila con la entrada ya especificada, la cual buscara la ganancia máxima acercándose al valor objetivo **T**, sin sobrepasar el peso máximo, el cual también sería el valor **T**.\n",
        "\n",
        "###**PostProceso**\n",
        "\n",
        "Para el PostProceso tenemos dos posibles casos:\n",
        "\n",
        "1. El problema de la mochila retorna el mismo **valor objetivo**, lo que significa que si existe un subconjunto con dicha suma, por lo que retorna **TRUE**.\n",
        "\n",
        "2. El problema de la mochila retorna un valor menor al **valor objetivo**, por lo que no existe un subconjunto con la suma exacta del valor objetivo, y retorna **FALSE**\n",
        "\n",
        "---\n",
        "\n",
        "### Prueba del teorema\n",
        "\n",
        "Luego de comprobar que el problema SSP, el cual es **NP-Hard**, puede reducirse a nuestro problema de la mochila. Podemos decir que el problema de la mochila también tiene una complejidad **NP-Hard**.\n"
      ],
      "metadata": {
        "id": "MjFsrWsGPRWC"
      }
    },
    {
      "cell_type": "markdown",
      "source": [],
      "metadata": {
        "id": "EGuCxv0h25du"
      }
    },
    {
      "cell_type": "markdown",
      "source": [
        "### 3.2.2 Reducción del problema **Subset Sum** a **Makespan**"
      ],
      "metadata": {
        "id": "iUj9hk2ZlE0Y"
      }
    },
    {
      "cell_type": "markdown",
      "source": [
        "El problema a reducir es el **Subset-sum**, el cual consiste en buscar una subsecuencia dentro de un arreglo que de una suma en específico, es decir, si se tiene un arreglo de ejemplo constituido por los valores $[3, 34, 4, 12, 5, 2]$, y se pide buscar un sub-arreglo cuya suma de valores de $9$, la solución del problema sería $[4,5]$, un sub-arreglo que sumando sus valores constituyentes dan la suma requerida.\n",
        "\n",
        "De esta forma, podemos comenzar a encontrar ciertas similitudes con el problema que queremos tratar.\n",
        "\n",
        "Para demostrar la reducción basta con suponer que se tiene un set de números $A = [1,2,3,..., n]$. Además de este set, se entrega una suma $S$, la cual se debe buscar dentro del conjunto de números.\n",
        "\n",
        "Es aquí donde empezamos a encontrar similitudes, debido a que el problema A (subset-sum) requiere de buscar combinaciones dentro de sus elementos, las cuales puedan dar la suma específica requerida. \n",
        "\n",
        "El problema del mínimo *makespan* por su lado, también busca combinaciones dentro de los trabajos que le son dados a las máquinas, de tal manera que se busque la mínima carga posible.\n",
        "\n",
        "De esta manera, si a esa mínima carga se le asigna un valor en específico, se tiene una reducción desde el problema A al problema B.\n",
        "\n",
        "<a href=\"https://imgur.com/jEQwBy1\"><img src=\"https://i.imgur.com/jEQwBy1.jpg\" title=\"source: imgur.com\" /></a>"
      ],
      "metadata": {
        "id": "u8re4_M38cT1"
      }
    },
    {
      "cell_type": "markdown",
      "source": [
        "<a href=\"https://imgur.com/OfUcleX\"><img src=\"https://i.imgur.com/OfUcleX.jpg\" title=\"source: imgur.com\" /></a>\n",
        "\n",
        "En la imagen anterior se puede establecer una realción más clara, en el sentido de que para solucionar el problema SSP, se pueden utilizar algoritmos que solucionen a su vez el problema del mínimo *makespan*, el algoritmo en cuestión trataría de la siguiente manera:\n",
        "\n",
        "* **Preproceso:** cada número perteneciente al set de entrada, corresponderá a un largo de tarea en específico, además de esto, se debe entregar la suma específica que se está buscando. Finalmente, es importante recalcar que la reducción es para una cantidad definida de máquinas, es decir $m$ tiene que ser un valor arbitrario.\n",
        "\n",
        "* **Algoritmo:** luego de realizar el preproceso, se puede hacer uso de el algoritmo *Graham* una cantidad definida de veces para realizar distintas configuraciones en las cuales se sumen los elementos del arreglo de entrada en distintas \"máquinas\", que representarían sub-arreglos. El algoritmo *Graham* opera de la siguiente manera: \n",
        "\n",
        "1. Escoger arbitrariamente una tarea o elemento del arreglo de entrada.\n",
        "\n",
        "2. Realizar una búsqueda secuencial de la máquina con la menor carga hasta el momento, para luego asignar el trabajo $n_i$ a la máquina $m_j$ con menor carga $C$ hasta el momento.\n",
        "\n",
        "* **Postproceso:** se debe veríficar si alguna de las máquinas tiene dentro de ellas la suma buscada, de ser así, se retorna los valores que componen ese resultado, en caso contrario, se retorna que la suma buscada no se encuentra dentro del arreglo de entrada."
      ],
      "metadata": {
        "id": "oQWNZzqqTmSL"
      }
    },
    {
      "cell_type": "markdown",
      "source": [
        "### Ejemplo"
      ],
      "metadata": {
        "id": "k-a8IIP03dvt"
      }
    },
    {
      "cell_type": "markdown",
      "source": [
        "Para representar se utilizará de ejemplo la imagen anterior, se entrega como arreglo de entrada el arreglo $A = [0,1,2,3,4,5]$, además de esto, se busca la suma de elementos que como resultado de $9$.\n",
        "\n",
        "Se realiza el preproceso, en el cual el último paso por definir es cuántas \"máquinas\" dispondremos para solucionar el problema, para este caso en específico definiremos $2$ máquinas como máximo, traduciendo esto al problema en cuestión, tenemos que podemos generar como máximo $2$ subsets, en los cuales asignar los elementos del arreglo de entrada.\n",
        "\n",
        "De esta forma la resolución y reducción del problema queda de la siguiente manera:\n",
        "\n",
        "<a href=\"https://imgur.com/ne8amZg\"><img src=\"https://i.imgur.com/ne8amZg.jpg\" title=\"source: imgur.com\" /></a>\n",
        "\n",
        "Es importante a su vez recalcar la arbitrareidad de la elección de elementos o \"tareas\". Debido a que el recorrido del arreglo de entrada no es secuencial, el algoritmo Graham funcionaría en el momento en que el primer elemento a asignar a una máquina es el $4$, de esta manera, se agregarían todos los elementos distintos a $5$ a la otra máquina, hasta que se llegue a este número y se asigne a la máquina con menor carga, es decir, la máquina o subsecuencia que solo cuenta con el número $4$ dentro de ella.\n",
        "\n",
        "Finalmente se realiza la verificación de cada solución que entrega el algoritmo hasta que se llegue a la respuesta esperada. De lo contrario se lanzaría una notificación de no haber encontrado la suma de sub-sets dentro del arreglo de entrada."
      ],
      "metadata": {
        "id": "wtgK1aeymMCa"
      }
    },
    {
      "cell_type": "markdown",
      "source": [
        "## 4. Algoritmos para resolver los problemas"
      ],
      "metadata": {
        "id": "O2qm7f4S-ol5"
      }
    },
    {
      "cell_type": "markdown",
      "source": [
        "### 4.1 Problema de la mochila\n",
        "\n",
        "Un algoritmo simple para resolver el problema de la mochila es utilizando programación dinámica:\n",
        "\n",
        "Primero definimos la siguiente **sub-estructura óptima**\n",
        "\n",
        "<a href=\"https://imgur.com/OtszXrG\"><img src=\"https://imgur.com/OtszXrG.png\" title=\"source: imgur.com\" /></a>\n",
        "\n",
        "donde:\n",
        "\n",
        "* `m` = matriz  \n",
        "\n",
        "* `p` = precio\n",
        "\n",
        "* `p[i]`  = precio del objeto actual  \n",
        "\n",
        "* `v[i]` = valor del objeto actual\n",
        "\n",
        "Por lo que para el funcionamiento de este algoritmo, y analizando su sub-estructura óptima, se divide en los 3 siguientes casos: \n",
        "\n",
        "1. En primer caso, si nos encontramos en la fila 0 o columna 0 de la matriz, asignaremos un 0.\n",
        "\n",
        "2. En un segundo caso, si el peso del objeto supera al peso hasta el momento (`p[i] > p`), asignaremos el peso del objeto anterior\n",
        "\n",
        "3. Como tercer y último caso, es cuando el peso del objeto es igual o menor al peso actual (`p[i] =< p`), aquí el valor que asignaremos será el máximo entre 2 opciones: \n",
        "\n",
        " * El valor máximo anterior (Sin aumentar el valor del objeto actual) \n",
        "\n",
        " * El valor del objeto anterior y peso menos el peso del objeto actual, todo esto más el valor del objeto actual.\n",
        "\n",
        "Así, en cada iteración nos iremos quedando con el valor máximo hasta el momento, por lo que al llenar la tabla, se retorna el `m[cantidad de elementos, peso máximo]` (que nos indica la última posición de la tabla)\n",
        "\n",
        "###Tiempo de ejecución \n",
        "\n",
        "Este algoritmo para resolver el problema de la mochila, tiene un **tiempo de ejecución** de $O(n*w)$, siendo \"n\" la cantidad de objetos y \"w\" la variable peso. "
      ],
      "metadata": {
        "id": "MuXRQPwCC4I4"
      }
    },
    {
      "cell_type": "markdown",
      "source": [
        "### 4.2 Makespan\n",
        "\n",
        "El algoritmo capáz de resolver los problemas es el anteriormente mencionado, el algoritmo **Graham**. Este es un algoritmo Greedy, consistente en buscar una solución que parece ser óptima en cada iteración, para luego llegar a una solución final.\n",
        "\n",
        "Los algoritmos greedy son especialmente útiles para este tipo de casos en los cuales los problemas son NP-hard, debido a que al no tener una certeza de cómo llegar exactamente a una solución óptima, se opta por los algoritmos que si bien no aseguran una respuesta exacta, **sugieren** una salida que a priori podría ser la solución al problema.\n",
        "\n",
        "En este sentido es que el algoritmo Graham realiza una búsqueda arbitraria en el arreglo de tareas, asignándolas a las máquinas disponibles, buscando la que tenga una menor carga en ese momento, logrando así una distribución lo más uniforme posible, para conseguir de esta forma el menor *makespan*.\n",
        "\n",
        "Por consiguiente el algoritmo se compondría de dos ciclos, uno anidado dentro de otro. En primer lugar estaría un ciclo que recorrería el arreglo de tareas (iría por consiguiente de $1$ hasta $n$ siendo $n$ la cantidad de tareas a realizar). Dentro de este ciclo lo que ocurriría es que se busca de forma linear la máquina que tenga en aquella iteración la menor carga $C$ (este ciclo por ende iría desde $1$ hasta $m$). En el momento en que se encuentre aquella máquina con la menor carga hasta el momento, se le asigna la tarea y se suma su largo a la cuenta de cargas de cada máquina.\n",
        "\n",
        "Finalmente el tiempo de ejecución de este algoritmo trivialmente es del orden $O(mn)$, debido a que se compone de dos ciclos `for`, y que el resto de asginaciones como son sumar un elemento a una cuenta o arreglo (el arreglo de máquinas) toman un tiempo constante."
      ],
      "metadata": {
        "id": "rpbxpKbMwS9N"
      }
    }
  ]
}