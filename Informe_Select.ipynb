{
  "nbformat": 4,
  "nbformat_minor": 0,
  "metadata": {
    "colab": {
      "provenance": [],
      "collapsed_sections": []
    },
    "kernelspec": {
      "name": "python3",
      "display_name": "Python 3"
    },
    "language_info": {
      "name": "python"
    }
  },
  "cells": [
    {
      "cell_type": "markdown",
      "source": [
        "# 1. Descripción del problema"
      ],
      "metadata": {
        "id": "ys2SqerWtrgy"
      }
    },
    {
      "cell_type": "markdown",
      "source": [
        "El problema a tratar por este algoritmo es el **problema de selección**, que consiste en encontrar un elemento $x$ dentro de un arreglo de números $A$ no necesariamente ordenado. Este elemento cumple la condición de ser mayor a una cantidad $i$ de elementos dentro del arreglo y es conocido como el **Estadístico de orden i-ésimo de A**.\n",
        "\n",
        "El concepto de **Estadísticos de orden**, hace referencia específicamente a un elemento mayor a una cierta cantidad de números dentro de una muestra. Estos cumplen un rol muy importante para la estadística no paramétrica y de inferencia.\n",
        "\n",
        "**Entrada:** Conjunto de *n* números diferentes de la forma $[a_1,a_2,...,a_n]$ y un índice $i$.\n",
        "\n",
        "**Salida**: Un número $x$ el cual cumple la condición de ser mayor a una cantidad $i-1$ de elementos dentro dentro del conjunto.\n",
        "\n",
        "**Tamaño del problema:** El tamaño para este problema viende definido por el tamaño de la muestra $A$ a analizar.\n",
        "\n",
        "\n",
        "<a href=\"https://imgur.com/NfHdgc4\"><img src=\"https://i.imgur.com/NfHdgc4.jpg\" title=\"source: imgur.com\" /></a>\n"
      ],
      "metadata": {
        "id": "r7Vhn5P9uU07"
      }
    },
    {
      "cell_type": "markdown",
      "source": [
        "# 2. Algoritmo Select\n"
      ],
      "metadata": {
        "id": "15etIsSS32ep"
      }
    },
    {
      "cell_type": "markdown",
      "source": [
        "## 2.1 Código"
      ],
      "metadata": {
        "id": "tkaX9fGbBQp3"
      }
    },
    {
      "cell_type": "code",
      "source": [
        "Contador1 = 0 #Contador para comparaciones dentro de pivot selection\n",
        "\n",
        "def insertionSort(array):\n",
        "\tglobal Contador1\n",
        "\n",
        "\tfor i in range (1,len(array)): #Ciclo más grande, es el que realiza cada paso del algoritmo\n",
        "\t\tkey = array[i] #Se guarda número a ubicar\n",
        "\t\tj = i-1\n",
        "\n",
        "\t\twhile 1:\n",
        "\t\t\tContador1 += 1\n",
        "\t\t\tif j >= 0 and key < array[j]:\n",
        "        #Si el número es mayor al de su izquierda, se intercambian de posición entre ellos\n",
        "\t\t\t\tarray[j+1] = array[j]\n",
        "\t\t\t\tarray[j] = key\n",
        "\t\t\t\tj-=1 #Se modifica variable j para seguir recorriendo el arreglo hacia la izquierda hasta llegar a la posición 0\n",
        "\t\t\telse:\n",
        "\t\t\t\tbreak #De no ser necesario una permutación, se sigue avanzando para el siguiente número\n",
        "\n",
        "def mediana(A, l, n):  #Algortimo para encontrar medianas usando Insertion Sort\n",
        "\taux = []\n",
        "\n",
        "\tfor i in range (l, l+n):\n",
        "\t\taux.append(A[i])\n",
        "\t\n",
        "\tinsertionSort(aux)\n",
        "\n",
        "\treturn aux[n // 2]\n",
        "\n",
        "\n",
        "def pivotSelection(A, l, r):\n",
        "\n",
        "\t# Cantidad de elementos dentro del arreglo\n",
        "\tn = r - l + 1\n",
        " \n",
        "\tmedianas = []  #arreglo auxiliar para guardar medianas\n",
        " \n",
        "\ti = 0\n",
        "\twhile (i < n // 5):  #Se divide el arreglo en grupos de 5 y se guardan las medianas en arreglo auxiliar\n",
        "\t\tmedianas.append(mediana(A, l + i * 5, 5))\n",
        "\t\ti += 1\n",
        " \n",
        "\tif (i * 5 < n):\n",
        "\t\tmedianas.append(mediana(A, l + i * 5, n % 5))\n",
        "\t\ti += 1\n",
        " \n",
        "\tif len(medianas) == 1:   #Si el arreglo auxiliar solo tiene un elemento, se ha encontrado la mediana y se retorna\n",
        "\t\tmedOfMed = medianas[0]\n",
        "\telse:\n",
        "\t\tmedOfMed = pivotSelection(medianas, 0, i - 1) #En caso de no encontrar aún la mediana, se aplica recursividad en arreglo auxiliar\n",
        "\n",
        "\treturn medOfMed  #Se retorna la mediana de las medianas\n",
        "\n",
        "def partition(l, r, A, pivot):\n",
        "\tfor i in range(l, r):\n",
        "\t\tif A[i] == pivot:\n",
        "\t\t\tA[i], A[r] = A[r], A[i]\n",
        "\t\t\tbreak\n",
        " \n",
        "\tptr = l\n",
        "\tfor i in range(l, r):\n",
        "\t\tif A[i] <= pivot:\n",
        "\t\t\t\tA[i], A[ptr] = A[ptr], A[i]\n",
        "\t\t\t\tptr += 1\n",
        "\tA[ptr], A[r] = A[r], A[ptr]\n",
        "\treturn ptr\n",
        "\n",
        "def select(A, l, r, i, verbose):\n",
        "\tif(i > 0 and l != r and i-1 <= r): #Se comprueba si el índice a buscar se encuentra dentro del arreglo y es válido\n",
        "\t\tpivot = pivotSelection(A, l, r)\n",
        "\t\n",
        "\t\tif verbose == True:\n",
        "\t\t\tprint(\"Pivote seleccionado para la partición: \" + \"\\033[92m\" + str(pivot))\n",
        "\t\t\tprint(\"\\033[0m\")\n",
        "\n",
        "\t\tpi = partition(l, r, A, pivot)\n",
        "\t\n",
        "\t\tif verbose == True:\n",
        "\t\t\tprint(\"PARTICIÓN REALIZADA\\n \" + \"\\033[34m\" + \"COLOR AZUL: VALORES MENORES \" + \"\\033[33m\" + \"COLOR AMARILLO: VALORES MAYORES\")\n",
        "\t\t\tprint(\"\\033[0m\")\n",
        "\t\t\tprint(\"[\", end = '')\n",
        "\t \n",
        "\t\t\tif(r != l):\n",
        "\t\t\t\tprint(\"\\033[34m\", end = '')\n",
        "\t\t\telse:\n",
        "\t\t\t\tprint(\"\\033[0m\", end = '')\n",
        "\t\t\t\n",
        "\t\t\tfor j in range(l, pi):\n",
        "\t\t\t\tprint(str(A[j]) + \", \", end = '')\n",
        "\t\t\n",
        "\t\t\tprint(\"\\033[0m\", end = '')\n",
        "\t \n",
        "\t\t\tif pi == r:\n",
        "\t\t\t\tprint(str(A[pi]), end = '')\n",
        "\t\t\telse:\n",
        "\t\t\t\tprint(str(A[pi]) + \", \", end = '')\n",
        "\t\t\t\tprint(\"\\033[33m\", end = '')\n",
        "\n",
        "\t\t\tfor j in range(pi+1, r+1):\n",
        "\t\t\t\tif j == r:\n",
        "\t\t\t\t\tprint(str(A[j]), end = '')\n",
        "\t\t\t\telse:\n",
        "\t\t\t\t\tprint(str(A[j]) + \", \", end = '')\n",
        "\t\t \n",
        "\t\t\tprint(\"\\033[0m\", end = '')\n",
        "\t\t\tprint(\"]\\n\")\n",
        "\n",
        "\t\tif(i-1 < pi):\n",
        "\t\t\tif verbose == True:\n",
        "\t\t\t\tprint(str(i) + \" es menor a la posición del pivote \" + \"(\" + str(pi+1) + \")\" + \" se sigue con la mitad izquierda\\n\")\n",
        "\t\t\treturn select(A, l, pi - 1, i, verbose)\n",
        "\t\tif(i-1 == pi):\n",
        "\t\t\tif verbose == True:\n",
        "\t\t\t\tprint(str(i) + \" es igual a la posición del pivote \" + \"(\" + str(pi+1) + \")\" + \" se retorna el elemento en la posición \" + str(pi+1))\n",
        "\t\t\treturn A[pi]\n",
        "\t\tif verbose == True:\n",
        "\t\t\t\tprint(str(i) + \" es mayor a la posición del pivote \" + \"(\" + str(pi+1) + \")\" + \" se sigue con la mitad derecha\\n\") \n",
        "\t\treturn select(A, pi + 1, r, i, verbose)\n",
        "\tif (l == r):\n",
        "\t\treturn A[0]\n",
        "\treturn\n",
        "#Ejemplo\n",
        "A = [12, 3, 2, 9, 17, 0, 21, 7, 5, 4, 8, 11, 6, 15, 1]\n",
        "i = 1\n",
        "k = 0\n",
        "verbose = False\n",
        "\n",
        "print(\"Entrada: \", A, \"índice a buscar: \", i)\n",
        " \n",
        "Contador1 = 0 #Contador de llamadas recursivas\n",
        "Contador2 = 0 #Contador de comparaciones\n",
        "\n",
        "k = select(A, 0, len(A)-1, i, verbose)\n",
        "\n",
        "if verbose == True:\n",
        "\tprint(\"\\nSalida: \" + \"\\033[92m\" + str(k) + \"\\033[0m\" + \" contador de comparaciones: \" + \"\\033[92m\" + str(Contador1) + \"\\033[0m\")\n",
        "else:\n",
        "\tprint(\"Salida: \", k, \"contador de comparaciones: \", Contador1)"
      ],
      "metadata": {
        "colab": {
          "base_uri": "https://localhost:8080/"
        },
        "id": "TeFqDcQwBWOs",
        "outputId": "81cd0fd0-e4dd-40ee-a7eb-ce1175452508"
      },
      "execution_count": 10,
      "outputs": [
        {
          "output_type": "stream",
          "name": "stdout",
          "text": [
            "Entrada:  [12, 3, 2, 9, 17, 0, 21, 7, 5, 4, 8, 11, 6, 15, 1] índice a buscar:  1\n",
            "Salida:  0 contador de comparaciones:  54\n"
          ]
        }
      ]
    },
    {
      "cell_type": "markdown",
      "source": [
        "## 2.2 Descripción\n",
        "\n"
      ],
      "metadata": {
        "id": "22CyMFk__bYn"
      }
    },
    {
      "cell_type": "markdown",
      "source": [
        "El algoritmo de Select consiste en encontrar la posición i-ésima correspondiente al estadístco de orden que se está buscando mediante la realización de particiones recursivas al arreglo de entrada, alrededor de un pivote determinado. Este proceso de particiones es idéntico al utilizado en algoritmos como QuickSort, en el cual los elementos del arreglo son ordenados alrededor de un número llamado **pivote**. Así, el resto de elementos son ubicados a la izquierda del pivote si son menores a este, o a la derecha si es que son mayores.\n",
        "\n",
        "**Entrada:** Un arreglo o lista con $n$ cantidad de números, además de un índice $i$.\n",
        "\n",
        "**Salida:** Un elemento con una ubicación q-ésima en el arreglo, cuya posición coincide con el índice $i$ dado.\n",
        "\n",
        "Como se mencionó anteriormente, este algoritmo repite el funcionamiento de el algoritmo QuickSort para realizar el método **partition**. La diferencia de Select con respecto a este algoritmo, es la forma en que se determina el pivote. Este algoritmo hace uso de la función llamada **pivot-seleccion**, la cual busca generar particiones lo más balanceadas posibles, mediante la búsqueda de un pivote que se acerque lo más posible a la mediana real del conjunto. Para conseguir esto esta función realiza los siguientes pasos.\n",
        "\n",
        "1. Se divide el arreglo de $n$ elementos en una cantidad $n/5$ de sub-arreglos que contengan $5$ elementos cada uno. Existe la posibilidad que el último sub-arreglo pueda tener menos de la cantidad mencionada.\n",
        "\n",
        "2. Ordena cada sub-arreglo utilizando Insertion Sort  y busca la mediana de cada uno de ellos. Estas medianas se guardan simultáneamente en un arreglo auxiliar.\n",
        "\n",
        "3. Se aplica el mismo algoritmo **Pivot Selection** recursivamente sobre el arreglo de medianas hasta que su tamaño sea de 1 elemento. Este será por consecuencia la mediana del arreglo original.\n",
        "\n",
        "Luego de aplicar esta función, el algoritmo select procede a comparar el índice $i$ que se está buscando, con la posición en la cual quedó el pivote luego de la función **Pivot Selection**, ante lo cual se desprederán estas 3 nuevas opciones:\n",
        "\n",
        "1. En caso de que $i$ sea igual a la posición del pivote, se retorna el elemento que se encuentre en esta posición.\n",
        "\n",
        "2. En caso de que $i$ sea mayor a la posición del pivote, se aplicará recursivamente el algoritmo Select a la mitad derecha del arreglo, que contiene a los valores mayores al pivote.\n",
        "\n",
        "3. En caso de que $i$ sea menor a la posición del pivote, se aplicará recursivamente este algoritmo a la mitad izquierda del arreglo, en la cual están los números menores al pivote."
      ],
      "metadata": {
        "id": "chIfPkf2BbHS"
      }
    },
    {
      "cell_type": "markdown",
      "source": [
        "## 2.3 Ejemplo"
      ],
      "metadata": {
        "id": "lupJG8CPgtQp"
      }
    },
    {
      "cell_type": "markdown",
      "source": [
        "En la siguiente imagen se iluistrará y luego se explicará un ejemplo del uso del algoritmo Select para el arreglo `A = [12, 3, 2, 9, 17, 0, 21, 7, 5, 4, 8, 11, 6, 15, 1]`, en el cual se buscará el mínimo elemento, es decir, el estadístico de orden $1$, el cual por propiedad es mayor a exactamente $1-1 = 0$ elementos.\n",
        "\n",
        "<a href=\"https://imgur.com/qS2uPZ5\"><img src=\"https://i.imgur.com/qS2uPZ5.jpg\" title=\"source: imgur.com\" /></a>\n",
        "\n",
        "A lo largo de la ilustración se observa paso a paso el funcionamiento del algoritmo, distribuido en 3 pasos principales que consisten en las tres llamadas a partition que se realizan para este ejemplo, junto con los pivotes que son seleccionados por **Pivot Selection** después de cada partición.\n",
        "\n",
        "Tamibién se indica con cuál mitad se continuará trabajando para encontrar el índice $i$, hasta que finalmente se llega a un arreglo de un elemento que trivialment corresponde al mínimo valor del arreglo de entrada."
      ],
      "metadata": {
        "id": "TvUvIP8mgwmu"
      }
    },
    {
      "cell_type": "markdown",
      "source": [
        "## 2.4 Ejecución del código con opción verbose"
      ],
      "metadata": {
        "id": "aH8E7ZNKkxjd"
      }
    },
    {
      "cell_type": "code",
      "source": [
        "import random\n",
        "\n",
        "A = random.sample(range(1, 100), 15)\n",
        "i = random.randint(1,15)\n",
        "verbose = True\n",
        "\n",
        "if(verbose == True):\n",
        "\tprint(\"Entrada: \" + \"\\033[92m\" + str(A) + \"\\033[0m\" + \" Índice a buscar: \" + \"\\033[92m\" + str(i))\n",
        "\tprint(\"\\033[0m\")\n",
        "else:\n",
        "\tprint(\"Entrada: \", A)\n",
        "\n",
        "Contador1 = 0\n",
        "\n",
        "k = select(A, 0, len(A)-1, i, verbose)\n",
        "\n",
        "if(verbose == True):\n",
        "\tprint(\"\\nSalida: \" + \"\\033[92m\" + str(k) + \"\\033[0m\" + \" Cantidad de comparaciones: \" + str(Contador1))\n",
        "\tprint(\"\\033[0m\")"
      ],
      "metadata": {
        "colab": {
          "base_uri": "https://localhost:8080/"
        },
        "id": "CcQhUKuJk2bd",
        "outputId": "e071bb8d-6665-43d6-e7c1-a2629ce51912"
      },
      "execution_count": 4,
      "outputs": [
        {
          "output_type": "stream",
          "name": "stdout",
          "text": [
            "Entrada: \u001b[92m[66, 62, 56, 13, 11, 31, 20, 40, 93, 23, 59, 68, 19, 44, 12]\u001b[0m Índice a buscar: \u001b[92m5\n",
            "\u001b[0m\n",
            "Pivote seleccionado para la partición: \u001b[92m44\n",
            "\u001b[0m\n",
            "PARTICIÓN REALIZADA\n",
            " \u001b[34mCOLOR AZUL: VALORES MENORES \u001b[33mCOLOR AMARILLO: VALORES MAYORES\n",
            "\u001b[0m\n",
            "[\u001b[34m13, 11, 31, 20, 40, 23, 19, 12, \u001b[0m44, \u001b[33m56, 59, 68, 66, 62, 93\u001b[0m]\n",
            "\n",
            "5 es menor a la posición del pivote (9) se sigue con la mitad izquierda\n",
            "\n",
            "Pivote seleccionado para la partición: \u001b[92m20\n",
            "\u001b[0m\n",
            "PARTICIÓN REALIZADA\n",
            " \u001b[34mCOLOR AZUL: VALORES MENORES \u001b[33mCOLOR AMARILLO: VALORES MAYORES\n",
            "\u001b[0m\n",
            "[\u001b[34m13, 11, 12, 19, \u001b[0m20, \u001b[33m23, 31, 40\u001b[0m]\n",
            "\n",
            "5 es igual a la posición del pivote (5) se retorna el elemento en la posición 5\n",
            "\n",
            "Salida: \u001b[92m20\u001b[0m Cantidad de comparaciones: 51\n",
            "\u001b[0m\n"
          ]
        }
      ]
    },
    {
      "cell_type": "markdown",
      "source": [
        "Las impresiones en caso de que la opción verbose esté activada ilustran lo que va sucediendo con el arreglo luego de reorganizarlo con la función partition.\n",
        "\n",
        "Se describe también a cual mitad se e aplicará nuevamente el algoritmo Select para una nueva partición hasta que el pivote seleccionado coincide con el valor buscado."
      ],
      "metadata": {
        "id": "uCrzC2a9lTIn"
      }
    },
    {
      "cell_type": "markdown",
      "source": [
        "# 3. Propidades del algoritmo"
      ],
      "metadata": {
        "id": "O7WrlqsOmNM2"
      }
    },
    {
      "cell_type": "markdown",
      "source": [
        "## 3.1Tiempo de ejecución"
      ],
      "metadata": {
        "id": "OF3niKpRgDDp"
      }
    },
    {
      "cell_type": "markdown",
      "source": [
        "Para el tiempo de ejecución de este algoritmo, se debe analizar el comportamiento de este paso a paso.\n",
        "\n",
        "Tenemos que para el primer paso, el cual consiste en dividir el arreglo, su complejidad corresponde a $O(n)$, debido a que se recorre el arreglo completo para realizar este paso.\n",
        "\n",
        "Para el segundo, el cual consisite en encontrar las medianas, tenemos que Insertion Sort se aplica para arreglos de un tamaño constante $O(1$, con lo cual su tiempo de ejecución es de $O(n)$.\n",
        "\n",
        "En el paso tres, tarda un tiempo $T(n/5)$ debido a que se aplica recursivamente el algoritmo Select sobre el arreglo de medianas del cual el tamaño se sabe que es $n/5$.\n",
        "\n",
        "Para el paso cuatro, en el cual es aplicada la función partition, la cual toma un tiempo de ejecución de $O(n)$ debido a que consta solamente de recorrer el arreglo original y distribuir cada elemento alrededor del pivote.\n",
        "\n",
        "Finalmente, en el paso cinco, tenemos que las posibilidades son encontrar el índice indicado, o aplicar recursivamente el algoritmo a alguna de las mitades menores o mayores que $k$. Lo cual representa aplicar el algoritmo a lo más a una cantidad $7n \\above 1pt 10$ $+6$ de elementos.\n",
        "\n",
        "Es importante recalcar que es necesario definir una constante la cual delimita que para una cantidad $n>c$, el algoritmo funcionará en un tiempo lineal $O(1)$, debido al tiempo de ejecución marcado para este último paso.\n",
        "\n",
        "Con lo cual tenemos la siguiente función de recurrencia:\n",
        "\n",
        "\\begin{equation}\n",
        "T(n) = \\begin{cases}\n",
        "  O(1)  & N < 140 \\\\\n",
        "  T([n/5]) + T(7n/10 + 6)  + O(n) & N \\leq 140\n",
        "\\end{cases}\n",
        "\\end{equation}\n",
        "\n",
        "Para el caso 2, se realiza la resolución de la función de recurrencia mediante substitución, en el cual se probará la relación $T(n) \\leq cn$.\n",
        "\n",
        "\\begin{equation}\n",
        "T(n) \\leq cn/5 + c(7n/10 + 6) + O(n)\n",
        "\\end{equation}\n",
        "\\begin{equation}\n",
        "T(n) \\leq cn/5 + c + 7cn/10 + 6c + O(n)\n",
        "\\end{equation}\n",
        "\\begin{equation}\n",
        "T(n) \\leq 9cn/10 + 7c + O(n)\n",
        "\\end{equation}\n",
        "\\begin{equation}\n",
        "T(n) \\leq cn\n",
        "\\end{equation}\n",
        "\n",
        "Esta resolución se consigue eligiendo un valor a $c \\geq 140$, según se indica en la relación anterior.\n",
        "\n",
        "Finalmente tenemos que el tiempo de ejecución para el algoritmo Select es de $O(n)$."
      ],
      "metadata": {
        "id": "JPt5dd97mRGw"
      }
    },
    {
      "cell_type": "markdown",
      "source": [
        "## 3.2 Correctitud"
      ],
      "metadata": {
        "id": "veB1VpruTZTd"
      }
    },
    {
      "cell_type": "markdown",
      "source": [
        "### **3.2.1 Teorema  de correctitud de algoritmo Select**\n",
        "\n",
        "El algoritmo Select, dado un arreglo del orden $[a_1,a_2, \\ldots ,a_n]$, y un índice $i$ tal que $1 \\leq i \\leq n$, retorna correctamente un elemento en una posición $i$-ésima perteneciente al arreglo de entrada, el cual cumple la condición de ser mayor a una cantidad $i-1$ de elementos. Es decir $[a_1, a_2, \\ldots \\leq a_i]$ \n",
        "\n",
        "### **Prueba del teorema**\n",
        "\n",
        "Debido a que este es un algoritmo recursivo, para la prueba de este teorema se hará uso del método de inducción matemática, el cual consiste en demostrar que una propoisición $P(n)$ se cumple para todos los números $n$. Para esto se deben aplicar los siguientes puntos:\n",
        "\n",
        "1. Probar que $P(n)$ se cumple para un caso base.\n",
        "2. Probar que si $P(k)$ es verdadera, entonces también se cumple para $P(k+1)$\n",
        "\n",
        "### **Caso base**\n",
        "\n",
        "El caso base es para cuando $n=1$, es decir Select se aplica para un arreglo con tan solo un elemento, en este caso, el único índice posible a solicitar es el índice $1$. Para este caso algoritmo retorna el único elemento ubicado en la primera posición del arreglo, el cual cumple la propiedad de ser mayor a $1-1=0$ elementos.\n",
        "\n",
        "### **Paso inductivo**\n",
        "\n",
        "Para este caso se asume que el algoritmo select se cumple para todos los elementos menores o iguales a $n$. \n",
        "\n",
        "Luego se observa que para una entrada $n+1$, luego de la función partition se generan dos sub-arreglos además de un pivote en una posición intermedia $k$, en torno a la cual se reorganizarán los números ubicando los menores a la izquierda de este y los mayores a la derecha. En caso de ser $k$ igual al índice $i$ se retorna el elemento $a_k$ y corresponde a un elemento mayor a una cantidad $i - 1$ de valores del arreglo. \n",
        "\n",
        "Después de esto, si $i < k$, se continuará aplicando el algoritmo Select en el conjunto a la izquierda del pivote, donde se encuentran los valores menores a este. En caso contrario, donde $i > k$, se aplicará el algoritmo Select al conjunto ubicado a la derecha del pivote, donde se ubican los valores mayores. \n",
        "\n",
        "Estos sub-arreglos previamente mencionados son de tamaño menor o igual a $n+1$ y por consecuencia menor o igual a $n$, por lo cual debido a la suposición inicial del teorema, el algoritmo Select funcionará correctamente.\n"
      ],
      "metadata": {
        "id": "tJDa10Nfw1d6"
      }
    },
    {
      "cell_type": "markdown",
      "source": [
        "# 4. Experimentos"
      ],
      "metadata": {
        "id": "N14_QSBIgUUe"
      }
    },
    {
      "cell_type": "code",
      "source": [
        "#Código extraído de https://www.geeksforgeeks.org/quickselect-algorithm/\n",
        "#Para este caso, la función partition no recibe un pivote en específico sino que realiza el reordenamiento\n",
        "#alrededor del elemento ubicado en la última posición del arreglo, independiente de cuál sea este.\n",
        "\n",
        "def partition2(arr, l, r):\n",
        "      \n",
        "    x = arr[r]\n",
        "    i = l\n",
        "    for j in range(l, r):\n",
        "          \n",
        "        if arr[j] <= x:\n",
        "            arr[i], arr[j] = arr[j], arr[i]\n",
        "            i += 1\n",
        "              \n",
        "    arr[i], arr[r] = arr[r], arr[i]\n",
        "    return i\n",
        "  \n",
        "# finds the kth position (of the sorted array) \n",
        "# in a given unsorted array i.e this function \n",
        "# can be used to find both kth largest and \n",
        "# kth smallest element in the array. \n",
        "# ASSUMPTION: all elements in arr[] are distinct\n",
        "def kthSmallest(arr, l, r, k):\n",
        "  \n",
        "    # if k is smaller than number of\n",
        "    # elements in array\n",
        "    if (k > 0 and k <= r - l + 1):\n",
        "  \n",
        "        # Partition the array around last\n",
        "        # element and get position of pivot\n",
        "        # element in sorted array\n",
        "        index = partition2(arr, l, r)\n",
        "  \n",
        "        # if position is same as k\n",
        "        if (index - l == k - 1):\n",
        "            return arr[index]\n",
        "  \n",
        "        # If position is more, recur \n",
        "        # for left subarray \n",
        "        if (index - l > k - 1):\n",
        "            return kthSmallest(arr, l, index - 1, k)\n",
        "  \n",
        "        # Else recur for right subarray \n",
        "        return kthSmallest(arr, index + 1, r, \n",
        "                            k - index + l - 1)\n",
        "    print(\"Index out of bound\")\n",
        "  \n",
        "# Driver Code\n",
        "arr = [ 10, 4, 5, 8, 6, 11, 26 ]\n",
        "n = len(arr)\n",
        "k = 3\n",
        "print(\"Entrada: \", arr)\n",
        "print(\"K-th smallest element is \", end = \"\")\n",
        "print(kthSmallest(arr, 0, n - 1, k))\n",
        "  \n",
        "# This code is contributed by Muskan Kalra."
      ],
      "metadata": {
        "id": "dI0U8GPlSpP4",
        "colab": {
          "base_uri": "https://localhost:8080/"
        },
        "outputId": "9374a3d4-5699-4aa2-9ecf-973716954600"
      },
      "execution_count": 21,
      "outputs": [
        {
          "output_type": "stream",
          "name": "stdout",
          "text": [
            "Entrada:  [10, 4, 5, 8, 6, 11, 26]\n",
            "K-th smallest element is 6\n"
          ]
        }
      ]
    },
    {
      "cell_type": "markdown",
      "source": [
        "## 4.1 Relación mejor-peor caso\n",
        "\n",
        "El mejor caso para este algoritmo es demorarse un tiempo lineal $O(n)$, a comparación del peor caso en el cual el tiempo sería cuadrático del orden $O(n^2)$. Esto dependerá de la relación entre qué tan separados estén el pivote y el índice $i$ a buscar."
      ],
      "metadata": {
        "id": "TI2d-BegdSmx"
      }
    },
    {
      "cell_type": "code",
      "source": [
        "import matplotlib.pyplot as plt\n",
        "import math\n",
        "\n",
        "x=[n for n in range(5,20)] \n",
        "y1=[(n*n * math.log2(n)) for n in range(5,20)] # worst case\n",
        "y2=[(n * math.log2(n)) for n in range(5,20)] # best case\n",
        "y=[]; \n",
        "\n",
        "for n in range(5,20):\n",
        "  a = random.sample(range(1, 100), n)\n",
        "  i = random.randint(1,20)\n",
        "  Contador1 = 0\n",
        "\n",
        "  k = select(a, 0, len(a)-1, i, verbose = False)\n",
        "  y.append(Contador1)\n",
        "\n",
        "plt.plot(x,y)\n",
        "plt.plot(x,y1)\n",
        "plt.plot(x,y2)\n",
        "plt.legend([\"Algoritmo Select\", \"Peor caso\", \"Mejor caso\"])\n",
        "\n",
        "plt.xlabel('Tamaño del problema')\n",
        "plt.ylabel('Número de comparaciones')\n",
        "plt.show()"
      ],
      "metadata": {
        "colab": {
          "base_uri": "https://localhost:8080/",
          "height": 282
        },
        "id": "MbtpbKAOhEia",
        "outputId": "f2e52b21-cf46-4079-977d-3d49adda82af"
      },
      "execution_count": 6,
      "outputs": [
        {
          "output_type": "display_data",
          "data": {
            "text/plain": [
              "<Figure size 432x288 with 1 Axes>"
            ],
            "image/png": "[encoded data removed]"
          },
          "metadata": {
            "needs_background": "light"
          }
        }
      ]
    },
    {
      "cell_type": "markdown",
      "source": [
        "### Análisis de resultados\n",
        "\n",
        "Podemos observar la gran diferenciaa entre la cantidad de comparaciones para el mejor y peor caso teórico, cumpliendose sus distribuciones planteadas. Además de cómo el algoritmo Select tiende a estar más cerca del rendimiento del mejor caso, a pesar de contar con algunas fluctuaciones."
      ],
      "metadata": {
        "id": "5yKndq3iel_U"
      }
    },
    {
      "cell_type": "markdown",
      "source": [
        "## 4.2 Comparación con Randomized-Select\n",
        "\n",
        "La variante de este algoritmo es el randomized-select, el cual difiere en la selección del pivote para generar la partición, en vez de seleccionar un pivote mediante el algoritmo Pivot Selection, este se define de una manera aleatoria.\n",
        "\n",
        "A continuación se grafica la diferencia de rendimiento entre las variantes."
      ],
      "metadata": {
        "id": "shXnkOKwb2SZ"
      }
    },
    {
      "cell_type": "code",
      "source": [
        "import matplotlib.pyplot as plt\n",
        "import datetime\n",
        "from timeit import repeat\n",
        "\n",
        "x = []; y1 = [] ; y2 = []\n",
        "\n",
        "for n in range(5,500):\n",
        "\n",
        "  a = random.sample(range(1, 1000), n)\n",
        "  i = random.randint(1,n)\n",
        "  verbose = False\n",
        "\n",
        "  #la función repeat está ejecutando 20 veces InsertionSort con el arreglo a y retorna el mejor tiempo obtenido.\n",
        "  t = repeat(setup=\"from __main__ import select\", stmt=f\"select({a}, {0}, {len(a)-1}, {i}, {verbose})\", repeat=1, number=10)\n",
        "\n",
        "  k = repeat(setup=\"from __main__ import kthSmallest\", stmt=f\"kthSmallest({a}, {0}, {len(a)-1}, {i})\", repeat=1, number=10)\n",
        "\n",
        "  x.append(n)\n",
        "  y1.append(t)\n",
        "  y2.append(k)\n",
        "\n",
        "\n",
        "plt.plot(x,y1)\n",
        "plt.plot(x,y2)\n",
        "plt.legend([\"Select\", \"Random-Select\"])\n",
        "\n",
        "plt.xlabel('n')\n",
        "plt.ylabel('time in ms')\n",
        "plt.show()"
      ],
      "metadata": {
        "colab": {
          "base_uri": "https://localhost:8080/",
          "height": 279
        },
        "id": "eUnECYmBg7W5",
        "outputId": "2ea332a7-a297-4672-9936-e6b374e27d5a"
      },
      "execution_count": 22,
      "outputs": [
        {
          "output_type": "display_data",
          "data": {
            "text/plain": [
              "<Figure size 432x288 with 1 Axes>"
            ],
            "image/png": "[encoded data removed]"
          },
          "metadata": {
            "needs_background": "light"
          }
        }
      ]
    },
    {
      "cell_type": "markdown",
      "source": [
        "### Análisis de resultados\n",
        "\n",
        "En la gráfica se puede apreciar los dos rendimientos según la variante a utilizar. \n",
        "\n",
        "A diferencia de lo que se pudiese suponer, el algoritmo Select tiene un rendimiento promedio peor a la selección aleatoria de pivotes, esto puede deberse al tiempo extra que toma la función Pivot Selection, la cual como se observa, para tamaños grandes de elementos, tiende a ser costosa en tiempo de ejecución."
      ],
      "metadata": {
        "id": "_2sjxEUahFR2"
      }
    }
  ]
}