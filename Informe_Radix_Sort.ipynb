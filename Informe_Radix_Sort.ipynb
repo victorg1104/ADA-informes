{
  "nbformat": 4,
  "nbformat_minor": 0,
  "metadata": {
    "colab": {
      "provenance": [],
      "collapsed_sections": []
    },
    "kernelspec": {
      "name": "python3",
      "display_name": "Python 3"
    },
    "language_info": {
      "name": "python"
    }
  },
  "cells": [
    {
      "cell_type": "markdown",
      "source": [
        "# 1. Descripción del problema"
      ],
      "metadata": {
        "id": "ys2SqerWtrgy"
      }
    },
    {
      "cell_type": "markdown",
      "source": [
        "El problema a tratar por este algoritmo continúa siendo el **problema de ordenamiento**, que consiste en modificar una secuencia de números para que luego de aplicado el algoritmo, los mismos elementos de la secuencia se encuentren en un orden específico. Por ejemplo ordenar los números de un arreglo de menor a mayor o viceversa.\n",
        "\n",
        "**Entrada:** Secuencia de *n* números $[a_1,a_2,...,a_n]$\n",
        "\n",
        "**Salida**: Permutación ordenada de la secuencia de entrada: $[a_1',a_2',...,a_n']$, de tal manera que $a_1'\\leq a_2' \\leq... \\leq a_n'$.\n",
        "\n",
        "**Tamaño del problema:** El tamaño para este problema viende definido por la cantidad *n* de valores a ordenar.\n",
        "\n",
        "\n",
        "<a href=\"https://imgur.com/XWBpqxt\"><img src=\"https://i.imgur.com/XWBpqxt.jpg\" title=\"source: imgur.com\" /></a>\n",
        "\n",
        "La diferencia de este algoritmo con el resto, es que logra tener una complejidad temporal lineal de $O(n)$. Esto debido a que no realiza comparaciones entre sus elementos para situarlos de manera ordenada, sino que hace uso de un algoritmo auxiliar llamado Counting Sort, que define las posiciones de los arreglos sin compararlos, sino que mediante un algoritmo de conteo."
      ],
      "metadata": {
        "id": "r7Vhn5P9uU07"
      }
    },
    {
      "cell_type": "markdown",
      "source": [
        "# 2. Algoritmos\n"
      ],
      "metadata": {
        "id": "15etIsSS32ep"
      }
    },
    {
      "cell_type": "markdown",
      "source": [
        "## 2.1 Counting Sort"
      ],
      "metadata": {
        "id": "tkaX9fGbBQp3"
      }
    },
    {
      "cell_type": "markdown",
      "source": [
        "### 2.1.1 Descripción"
      ],
      "metadata": {
        "id": "b5jHhLjqrg-d"
      }
    },
    {
      "cell_type": "markdown",
      "source": [
        "Este código, como se mencionó anteriormente, utiliza una manera distinta a la que se ha visto para generar un arreglo ordenado. Algunas fuentes comparan el método que utiliza con una especie de \"hashing\", debido a que realiza un algoritmo para determinar la posición de cada elemento del arreglo original, dentro del nuevo arreglo ordenado.\n",
        "\n",
        "Este algoritmo recibe el arreglo original y crea 2 arreglos adicionales:\n",
        "\n",
        "* Un primer arreglo llamado ***count***, que tendrá un tamaño igual al rango en el cual se encuentran los elementos del arreglo original. Este se encargará de contar las ocurrencias de cada número dentro del arreglo. \n",
        "\n",
        "* Un segundo arreglo con el nombre de ***output*** en el cual se reinsertarán los números, pero de manera ordenada.\n",
        "\n",
        "La forma en que opera este algoritmo es la siguiente:\n",
        "\n",
        "1. Se utiliza un primer ciclo para recorrer posición por posición el arreglo de entrada, sumando `1` al índice del arreglo ***count*** correspondiente al número del arreglo original procesado. Es decir, que si en el arreglo original se procesa un número `5`, se sumará `1` en `count[5]`.\n",
        "\n",
        "2. Se recorrerá nuevamente el arreglo `count` para ir sumando sucesivamente cada posición `count[i]` con la posición `count[i-1]`, para de esta manera ir identificando cuántos números se encontrarán antes de cada número a posicionar en el nuvo arreglo ordenado.\n",
        "\n",
        "3. Se recorrerá el arreglo original `A` en sentido inverso, y para cada número `A[i]`, se buscará el índice del arreglo `count` que coincida con ese elemento, de esta manera, la posición que ocupará en el nuevo arreglo de salida será determinado por el número que esté dentro del arreglo `count` en ese índice `A[i]`, menos 1. Es importante recalcar que cada vez que se inserte un número dentro del arreglo de salida `output`, se deberá restar 1 al número que se encuentre en el índice `A[i]` del arreglo `count`.\n",
        "\n",
        "Finalmente se copia el arreglo de salida creado dentro del arreglo original y así este último se encontrará ordenado."
      ],
      "metadata": {
        "id": "9CKYdS_E_FlZ"
      }
    },
    {
      "cell_type": "markdown",
      "source": [
        "### 2.1.2 Código"
      ],
      "metadata": {
        "id": "tJ9pfHUE_AZB"
      }
    },
    {
      "cell_type": "code",
      "source": [
        "def countSort(A, verbose  = False):\n",
        "\tmaxNum = int(max(A))\n",
        "\tminNum = int(min(A))\n",
        "\trango = maxNum - minNum + 1\n",
        "\n",
        "\tif (verbose == True):\n",
        "\t\tprint(\"Rango: \" + str(minNum) + \"-\" + str(maxNum)) \n",
        "\n",
        "  # Crea un arreglo para almacenar el conteo de los números del arreglo a ordenar\n",
        "  # inicializa arreglos con 0\n",
        "\tcount = [0] * rango    # el rango de numeros va a ser el maximo elemento menos el minimo más 1\n",
        "\toutput = [0] * len(A)    # arreglo de salida con los valores ordenados\n",
        "\n",
        "  # Se almacena la cuenta de cada número en el arreglo\n",
        "\tfor i in range(0, len(A)):\n",
        "\t\tif (verbose == True):\n",
        "\t\t\tprint(\"Número a procesar: \" + \"\\033[34m\" + str(A[i]) + \"\\033[0m\")\n",
        "\t\tcount[A[i] - minNum] += 1\n",
        "\t\tif (verbose == True):\n",
        "\t\t\tprint(\"Se suma un 1 a la posición correspondiente de \" + \"\\033[34m\" + str(A[i]) + \"\\033[0m\")\n",
        "\t\t\tprint(\"[\", end = '')\n",
        "\t\t\tfor k in range(0, A[i]-minNum):\n",
        "\t\t\t\tprint(\"\\033[31m\" + str(count[k]) + \", \", end = '')\n",
        "\t\t\tprint(\"\\033[0m\", end = '')\n",
        "\n",
        "\t\t\tif(A[i] - minNum != len(count) - 1):\n",
        "\t\t\t\tprint(\"\\033[92m\" + str(count[A[i] - minNum]) + \", \\033[0m\", end = '')\n",
        "\t\t\telse:\n",
        "\t\t\t\tprint(\"\\033[92m\" + str(count[A[i] - minNum]), end = '')\n",
        "\t \n",
        "\t\t\tfor k in range(A[i]-minNum + 1, len(count)):\n",
        "\t\t\t\tif(k != len(count)-1):\n",
        "\t\t\t\t\tprint(\"\\033[31m\" + str(count[k]) + \", \", end = '')\n",
        "\t\t\t\telse:\n",
        "\t\t\t\t\tprint(\"\\033[31m\" + str(count[k]), end = '')\n",
        "\t\t \n",
        "\t\t\tprint(\"\\033[0m\", end = '')\n",
        "\t \n",
        "\t\t\tprint(\"]\\n\")\n",
        "\tif(verbose == True):\n",
        "\t\tprint(\"Conteo final: \",count)\n",
        "\t\tprint(\"\\nSe acumula el conteo\\n\")\n",
        " \n",
        " \t# Se acumulan los elementos count[i] para que los números contengan la posición correcta en el arreglo de salida\n",
        "\n",
        "\tfor i in range(1, len(count)):\n",
        "\t\tif (verbose == True):\n",
        "\t\t\tprint(\"[\", end = '')\n",
        "\t \n",
        "\t\t\tfor k in range(0, i-1):\n",
        "\t\t\t\tprint(str(count[k]) + \", \", end = '')\n",
        "\t \n",
        "\t\t\tif(i != len(count)-1):\n",
        "\t\t\t\tprint(\"\\033[92m\" + str(count[i-1]) + \", \" + str(count[i]) + \", \", end = '')\n",
        "\t\t\t\tprint(\"\\033[0m\", end = '')\n",
        "\t\t\telse:\n",
        "\t\t\t\tprint(\"\\033[92m\" + str(count[i-1]) + \", \" + str(count[i]), end = '')\n",
        "\t\t\t\tprint(\"\\033[0m\", end = '')\n",
        "\t\t\n",
        "\t\t\tfor k in range(i+1, len(count)):\n",
        "\t\t\t\tif(k != len(count)-1):\n",
        "\t\t\t\t\tprint(str(count[k]) + \", \", end = '')\n",
        "\t\t\t\telse:\n",
        "\t\t\t\t\tprint(str(count[k]), end = '')\n",
        "\t\t \n",
        "\t\t\tprint(\"\\033[0m\", end = '')\n",
        "\t\t\tprint(\"]\")\n",
        "\t\t\tprint(str(count[i-1]) + \"+\" + str(count[i]) + \"\\n\")\n",
        "\t\n",
        "\t\tcount[i] += count[i-1]\n",
        "\n",
        "\tif(verbose == True):\n",
        "\t\tprint(\"Conteo final: \",count)\n",
        "\t\tprint(\"\\nSe arma el arreglo de salida\\n\")\n",
        " \n",
        "  # Se arma el arreglo de salida utilizando las cuentas conseguidas\n",
        "\tfor i in range(len(A)-1, -1, -1):\n",
        "\t\tif (verbose == True):\n",
        "\t\t\tprint(\"Número a posicionar del arreglo original: \" + \"\\033[34m\" + str(A[i]) + \"\\033[0m\")\n",
        "\t\t\tprint(\"Posición correspondiente según count: \")\n",
        "\t \n",
        "\t\t\tprint(\"[\", end = '')\t\n",
        "\t\t\tfor k in range(0, A[i] - minNum):\n",
        "\t\t\t\tprint(\"\\033[31m\" + str(count[k]) + \", \", end = '')\n",
        "\t\t\tprint(\"\\033[0m\", end = '')\n",
        "\n",
        "\t\t\tif(A[i] - minNum != len(count) - 1):\n",
        "\t\t\t\tprint(\"\\033[34m\" + str(count[A[i] - minNum]) + \", \\033[0m\", end = '')\n",
        "\t\t\telse:\n",
        "\t\t\t\tprint(\"\\033[34m\" + str(count[A[i] - minNum]), end = '')\n",
        "\t \n",
        "\t\t\tfor k in range(A[i]-minNum + 1, len(count)):\n",
        "\t\t\t\tif(k != len(count)-1):\n",
        "\t\t\t\t\tprint(\"\\033[31m\" + str(count[k]) + \", \", end = '')\n",
        "\t\t\t\telse:\n",
        "\t\t\t\t\tprint(\"\\033[31m\" + str(count[k]), end = '')\n",
        "\t\t \n",
        "\t\t\tprint(\"\\033[0m\", end = '')\n",
        "\t \n",
        "\t\t\tprint(\"]\\n\")\n",
        "\t \n",
        "\t\toutput[count[A[i] - minNum] - 1] = A[i]\n",
        "\n",
        "\t\tif (verbose == True):\n",
        "\t\t\tprint(\"Arreglo de salida: \")\n",
        "\n",
        "\t\t\tprint(\"[\", end = '')\n",
        "\t\t\tfor k in range(0, count[A[i] - minNum] - 1):\n",
        "\t\t\t\tprint(str(output[k]) + \", \", end = '')\n",
        "\t \n",
        "\t\t\tif(count[A[i] - minNum] - 1 != len(output) - 1):\n",
        "\t\t\t\tprint(\"\\033[92m\" + str(output[count[A[i] - minNum] - 1]) + \", \\033[0m\", end = '')\n",
        "\t\t\telse:\n",
        "\t\t\t\tprint(\"\\033[92m\" + str(output[count[A[i] - minNum] - 1]) + \"\\033[0m\", end = '')\n",
        "\t\t\n",
        "\t\t\tfor k in range(count[A[i]-minNum], len(output)):\n",
        "\t\t\t\tif(k != len(output)-1):\n",
        "\t\t\t\t\tprint(str(output[k]) + \", \", end = '')\n",
        "\t\t\t\telse:\n",
        "\t\t\t\t\tprint(str(output[k]), end = '')\n",
        "\t \n",
        "\t\t\tprint(\"]\\n\")\n",
        "\n",
        "\t\tcount[A[i] - minNum] -= 1\n",
        " \n",
        "  # Se copia el arreglo auxiliar de salida en el arreglo de entrada, para que este contenga los números ordenados\n",
        "\tfor i in range(0, len(A)):\n",
        "\t\tA[i] = output[i]\n",
        " \n",
        "\n",
        "A = [4, 5, 4, 3, 4, 9, 1]\n",
        "\n",
        "print(\"ENTRADA: \", A)\n",
        "\n",
        "countSort(A)\n",
        "\n",
        "print(\"SALIDA: \", A)"
      ],
      "metadata": {
        "colab": {
          "base_uri": "https://localhost:8080/"
        },
        "id": "TeFqDcQwBWOs",
        "outputId": "a7764a63-7d7e-4da4-c166-7160c4058bf5"
      },
      "execution_count": 4,
      "outputs": [
        {
          "output_type": "stream",
          "name": "stdout",
          "text": [
            "ENTRADA:  [4, 5, 4, 3, 4, 9, 1]\n",
            "SALIDA:  [1, 3, 4, 4, 4, 5, 9]\n"
          ]
        }
      ]
    },
    {
      "cell_type": "markdown",
      "source": [
        "Las variables relevantes son:\n",
        "\n",
        "* `maxNum`, la cual almacena el mayor valor dentro del arreglo.\n",
        "* `minNum`, la cual almacena el menor valor dentro del arreglo.\n",
        "* Los arreglos `count` y `output`, los cuales son inicializados en cero para que puedan ser rellenados a medida que transcurre el código.\n",
        "* `i`, variable la cual recorre los arreglos dependiendo del paso en el que se encuentre el algoritmo. Para el primer ciclo, `i` recorre desde cero hasta el largo del arreglo de entrada. En el segundo va desde uno hasta el final del arreglo `count`, comienza desde el uno porque va sumando cada elemento con su anterior. Finalmente recorre desde el final del arreglo de entrada, hasta la primera posición."
      ],
      "metadata": {
        "id": "t9B6CNfIhNwA"
      }
    },
    {
      "cell_type": "markdown",
      "source": [
        "### 2.1.3 Ejecución del código con opción verbose"
      ],
      "metadata": {
        "id": "c9NQXAueAJMr"
      }
    },
    {
      "cell_type": "code",
      "source": [
        "from random import *\n",
        "\n",
        "A = [randint(1, 10) for i in range(5)]\n",
        "\n",
        "print(\"ENTRADA: \", A)\n",
        "\n",
        "countSort(A, verbose = True)\n",
        "\n",
        "print(\"SALIDA: \", A)"
      ],
      "metadata": {
        "id": "L2G-KznhANmv",
        "colab": {
          "base_uri": "https://localhost:8080/"
        },
        "outputId": "46d5482e-854e-44ee-eb4e-416e1529389d"
      },
      "execution_count": 5,
      "outputs": [
        {
          "output_type": "stream",
          "name": "stdout",
          "text": [
            "ENTRADA:  [2, 1, 10, 7, 10]\n",
            "Rango: 1-10\n",
            "Número a procesar: \u001b[34m2\u001b[0m\n",
            "Se suma un 1 a la posición correspondiente de \u001b[34m2\u001b[0m\n",
            "[\u001b[31m0, \u001b[0m\u001b[92m1, \u001b[0m\u001b[31m0, \u001b[31m0, \u001b[31m0, \u001b[31m0, \u001b[31m0, \u001b[31m0, \u001b[31m0, \u001b[31m0\u001b[0m]\n",
            "\n",
            "Número a procesar: \u001b[34m1\u001b[0m\n",
            "Se suma un 1 a la posición correspondiente de \u001b[34m1\u001b[0m\n",
            "[\u001b[0m\u001b[92m1, \u001b[0m\u001b[31m1, \u001b[31m0, \u001b[31m0, \u001b[31m0, \u001b[31m0, \u001b[31m0, \u001b[31m0, \u001b[31m0, \u001b[31m0\u001b[0m]\n",
            "\n",
            "Número a procesar: \u001b[34m10\u001b[0m\n",
            "Se suma un 1 a la posición correspondiente de \u001b[34m10\u001b[0m\n",
            "[\u001b[31m1, \u001b[31m1, \u001b[31m0, \u001b[31m0, \u001b[31m0, \u001b[31m0, \u001b[31m0, \u001b[31m0, \u001b[31m0, \u001b[0m\u001b[92m1\u001b[0m]\n",
            "\n",
            "Número a procesar: \u001b[34m7\u001b[0m\n",
            "Se suma un 1 a la posición correspondiente de \u001b[34m7\u001b[0m\n",
            "[\u001b[31m1, \u001b[31m1, \u001b[31m0, \u001b[31m0, \u001b[31m0, \u001b[31m0, \u001b[0m\u001b[92m1, \u001b[0m\u001b[31m0, \u001b[31m0, \u001b[31m1\u001b[0m]\n",
            "\n",
            "Número a procesar: \u001b[34m10\u001b[0m\n",
            "Se suma un 1 a la posición correspondiente de \u001b[34m10\u001b[0m\n",
            "[\u001b[31m1, \u001b[31m1, \u001b[31m0, \u001b[31m0, \u001b[31m0, \u001b[31m0, \u001b[31m1, \u001b[31m0, \u001b[31m0, \u001b[0m\u001b[92m2\u001b[0m]\n",
            "\n",
            "Conteo final:  [1, 1, 0, 0, 0, 0, 1, 0, 0, 2]\n",
            "\n",
            "Se acumula el conteo\n",
            "\n",
            "[\u001b[92m1, 1, \u001b[0m0, 0, 0, 0, 1, 0, 0, 2\u001b[0m]\n",
            "1+1\n",
            "\n",
            "[1, \u001b[92m2, 0, \u001b[0m0, 0, 0, 1, 0, 0, 2\u001b[0m]\n",
            "2+0\n",
            "\n",
            "[1, 2, \u001b[92m2, 0, \u001b[0m0, 0, 1, 0, 0, 2\u001b[0m]\n",
            "2+0\n",
            "\n",
            "[1, 2, 2, \u001b[92m2, 0, \u001b[0m0, 1, 0, 0, 2\u001b[0m]\n",
            "2+0\n",
            "\n",
            "[1, 2, 2, 2, \u001b[92m2, 0, \u001b[0m1, 0, 0, 2\u001b[0m]\n",
            "2+0\n",
            "\n",
            "[1, 2, 2, 2, 2, \u001b[92m2, 1, \u001b[0m0, 0, 2\u001b[0m]\n",
            "2+1\n",
            "\n",
            "[1, 2, 2, 2, 2, 2, \u001b[92m3, 0, \u001b[0m0, 2\u001b[0m]\n",
            "3+0\n",
            "\n",
            "[1, 2, 2, 2, 2, 2, 3, \u001b[92m3, 0, \u001b[0m2\u001b[0m]\n",
            "3+0\n",
            "\n",
            "[1, 2, 2, 2, 2, 2, 3, 3, \u001b[92m3, 2\u001b[0m\u001b[0m]\n",
            "3+2\n",
            "\n",
            "Conteo final:  [1, 2, 2, 2, 2, 2, 3, 3, 3, 5]\n",
            "\n",
            "Se arma el arreglo de salida\n",
            "\n",
            "Número a posicionar del arreglo original: \u001b[34m10\u001b[0m\n",
            "Posición correspondiente según count: \n",
            "[\u001b[31m1, \u001b[31m2, \u001b[31m2, \u001b[31m2, \u001b[31m2, \u001b[31m2, \u001b[31m3, \u001b[31m3, \u001b[31m3, \u001b[0m\u001b[34m5\u001b[0m]\n",
            "\n",
            "Arreglo de salida: \n",
            "[0, 0, 0, 0, \u001b[92m10\u001b[0m]\n",
            "\n",
            "Número a posicionar del arreglo original: \u001b[34m7\u001b[0m\n",
            "Posición correspondiente según count: \n",
            "[\u001b[31m1, \u001b[31m2, \u001b[31m2, \u001b[31m2, \u001b[31m2, \u001b[31m2, \u001b[0m\u001b[34m3, \u001b[0m\u001b[31m3, \u001b[31m3, \u001b[31m4\u001b[0m]\n",
            "\n",
            "Arreglo de salida: \n",
            "[0, 0, \u001b[92m7, \u001b[0m0, 10]\n",
            "\n",
            "Número a posicionar del arreglo original: \u001b[34m10\u001b[0m\n",
            "Posición correspondiente según count: \n",
            "[\u001b[31m1, \u001b[31m2, \u001b[31m2, \u001b[31m2, \u001b[31m2, \u001b[31m2, \u001b[31m2, \u001b[31m3, \u001b[31m3, \u001b[0m\u001b[34m4\u001b[0m]\n",
            "\n",
            "Arreglo de salida: \n",
            "[0, 0, 7, \u001b[92m10, \u001b[0m10]\n",
            "\n",
            "Número a posicionar del arreglo original: \u001b[34m1\u001b[0m\n",
            "Posición correspondiente según count: \n",
            "[\u001b[0m\u001b[34m1, \u001b[0m\u001b[31m2, \u001b[31m2, \u001b[31m2, \u001b[31m2, \u001b[31m2, \u001b[31m2, \u001b[31m3, \u001b[31m3, \u001b[31m3\u001b[0m]\n",
            "\n",
            "Arreglo de salida: \n",
            "[\u001b[92m1, \u001b[0m0, 7, 10, 10]\n",
            "\n",
            "Número a posicionar del arreglo original: \u001b[34m2\u001b[0m\n",
            "Posición correspondiente según count: \n",
            "[\u001b[31m0, \u001b[0m\u001b[34m2, \u001b[0m\u001b[31m2, \u001b[31m2, \u001b[31m2, \u001b[31m2, \u001b[31m2, \u001b[31m3, \u001b[31m3, \u001b[31m3\u001b[0m]\n",
            "\n",
            "Arreglo de salida: \n",
            "[1, \u001b[92m2, \u001b[0m7, 10, 10]\n",
            "\n",
            "SALIDA:  [1, 2, 7, 10, 10]\n"
          ]
        }
      ]
    },
    {
      "cell_type": "markdown",
      "source": [
        "Las impresiones en caso de que la opción verbose esté activada ilustran lo que va sucediendo con el arreglo en los 3 pasos descritos anteriormente. Se muestra cómo va aumentando la cuenta de cada número del arreglo original en `count`, luego se imprime la acumulación de los elementos de este último arreglo, y finalmente se muestra cómo se va armando el arreglo de salida."
      ],
      "metadata": {
        "id": "uCrzC2a9lTIn"
      }
    },
    {
      "cell_type": "markdown",
      "source": [
        "## 2.2 Radix Sort\n",
        "\n"
      ],
      "metadata": {
        "id": "22CyMFk__bYn"
      }
    },
    {
      "cell_type": "markdown",
      "source": [
        "### 2.2.1 Descripción\n",
        "\n"
      ],
      "metadata": {
        "id": "qXRdj8Qxrbzr"
      }
    },
    {
      "cell_type": "markdown",
      "source": [
        "El algoritmo de Radix Sort consiste en el ordenamiento de un arreglo o lista de números que usa como criterio para intercambiar cada número, el orden en el cual debería estar cada dígito de los elementos de entrada, yendo desde la cifra menos significante hasta la más significante de ellos.\n",
        "\n",
        "**Entrada:** Un arreglo o lista con n cantidad de números.\n",
        "\n",
        "**Salida:** El mismo arreglo con exactamente los mismos elementos pero ordenados de menor a mayor.\n",
        "\n",
        "Este arreglo requiere de un algoritmo adicional de ordenamiento para lograr su correcto funcionamiento, el cual debe tener la característica de ser **estable**, es decir, que para el arreglo de salida, mantenga el orden relativo en el cual se encontraban los elementos repetidos dentro arreglo de entrada."
      ],
      "metadata": {
        "id": "chIfPkf2BbHS"
      }
    },
    {
      "cell_type": "markdown",
      "source": [
        "### 2.2.2 Código\n",
        "\n",
        "Para este código del Radix Sort, el algoritmo auxiliar que ayuda a ordenar el arreglo será el Counting Sort, debido a que es precisamente un algoritmo estable y que funciona especialmente bien cuando sabemos el rango en el cual se pueden estar los elementos del arreglo `count`. En este caso, se utilizará una variante del código mostrado en la sección anterior, ya que como se va a definir la posición de cada número según el dígito de este que se esté procesando, se sabe que estos se mueven en un rango de 0 a 9, por lo cual el arreglo `count` solo tendrá índices en ese rango. Asimismo, para insertar cada elemento también habrá una variación, debido a que se trabajará con potencias de 10 para saber en base a cuál dígito se irá aumentando la cuenta, y así determinar la posición del número en el arreglo `output`."
      ],
      "metadata": {
        "id": "K3RrYdbDuHhg"
      }
    },
    {
      "cell_type": "code",
      "source": [
        "def countSort2(arr, exp):\n",
        " \n",
        "    n = len(arr)\n",
        " \n",
        "    # Arreglo de salida\n",
        "    output = [0] * (n)\n",
        " \n",
        "    # Arreglo count\n",
        "    count = [0] * (10)\n",
        " \n",
        "    # Se guardan las ocurrencias de cada dígito en count\n",
        "    for i in range(0, n):\n",
        "        index = arr[i] // exp    # Cada elemento se divide en la potencia de 10 correspondiente\n",
        "        count[index % 10] += 1    # Luego se saca el módulo de 10 del resultado para determinar el índice correspondiente al cual sumar 1\n",
        " \n",
        "    #Acumulación de los elementos de count para definir correctamente las posiciones finales (igual que en el código anterior)\n",
        "    for i in range(1, 10):\n",
        "        count[i] += count[i - 1]\n",
        " \n",
        "    # Construcción del arreglo de salida (igual que en el código anterior)\n",
        "    i = n - 1\n",
        "    while i >= 0:\n",
        "        index = arr[i] // exp\n",
        "        output[count[index % 10] - 1] = arr[i]\n",
        "        count[index % 10] -= 1\n",
        "        i -= 1\n",
        " \n",
        "    #Se copia el arreglo de salida en el de entrada (igual que en el código anterior)\n",
        "\n",
        "    i = 0\n",
        "    for i in range(0, len(arr)):\n",
        "        arr[i] = output[i]\n",
        "\n",
        "def radixSort(A):\n",
        " \n",
        "    # Encuentra el número con mayor cantidad de dígitos en el arreglo\n",
        "    max1 = max(A)\n",
        " \n",
        "    # Se realiza counting sort según cada dígito de los números del arreglo\n",
        "    # se traspasa la potencia de 10 con la cual se determinará en base a cuál dígito se ordenará\n",
        "\n",
        "    exp = 1\n",
        "    while max1 / exp >= 1:\n",
        "        countSort2(A, exp)\n",
        "        exp *= 10\n",
        "\n",
        "A = [170, 45, 75, 90, 802, 24, 2]\n",
        "\n",
        "print(\"ENTRADA: \", A)\n",
        "# Function Call\n",
        "radixSort(A)\n",
        " \n",
        "print(\"SALIDA: \", A)"
      ],
      "metadata": {
        "colab": {
          "base_uri": "https://localhost:8080/"
        },
        "id": "nclEdP0kuK3l",
        "outputId": "80939221-8d48-4c04-83e4-a9a1e00c429f"
      },
      "execution_count": 6,
      "outputs": [
        {
          "output_type": "stream",
          "name": "stdout",
          "text": [
            "ENTRADA:  [170, 45, 75, 90, 802, 24, 2]\n",
            "SALIDA:  [2, 24, 45, 75, 90, 170, 802]\n"
          ]
        }
      ]
    },
    {
      "cell_type": "markdown",
      "source": [
        "Las variables relevantes son:\n",
        "\n",
        "* `max1`, la cual almacena el mayor valor dentro del arreglo.\n",
        "* `exp`, la cual almacena el valor al cual se eleva el diez. Esto determinará el dígito en base al cual se está trabajando. Por ejemplo si `exp = 2` esto quiere decir que se estará trabajando en base a $10^2$, lo cual corresponde a la centena de cada número del arreglo."
      ],
      "metadata": {
        "id": "un08FhAHiY7a"
      }
    },
    {
      "cell_type": "markdown",
      "source": [
        "### 2.3.3 Ejemplo"
      ],
      "metadata": {
        "id": "lupJG8CPgtQp"
      }
    },
    {
      "cell_type": "markdown",
      "source": [
        "En la siguiente imagen se iluistrará y luego se explicará un ejemplo del uso de Merge Sort para el arreglo `A = [170, 45, 75, 90, 802, 24, 2]`:\n",
        "\n",
        "<a href=\"https://imgur.com/rZawqAD\"><img src=\"https://i.imgur.com/rZawqAD.jpg\" title=\"source: imgur.com\" /></a>\n",
        "\n",
        "* **Columna 1:** Para este primer paso, se observa el arreglo completamente desordenado, tal como entra al algoritmo. Es en este momento que se aplicará el orden por la **unidad** de cada número, es decir, por el dígito correspondiente a $10^0$.\n",
        "\n",
        "* **Columna 2:** En esta segunda columna, vemos cómo los elementos han cambiado de posición y las unidades de cada número se sencuentran ordenadas. Es a esta segunda columna a la cual se le aplicará nuevamente el Counting Sort pero considerando el orden por la **decena**, es decir $10^1$.\n",
        "\n",
        "* **Columna 3:** Para la penúltima columna, tenemos ordenados los números segun sus decenas. Nótese que se van colocando en los primeros lugares a los números que tienen algún $0$ o un espacio vacío en ese dígito.\n",
        "\n",
        "* **Columna 4:** Finalmente tenemos el arreglo de salida, al cual se le aplicó un orden por la **centena**, es decir $10^2$, dejando nuevamente en primer lugar a aquellos números que no presentan un dígito en esa posición y al final a aquellos que sí lo tienen, se dejan en orden de menor a mayor, dando como resultado, el arreglo de salida completamente ordenado.\n",
        "\n",
        "Luego de analizar el ejemplo, es que se observa la importancia de que el algoritmo que se utilice para ordenar los dígitos en cada paso del algoritmo sea estable, debido a que cuando se tiene que definir el orden de números que contengan algún dígito igual, se colocará primero al número que en el paso anterior haya quedado antes. Esto hace que por ejemplo, en el último paso, los números 2 y 24 queden en una posición correcta a pesar de que ambos tienen un espacio vacío en la centena. Debido a que el número 2 estaba antes que el 24 en la entrada, para la salida se mantendrá así, sin alterar el orden final."
      ],
      "metadata": {
        "id": "TvUvIP8mgwmu"
      }
    },
    {
      "cell_type": "markdown",
      "source": [
        "# 3. Propidades del algoritmo"
      ],
      "metadata": {
        "id": "O7WrlqsOmNM2"
      }
    },
    {
      "cell_type": "markdown",
      "source": [
        "## 3.1 Correctitudes"
      ],
      "metadata": {
        "id": "veB1VpruTZTd"
      }
    },
    {
      "cell_type": "markdown",
      "source": [
        "### 3.2.1 Teorema de correctitud Counting Sort"
      ],
      "metadata": {
        "id": "qxir2GE4CxNq"
      }
    },
    {
      "cell_type": "markdown",
      "source": [
        "El algoritmo Counting Sort, luego de ser aplicado sobre un arreglo $[a_1,a_2, \\ldots ,a_n]$, con sus números distribuidos en un rango de {$0,1, \\ldots,k$}, genera un nuevo arreglo ordenado $[a_1',a_2', \\ldots ,a_n']$, tal que $a_1' \\leq a_2' \\leq \\ldots \\leq a_n'$.\n",
        "\n",
        "**Prueba del teorema**\n",
        "\n",
        "Para la comprobación de la correctitud del algortimo se utilizará el método de inducción, el cual ya ha sido explicado en informes anteriores.\n",
        "\n",
        "**Caso base**\n",
        "\n",
        "Cuando el tamaño del arreglo de entrada es $n=1$, y el número que está dentro de este es una constante $k$, el algoritmo Counting Sort genera un arreglo auxiliar que irá del rango {$0, k$}, después de realizar el conteo y posterior suma, se llegará a la conclusión de que no existe ningún otro número menor a $k$ dentro del arreglo de entrada, por lo cual luego el algoritmo posicionará a este número en la primera y única posición del arreglo de salida, el cual estará trivialmente ordenado.\n",
        "\n",
        "**Paso inductivo**\n",
        "\n",
        "Cuando se tiene un arreglo de tamaño $n > 1$, el algortitmo Counting Sort recorrerá todas las posiciones e irá a contando las ocurrencias de cada elemento $k$ dentro del arreglo `count`. Luego de sumar secuencialmente las ocurrencias de cada número dentro del arreglo de entrada, el arreglo obtendrá cuántos elementos son menores o iguales a $k$. De esta forma, el algoritmo se basará en eso para determinar su nueva posicion de dentro del arreglo de salida. Si en algún caso se llegase a repetir este número, el algoritmo resta en uno la cuenta al insertar cada número en el arreglo de salida, por lo cual este elemento repetido $k'$ se colocará en la posición inmediatamente anterior a $k$, generando así un arreglo de salida completamente ordenado.\n",
        "\n"
      ],
      "metadata": {
        "id": "IWSzI4jZTeMh"
      }
    },
    {
      "cell_type": "markdown",
      "source": [
        "### 3.2.2 Teorema  de correctitud de algoritmo Radix Sort"
      ],
      "metadata": {
        "id": "p87C5oZ_LluS"
      }
    },
    {
      "cell_type": "markdown",
      "source": [
        "El algoritmo Radix Sort, luego de ser aplicado en un arreglo del orden $[a_1,a_2, \\ldots ,a_n]$, genera un nuevo arreglo $[a_1',a_2', \\ldots ,a_n']$ el cual cumple las condiciones de tener los mismos elementos del arreglo original, pero ordenados de **menor a mayor**, es decir $a_1' \\leq a_2' \\leq \\ldots \\leq a_n'$ \n",
        "\n",
        "**Prueba del teorema**\n",
        "\n",
        "Para la comprobación de la correctitud de este algoritmo también se utilizará la inducción.\n",
        "\n",
        "**Caso base**\n",
        "\n",
        "El caso base ocurre cuando se quieren ordenar números de un solo dígito, ahí el algoritmo Radix se limita a solamente hacer uso del algoritmo Counting Sort, el cual ya ha sido comprobada su correctitud, por lo cual el arreglo de salida se encontrará ordenado y Radix Sort funciona correctamente.\n",
        "\n",
        "**Paso inductivo**\n",
        "\n",
        "Para este se analiza lo que ocurre cuando se quieren ordenar números con uno o más dígitos. Para este caso, se utiliza la propiedad estable de Counting Sort, la cual nos indica que para números repetidos, el algoritmo posicionará antes en el arreglo de salida al número que se encontraba antes en el arreglo de entrada.\n",
        "\n",
        "Es debido a esto que para cuando se quiere ordenar números con uno o más dígitos el algoritmo Radix ordena primeramente por el dígito menos significativo de menor a mayor. Luego, al pasar al siguiente dígito significativo, también ordenará de menor a mayor, y en caso de estos ser iguales, se mantendrá el orden del paso anterior, haciendo que el algoritmo resulte correctamente. (Se recomienda mirar imagen de ejemplo de la sección anterior para mejor comprensión)."
      ],
      "metadata": {
        "id": "tJDa10Nfw1d6"
      }
    },
    {
      "cell_type": "markdown",
      "source": [
        "## 3.1 Tiempo de ejecución de Radix Sort"
      ],
      "metadata": {
        "id": "OF3niKpRgDDp"
      }
    },
    {
      "cell_type": "markdown",
      "source": [
        "Para el tiempo de ejecución de este algoritmo, se debe analizar el comportamiento de este según su entrada, por lo que tenemos la siguiente representación:\n",
        "\n",
        "$T(n) =  Θ(d(n+k))$  \n",
        "\n",
        "Esto es debido a que el algoritmo estable que utiliza Radix Sort es el Counting Sort, el cual tiene una complejidad de $O(n+k)$, la cual es multiplicada por $d$, siendo este la cantidad de pasos de ordenamiento que se deben realizar, determinado por la cantidad de dígitos del número más grande del arreglo.\n",
        "\n",
        "Es importante recalcar que cuando $d$ es una constante y $k$ oscila entre valores no muy grandes como ocurre por ejemplo para el ordenamiento de números naturales, cuyos dígitos oscilan entre los valores $0$ y $9$. La complejidad temporal de este algoritmo termina siendo lineal del orden $O(n)$."
      ],
      "metadata": {
        "id": "JPt5dd97mRGw"
      }
    },
    {
      "cell_type": "markdown",
      "source": [
        "# 4. Experimentos"
      ],
      "metadata": {
        "id": "N14_QSBIgUUe"
      }
    },
    {
      "cell_type": "code",
      "source": [
        "#Algoritmo extraído desde https://www.geeksforgeeks.org/bucket-sort-2/\n",
        "\n",
        "def bucketSort(arr, noOfBuckets):\n",
        "    max_ele = max(arr)\n",
        "    min_ele = min(arr)\n",
        "  \n",
        "    # range(for buckets)\n",
        "    rnge = (max_ele - min_ele) / noOfBuckets\n",
        "  \n",
        "    temp = []\n",
        "  \n",
        "    # create empty buckets\n",
        "    for i in range(noOfBuckets):\n",
        "        temp.append([])\n",
        "  \n",
        "    # scatter the array elements\n",
        "    # into the correct bucket\n",
        "    for i in range(len(arr)):\n",
        "        diff = (arr[i] - min_ele) / rnge - int((arr[i] - min_ele) / rnge)\n",
        "  \n",
        "        # append the boundary elements to the lower array\n",
        "        if(diff == 0 and arr[i] != min_ele):\n",
        "            temp[int((arr[i] - min_ele) / rnge) - 1].append(arr[i])\n",
        "  \n",
        "        else:\n",
        "            temp[int((arr[i] - min_ele) / rnge)].append(arr[i])\n",
        "  \n",
        "    # Sort each bucket individually\n",
        "    for i in range(len(temp)):\n",
        "        if len(temp[i]) != 0:\n",
        "            temp[i].sort()\n",
        "  \n",
        "    # Gather sorted elements \n",
        "    # to the original array\n",
        "    k = 0\n",
        "    for lst in temp:\n",
        "        if lst:\n",
        "            for i in lst:\n",
        "                arr[k] = i\n",
        "                k = k+1\n",
        "\n",
        "arr = [9, 0, 10, 1, 3, 3, 5, 8, 4, 7]\n",
        "noOfBuckets = 5\n",
        "bucketSort(arr, noOfBuckets)\n",
        "print(\"Sorted array: \", arr)"
      ],
      "metadata": {
        "id": "dI0U8GPlSpP4",
        "colab": {
          "base_uri": "https://localhost:8080/"
        },
        "outputId": "17453b23-e25c-46e4-98f7-c965239af597"
      },
      "execution_count": 10,
      "outputs": [
        {
          "output_type": "stream",
          "name": "stdout",
          "text": [
            "Sorted array:  [0, 1, 3, 3, 4, 5, 7, 8, 9, 10]\n"
          ]
        }
      ]
    },
    {
      "cell_type": "code",
      "source": [
        "def insertionSort(array, verbose = False): #Argumentos: El arreglo a ordenar + opción verbose para ver el paso a paso\n",
        "  if verbose == True:\n",
        "    print(\"\\n\")\n",
        "\n",
        "  comp = 0 #comparaciones\n",
        "  permut = 0 #permutaciones\n",
        "\n",
        "  for i in range (1,len(array)): #Ciclo más grande, es el que realiza cada paso del algoritmo\n",
        "    key = array[i] #Se guarda número a ubicar\n",
        "    j = i-1\n",
        "\n",
        "    if verbose == True:\n",
        "      print(\"Pasada\", i)\n",
        "      print(\"arreglo al inicio:\", array)\n",
        "      print(\"Número a posicionar:\", array[i])\n",
        "\n",
        "    while 1:\n",
        "      comp += 1\n",
        "      if j >= 0 and key < array[j]:\n",
        "        permut+=1\n",
        "        #Si el número es mayor al de su izquierda, se intercambian de posición entre ellos\n",
        "        array[j+1] = array[j]\n",
        "        array[j] = key\n",
        "        j-=1 #Se modifica variable j para seguir recorriendo el arreglo hacia la izquierda hasta llegar a la posición 0\n",
        "      else:\n",
        "        break #De no ser necesario una permutación, se sigue avanzando para el siguiente número\n",
        "    \n",
        "    if verbose == True:\n",
        "      print(\"Partes ordenadas del arreglo luego de permutar:\")\n",
        "      print(\"[\", end = '')\n",
        "\n",
        "      for k in range(0, i): #Coloreado del arreglo para una mejor comprensión de este\n",
        "        print(\"\\033[92m\" + str(array[k]) + \", \", end = '')\n",
        "      for l in range(i, len(array)):\n",
        "        if(l != len(array)-1):\n",
        "          print(\"\\033[0m\" + str(array[l]) + \", \", end = '')\n",
        "        else:\n",
        "          print(\"\\033[0m\" + str(array[l]), end = '')\n",
        "\n",
        "      print(\"]\\n\")\n",
        "\n",
        "  return comp, permut\n",
        "\n",
        "arr = [9, 0, 10, 1, 3, 3, 5, 8, 4, 7]\n",
        "insertionSort(arr)\n",
        "print(\"Sorted array: \", arr)"
      ],
      "metadata": {
        "colab": {
          "base_uri": "https://localhost:8080/"
        },
        "id": "eY9Io11aaw5F",
        "outputId": "5a051e73-338f-4094-fe8c-1e706a55a59e"
      },
      "execution_count": 24,
      "outputs": [
        {
          "output_type": "stream",
          "name": "stdout",
          "text": [
            "Sorted array:  [0, 1, 3, 3, 4, 5, 7, 8, 9, 10]\n"
          ]
        }
      ]
    },
    {
      "cell_type": "code",
      "source": [
        "Contador1 = 0 #Contador de llamadas recursivas\n",
        "Contador2 = 0 #Contador de comparaciones\n",
        "\n",
        "def MergeSort(array, verbose = False):\n",
        "\tglobal Contador1\n",
        "\n",
        "\tif (len(array) <= 1): #Caso base: si el tamaño del arreglo es 0 o 1 retorna el arreglo tal cual pues ya está ordenado\n",
        "\t\tContador1 += 1\n",
        "\t\treturn array\n",
        " \n",
        " \t#Se divide el arreglo original en dos mitades y se les aplica Merge Sort de manera recursiva\n",
        "\tmedio = len(array) // 2\n",
        "\tder = MergeSort((array[:medio]), verbose)\n",
        "\tContador1 += 1\n",
        "\tizq = MergeSort((array[medio:]), verbose)\n",
        "\tContador1 += 1\n",
        "\n",
        "\treturn Merge(der, izq, verbose)  #Se juntan ambos arreglos\n",
        "\n",
        "def Merge(A, B, verbose):\n",
        "\t#Variables auxiliares para recorrer sub-arreglos\n",
        "\ti = 0\n",
        "\tj = 0\n",
        "\tglobal Contador2\n",
        "\tC = []\n",
        "\n",
        "\tif(verbose == True):\n",
        "\t\tprint(\"Arreglo izquierdo: \" + \"\\033[33m\" + str(A))\n",
        "\t\tprint(\"\\033[0m\")\n",
        "\t\t\n",
        "\t\tprint(\"Arreglo derecho: \" + \"\\033[31m\" + str(B))\n",
        "\t\tprint(\"\\033[0m\")\n",
        "\t\n",
        "\twhile(i < len(A) and j < len(B)):  #Se va insertando el menor elemento de cada sub arreglo en el arreglo combinado\n",
        "\t\tContador2 += 1\n",
        "\t\tif(A[i] < B[j]):\n",
        "\t\t\tC.append(A[i])\n",
        "\t\t\ti+=1\n",
        "\t\telse:\n",
        "\t\t\tC.append(B[j])\n",
        "\t\t\tj+=1\n",
        "\t\t\n",
        "\t#Se agregan todos los elementos restantes de los sub-arreglos\n",
        "\tC += A[i:]\n",
        "\tContador2 += len(A[i:])\n",
        "\tC += B[j:]\n",
        "\tContador2 += len(B[j:])\n",
        "\n",
        "\tif verbose == True:\n",
        "\t\tprint(\"Arreglo resultante: \" + \"\\033[34m\" + str(C))\n",
        "\t\tprint(\"\\033[0m\")\n",
        "\n",
        "\treturn C  #Se juntan ambos arreglos\n",
        "\n",
        "arr = [9, 0, 10, 1, 3, 3, 5, 8, 4, 7]\n",
        "arr = MergeSort(arr)\n",
        "print(\"Sorted array: \", arr)"
      ],
      "metadata": {
        "colab": {
          "base_uri": "https://localhost:8080/"
        },
        "id": "upFasExrbKMz",
        "outputId": "0de16e35-fd7e-48ac-a948-9857c1e9f580"
      },
      "execution_count": 30,
      "outputs": [
        {
          "output_type": "stream",
          "name": "stdout",
          "text": [
            "Sorted array:  [0, 1, 3, 3, 4, 5, 7, 8, 9, 10]\n"
          ]
        }
      ]
    },
    {
      "cell_type": "markdown",
      "source": [
        "## 4.2 Comparación con Bucket Sort"
      ],
      "metadata": {
        "id": "shXnkOKwb2SZ"
      }
    },
    {
      "cell_type": "markdown",
      "source": [
        "El algoritmo Radix es usualmente comparado con Bucket Sort, debido a que ambos tienen la característica de operar en un tiempo lineal, sin embargo, el segundo es utilizado usualmente para valores decimales y funciona correctamente para valores enteros no muy grandes. \n",
        "\n",
        "Es por esto que para los experimentos no se utilizará un rango demasiado amplio de números, para asegurar un correcto funcionamiento del Bucket Sort."
      ],
      "metadata": {
        "id": "pncKO4BVVQsi"
      }
    },
    {
      "cell_type": "code",
      "source": [
        "import matplotlib.pyplot as plt\n",
        "import datetime\n",
        "from timeit import repeat\n",
        "\n",
        "x = []; y1 = [] ; y2 = []\n",
        "\n",
        "for n in range(3,90):\n",
        "\n",
        "  a = random.sample(range(10, 100), n)\n",
        "\n",
        "  t = repeat(setup=\"from __main__ import bucketSort\", stmt=f\"bucketSort({a}, {5})\", repeat=1, number=10)\n",
        "\n",
        "  k = repeat(setup=\"from __main__ import radixSort\", stmt=f\"radixSort({a})\", repeat=1, number=10)\n",
        "\n",
        "  x.append(n)\n",
        "  y1.append(t)\n",
        "  y2.append(k)\n",
        "\n",
        "\n",
        "plt.plot(x,y1)\n",
        "plt.plot(x,y2)\n",
        "plt.legend([\"Bucket Sort\", \"Radix Sort\"])\n",
        "\n",
        "plt.xlabel('n')\n",
        "plt.ylabel('time in ms')\n",
        "plt.show()"
      ],
      "metadata": {
        "colab": {
          "base_uri": "https://localhost:8080/",
          "height": 279
        },
        "id": "JxyXWY0a8QTc",
        "outputId": "949a3cf6-fe1c-4556-c421-feb33b50febf"
      },
      "execution_count": 40,
      "outputs": [
        {
          "output_type": "display_data",
          "data": {
            "text/plain": [
              "<Figure size 432x288 with 1 Axes>"
            ],
            "image/png": "[encoded data removed]"
          },
          "metadata": {
            "needs_background": "light"
          }
        }
      ]
    },
    {
      "cell_type": "markdown",
      "source": [
        "Luego de analizar ambos gráficos, se ven unas gráficas relativamente uniformes a lo largo del experimento. Es importante resaltar que los picos de rendimiento que se observan se podrían deber a condiciones del procesador debido a que estuvieron presentes durante todas las ejecuciones realizadas para la realización de la gráfica. Aún así se puede apreciar cómo a lo largo del gráfico el Bucket Sort se desempeña en un tiempo menor al Radix.\n",
        "\n",
        "Lo anterior se puede deber principalmente a los algoritmos auxiliares que utiliza cada uno. Mientras el Bukcet Sort utiliza el Insertion Sort, el cual a priori es más lento que Counting Sort, lo utiliza para listas relativamente pequeñas, con lo cual el tiempo de ejecución teórico se ve reducido en la práctica. Por otro lado el Radix Sort utiliza un mayor tiempo debido a la cantidad de veces que se tiene que recorrer el arreglo original y el arreglo `count`."
      ],
      "metadata": {
        "id": "rrM6WU11AuPa"
      }
    },
    {
      "cell_type": "markdown",
      "source": [
        "## 4.1 Comparación con algoritmos de ordenamiento de diferente complejidad\n",
        "\n",
        "Hasta este informe se han estudiado diferentes tipos de algoritmos de ordenamiento, siendo el Radix Sort el de menor complejidad temporal de forma teórica. Es por esto que para el siguiente experimento se observará en la práctica cómo es que se comporta a comparación de un algoritmo con complejidad $O(n^2)$ como lo es el Insertion Sort, y a comparación de Merge Sort, el cual tiene una complejidad de $O(nlog(n))$"
      ],
      "metadata": {
        "id": "3Cf3onG7gZnj"
      }
    },
    {
      "cell_type": "code",
      "source": [
        "x = []; y1 = [] ; y2 = [] ; y3 = []\n",
        "\n",
        "for n in range(5,200):\n",
        "\n",
        "  a = random.sample(range(1, 1000), n)\n",
        "\n",
        "  t = repeat(setup=\"from __main__ import insertionSort\", stmt=f\"insertionSort({a})\", repeat=1, number=10)\n",
        "\n",
        "  k = repeat(setup=\"from __main__ import MergeSort\", stmt=f\"MergeSort({a})\", repeat=1, number=10)\n",
        "\n",
        "  u = repeat(setup=\"from __main__ import radixSort\", stmt=f\"radixSort({a})\", repeat=1, number=10)\n",
        "\n",
        "  x.append(n)\n",
        "  y1.append(t)\n",
        "  y2.append(k)\n",
        "  y3.append(u)\n",
        "\n",
        "plt.plot(x,y1)\n",
        "plt.plot(x,y2)\n",
        "plt.plot(x,y3)\n",
        "plt.legend([\"Insertion Sort\", \"Merge Sort\", \"Radix Sort\"])\n",
        "\n",
        "plt.xlabel('n')\n",
        "plt.ylabel('time in ms')\n",
        "plt.show()"
      ],
      "metadata": {
        "colab": {
          "base_uri": "https://localhost:8080/",
          "height": 279
        },
        "id": "513dP4zFcS-W",
        "outputId": "6a261f26-cb4d-419d-8934-26fc1f161615"
      },
      "execution_count": 42,
      "outputs": [
        {
          "output_type": "display_data",
          "data": {
            "text/plain": [
              "<Figure size 432x288 with 1 Axes>"
            ],
            "image/png": "[encoded data removed]"
          },
          "metadata": {
            "needs_background": "light"
          }
        }
      ]
    },
    {
      "cell_type": "markdown",
      "source": [
        "Como era de esperarse, los tiempos de ejecución son relativamente parejos para arreglos pequeños. A partir de 50 aproximadamente es que se evidencia claramente la diferencia en el rendimiento de cada uno de los algoritmos.\n",
        "\n",
        "Se puede observar un crecimiento cuadrático para Insertion Sort, un rendimiento relativamente lineal para Merge Sort, y un crecimiento mucho más lento para el Radix Sort."
      ],
      "metadata": {
        "id": "-7uK1XbCfqqG"
      }
    },
    {
      "cell_type": "code",
      "source": [
        "x = []; y1 = [] ; y2 = [] ; y3 = [] ; y4 = []\n",
        "\n",
        "for n in range(3,90):\n",
        "\n",
        "  a = random.sample(range(10, 100), n)\n",
        "\n",
        "  t = repeat(setup=\"from __main__ import insertionSort\", stmt=f\"insertionSort({a})\", repeat=1, number=10)\n",
        "\n",
        "  k = repeat(setup=\"from __main__ import MergeSort\", stmt=f\"MergeSort({a})\", repeat=1, number=10)\n",
        "\n",
        "  u = repeat(setup=\"from __main__ import radixSort\", stmt=f\"radixSort({a})\", repeat=1, number=10)\n",
        "\n",
        "  v = repeat(setup=\"from __main__ import bucketSort\", stmt=f\"bucketSort({a}, {5})\", repeat=1, number=10)\n",
        "\n",
        "  x.append(n)\n",
        "  y1.append(t)\n",
        "  y2.append(k)\n",
        "  y3.append(u)\n",
        "  y4.append(v)\n",
        "\n",
        "plt.plot(x,y1)\n",
        "plt.plot(x,y2)\n",
        "plt.plot(x,y3)\n",
        "plt.plot(x,y4)\n",
        "\n",
        "plt.legend([\"Insertion Sort\", \"Merge Sort\", \"Radix Sort\", \"Bucket Sort\"])\n",
        "\n",
        "plt.xlabel('n')\n",
        "plt.ylabel('time in ms')\n",
        "plt.show()"
      ],
      "metadata": {
        "colab": {
          "base_uri": "https://localhost:8080/",
          "height": 279
        },
        "id": "W0Qp2q8wgQcL",
        "outputId": "35fdd148-5b52-403f-bd99-27c50c151fc1"
      },
      "execution_count": 43,
      "outputs": [
        {
          "output_type": "display_data",
          "data": {
            "text/plain": [
              "<Figure size 432x288 with 1 Axes>"
            ],
            "image/png": "[encoded data removed]"
          },
          "metadata": {
            "needs_background": "light"
          }
        }
      ]
    },
    {
      "cell_type": "markdown",
      "source": [
        "Si ingresamos el Bucket Sort a la comparativa, vemos que se mantiene la misma relación entre los algoritmos $O(n)$ a lo largo de toda la gráfica, excepto al inicio cuando el tamaño del arreglo es muy pequeño y el Insertion Sort resulta ser el más rápido (los picos de rendimiento se deben exclusivamente a características del procesador)."
      ],
      "metadata": {
        "id": "6DquyozRgqHY"
      }
    }
  ]
}