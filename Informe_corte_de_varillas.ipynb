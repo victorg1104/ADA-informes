{
  "nbformat": 4,
  "nbformat_minor": 0,
  "metadata": {
    "colab": {
      "provenance": [],
      "collapsed_sections": [
        "c9NQXAueAJMr",
        "qYLJrGKFsdJB",
        "O7WrlqsOmNM2",
        "N14_QSBIgUUe"
      ]
    },
    "kernelspec": {
      "name": "python3",
      "display_name": "Python 3"
    },
    "language_info": {
      "name": "python"
    }
  },
  "cells": [
    {
      "cell_type": "markdown",
      "source": [
        "# 1. Descripción del problema"
      ],
      "metadata": {
        "id": "ys2SqerWtrgy"
      }
    },
    {
      "cell_type": "markdown",
      "source": [
        "El problema a tratar en este informe es un problema de optimización llamado **corte de varillas**. El cual consiste en que, dada una vara de un material $x$, a la cual se le pueden aplicar ciertos cortes de distinto tamaño, cada uno con precio determinado, se debe maximizar la ganancia posible con respecto a los cortes que se le realicen a la vara, y la longitud de los pedazos resultantes de esta.  \n",
        "\n",
        "**Entrada:** Varilla de largo $n$, lista de precios para cada corte de tamaño $i$.\n",
        "\n",
        "**Salida**: Valor máximo posible de ganancia obtenida, cantidad de cortes necesarios para conseguir aquel valor.\n",
        "\n",
        "**Tamaño del problema:** El tamaño para este problema viende definido por el tamaño $n$ de la varilla, debido a que mientras más largo, mayor combinaciones de cortes a analizar.\n",
        "\n",
        "\n",
        "<a href=\"https://imgur.com/vhtBZnL\"><img src=\"https://i.imgur.com/vhtBZnL.jpg\" title=\"source: imgur.com\" /></a>\n",
        "\n",
        "A lo largo de este informe, se revisarán dos opciones de algoritmo para llegar a la solución final esperada. En primer lugar una opción mediante un algoritmo **recursivo**, y en segundo, un algoritmo que utilice el paradigma de **programación dinámica**."
      ],
      "metadata": {
        "id": "r7Vhn5P9uU07"
      }
    },
    {
      "cell_type": "markdown",
      "source": [
        "# 2. Algoritmos\n"
      ],
      "metadata": {
        "id": "15etIsSS32ep"
      }
    },
    {
      "cell_type": "markdown",
      "source": [
        "## 2.1 Opción recursiva"
      ],
      "metadata": {
        "id": "tkaX9fGbBQp3"
      }
    },
    {
      "cell_type": "markdown",
      "source": [
        "### 2.1.1 Descripción"
      ],
      "metadata": {
        "id": "b5jHhLjqrg-d"
      }
    },
    {
      "cell_type": "markdown",
      "source": [
        "Esta opción, de manera parecida a otros algoritmos que se han revisado, utiliza una **función recursiva** para resolver el problema, es decir que propone un caso base del problema, y para los otros casos aplica sobre estos el mismo algoritmo. Esto para llegar finalmente a la solución buscada.\n",
        "\n",
        "La función de recurrencia es de la siguiente manera:\n",
        "\n",
        "\\begin{equation}\n",
        "V(n) = \\begin{cases}\n",
        "  0  & \\text{si } n = 0 \\\\\n",
        "  max(p[n], p[i] + V(n-i)) & \\text{si } n \\geq 1\n",
        "\\end{cases}\n",
        "\\end{equation}\n",
        "\n",
        "Esto quiere decir que el algoritmo tiene dos tipos de comportamiento según su entrada. Por un lado, si la varilla a analizar es de tamaño $0$ se retornará el valor $0$, este sería nuestro caso base. Mientras que en caso de recibir una varilla de tamaño mayor a $1$, se retornará el valor máximo entre dos opciones:\n",
        "\n",
        "1. La varilla entera sin cortes.\n",
        "2. Un corte de tamaño $i$, más el máximo valor posible de conseguir para el resto de la varilla.\n",
        "\n",
        "Este algoritmo consigue este funcionamiento mediante el análisis de todos los tipos de cortes posibles a la varilla. Realizando los siguientes pasos.\n",
        "\n",
        "1. Se recorre todo el arreglo de precios, y se realizan sucesivamente cortes de tamaño $i$, los cuales se van haciendo cada vez más grandes hasta llegar al tamaño $n$ de la varilla. \n",
        "\n",
        "2. Para el resto de la varilla que queda luego de realizar un corte $i$, se aplica el mismo algoritmo recursivamente para conseguir el valor máximo posible de esta otra parte. \n",
        "\n",
        "3. Así, se va guardando y actualizando el valor máximo encontrado, para después retornarlo.\n",
        "\n",
        "La **sub-estructura óptima** de este algoritmo está dada por las opciones mencionadas anteriormente, es decir el decidir si cortar o no la varilla en varias partes. A continuación se muestra una ilustración de esta sub-estructura mencionada.\n",
        "\n",
        "<a href=\"https://imgur.com/jyE3WO7\"><img src=\"https://i.imgur.com/jyE3WO7.jpg\" title=\"source: imgur.com\" /></a>"
      ],
      "metadata": {
        "id": "9CKYdS_E_FlZ"
      }
    },
    {
      "cell_type": "markdown",
      "source": [
        "### 2.1.2 Código"
      ],
      "metadata": {
        "id": "tJ9pfHUE_AZB"
      }
    },
    {
      "cell_type": "code",
      "source": [
        "cont = 0\n",
        "\n",
        "def corteVarillas(precios, n, verbose):\n",
        "\tglobal cont\n",
        "\tcortes = []\n",
        "\n",
        "\tcont += 1\n",
        "\tif(n <= 0):\n",
        "\t\treturn 0, cortes #En caso de tener un largo de varilla 0, se retorna el valor 0\n",
        "\n",
        "\tvalorMax = -9999999  #Valor mínimo arbitrario para almacenar los futuros valores posibles\n",
        "\n",
        "\tfor i in range(1, n + 1):\n",
        "\t\taux, cortesAux = corteVarillas(precios, n-i, verbose)\n",
        "\t \n",
        "\t\tvalorActual = precios[i - 1] + aux\n",
        "\n",
        "\t\tif verbose == True:\n",
        "\t\t\tprint(\"Calculando opciones de: \" + \"\\033[31m\" + str(n) + \"\\033[0m\")\n",
        "\t\t\tprint(\"[Tamaño]/Valor de la primera mitad: \" + \" \\033[33m\" +\"[\"+ str(i) + \"]/\"+ str(precios[i-1]) + \"\\033[0m\")\n",
        "\t\t\tprint(\"[Tamaño]/Valor de la segunda mitad: \" + \" \\033[34m\" + str(cortesAux) + \"/\" + str(aux) + \"\\033[0m\")\n",
        "\t\t\tprint(\"Se calculó precio máximo de la segunda mitad de Tamaño: \" + \" \\033[34m\" + \"[\" + str(n-i) + \"]\" + \" y se retornó: \" + str(aux) + \"\\033[0m\")\n",
        "\t\t\tprint(\"Valor para la opción: \" +\" \\033[35m\"+ \"[\"+ str(i) + \"] + \" +\"[\" + str(n-i) + \"] : \" + str(valorActual) + \"\\033[0m\\n\")\n",
        "\t \n",
        "\t\tif valorActual > valorMax:\n",
        "\t\t\tvalorMax = valorActual\n",
        "\t\t\tcortes = cortesAux\n",
        "\n",
        "\t\t\tcortes.append(i)\n",
        "\t\n",
        "\tif(verbose == True):\n",
        "\t\t\t\tprint(\"\\033[32m\" + \"Se retorna finalmente Tamaño(s)/Valor óptimos encontrados para \" + str(n) + \": \" + str(cortes) +\"/\"+ str(valorMax) + \"\\033[0m\\n\")\n",
        "\treturn valorMax, cortes\n",
        " \n",
        "\n",
        "precios = [1, 5, 8, 9, 10]\n",
        "verbose = False\n",
        "print(\"Precios\", precios, end = '')\n",
        "print(\" Largo de varilla: \", len(precios))\n",
        "\n",
        "valorMax, cortes = corteVarillas(precios, len(precios), verbose)\n",
        "\n",
        "print(\"Valor máximo: \", valorMax)\n",
        "print(\"Llamadas recursivas:\", cont)\n",
        "print(\"Se necesitan \" + str(len(cortes)) + \" varillas de largo:\")\n",
        "for i in range(len(cortes)):\n",
        "  print (str(cortes[i]) + \"/\", end ='')\n",
        "print(\" Respectivamente\")"
      ],
      "metadata": {
        "colab": {
          "base_uri": "https://localhost:8080/"
        },
        "id": "TeFqDcQwBWOs",
        "outputId": "a25b4ef1-e1ff-47d2-b741-91d567ead6e5"
      },
      "execution_count": 3,
      "outputs": [
        {
          "output_type": "stream",
          "name": "stdout",
          "text": [
            "Precios [1, 5, 8, 9, 10] Largo de varilla:  5\n",
            "Valor máximo:  13\n",
            "Llamadas recursivas: 32\n",
            "Se necesitan 2 varillas de largo:\n",
            "3/2/ Respectivamente\n"
          ]
        }
      ]
    },
    {
      "cell_type": "markdown",
      "source": [
        "Las variables relevantes son:\n",
        "\n",
        "* `valorMax`, la cual almacena la mayor ganancia posible encontrada.\n",
        "* `i`, presente en el ciclo `for`, el cual representa el largo del corte que se está realizando."
      ],
      "metadata": {
        "id": "t9B6CNfIhNwA"
      }
    },
    {
      "cell_type": "markdown",
      "source": [
        "### 2.1.3 Ejemplo"
      ],
      "metadata": {
        "id": "-Qb5U4QGZ4aU"
      }
    },
    {
      "cell_type": "markdown",
      "source": [
        "Para el ejemplo utilizado en el código anteriormente mencionado, se entrega a la función una lista de precios `[1, 5, 8, 9, 10, 17, 17, 20]`, compuesta por $8$ valores, junto con un largo de varilla de $8$.\n",
        "\n",
        "Así, el algoritmo nos retorna que el valor máximo posible que se puede conseguir como beneficio es de $22$, el cual se consigue realizando un corte, dejando dos varillas de tamaño $2$ y $6$ respectivamente, como se muestra en la siguiente ilustración.\n",
        "\n",
        "<a href=\"https://imgur.com/po5lPnv\"><img src=\"https://i.imgur.com/po5lPnv.jpg\" title=\"source: imgur.com\" /></a>"
      ],
      "metadata": {
        "id": "BJp2sqg0Z89e"
      }
    },
    {
      "cell_type": "markdown",
      "source": [
        "### 2.1.4 Ejecución del código con opción verbose"
      ],
      "metadata": {
        "id": "c9NQXAueAJMr"
      }
    },
    {
      "cell_type": "code",
      "source": [
        "from random import *\n",
        "\n",
        "precios = [1, 5, 8, 9, 10]\n",
        "verbose = True\n",
        "print(\"Precios\", precios, end = '')\n",
        "print(\" Largo de varilla: \", len(precios))\n",
        "\n",
        "valorMax, cortes = corteVarillas(precios, len(precios), verbose)\n",
        "\n",
        "print(\"Valor máximo: \", valorMax)\n",
        "print(\"Llamadas recursivas:\", cont)\n",
        "print(\"Se necesitan \" + str(len(cortes)) + \" varillas de largo:\")\n",
        "for i in range(len(cortes)):\n",
        "  print (str(cortes[i]) + \"/\", end ='')\n",
        "print(\" Respectivamente\")"
      ],
      "metadata": {
        "id": "L2G-KznhANmv",
        "colab": {
          "base_uri": "https://localhost:8080/"
        },
        "outputId": "bdf0d817-0ace-419f-b734-72bfbc51c8e6"
      },
      "execution_count": 169,
      "outputs": [
        {
          "output_type": "stream",
          "name": "stdout",
          "text": [
            "Precios [1, 5, 8, 9, 10] Largo de varilla:  5\n",
            "Calculando opciones de: \u001b[31m1\u001b[0m\n",
            "[Tamaño]/Valor de la primera mitad:  \u001b[33m[1]/1\u001b[0m\n",
            "[Tamaño]/Valor de la segunda mitad:  \u001b[34m[]/0\u001b[0m\n",
            "Se calculó precio máximo de la segunda mitad de Tamaño:  \u001b[34m[0] y se retornó: 0\u001b[0m\n",
            "Valor para la opción:  \u001b[35m[1] + [0] : 1\u001b[0m\n",
            "\n",
            "\u001b[32mSe retorna finalmente Tamaño(s)/Valor óptimos encontrados para 1: [1]/1\u001b[0m\n",
            "\n",
            "Calculando opciones de: \u001b[31m2\u001b[0m\n",
            "[Tamaño]/Valor de la primera mitad:  \u001b[33m[1]/1\u001b[0m\n",
            "[Tamaño]/Valor de la segunda mitad:  \u001b[34m[1]/1\u001b[0m\n",
            "Se calculó precio máximo de la segunda mitad de Tamaño:  \u001b[34m[1] y se retornó: 1\u001b[0m\n",
            "Valor para la opción:  \u001b[35m[1] + [1] : 2\u001b[0m\n",
            "\n",
            "Calculando opciones de: \u001b[31m2\u001b[0m\n",
            "[Tamaño]/Valor de la primera mitad:  \u001b[33m[2]/5\u001b[0m\n",
            "[Tamaño]/Valor de la segunda mitad:  \u001b[34m[]/0\u001b[0m\n",
            "Se calculó precio máximo de la segunda mitad de Tamaño:  \u001b[34m[0] y se retornó: 0\u001b[0m\n",
            "Valor para la opción:  \u001b[35m[2] + [0] : 5\u001b[0m\n",
            "\n",
            "\u001b[32mSe retorna finalmente Tamaño(s)/Valor óptimos encontrados para 2: [2]/5\u001b[0m\n",
            "\n",
            "Calculando opciones de: \u001b[31m3\u001b[0m\n",
            "[Tamaño]/Valor de la primera mitad:  \u001b[33m[1]/1\u001b[0m\n",
            "[Tamaño]/Valor de la segunda mitad:  \u001b[34m[2]/5\u001b[0m\n",
            "Se calculó precio máximo de la segunda mitad de Tamaño:  \u001b[34m[2] y se retornó: 5\u001b[0m\n",
            "Valor para la opción:  \u001b[35m[1] + [2] : 6\u001b[0m\n",
            "\n",
            "Calculando opciones de: \u001b[31m1\u001b[0m\n",
            "[Tamaño]/Valor de la primera mitad:  \u001b[33m[1]/1\u001b[0m\n",
            "[Tamaño]/Valor de la segunda mitad:  \u001b[34m[]/0\u001b[0m\n",
            "Se calculó precio máximo de la segunda mitad de Tamaño:  \u001b[34m[0] y se retornó: 0\u001b[0m\n",
            "Valor para la opción:  \u001b[35m[1] + [0] : 1\u001b[0m\n",
            "\n",
            "\u001b[32mSe retorna finalmente Tamaño(s)/Valor óptimos encontrados para 1: [1]/1\u001b[0m\n",
            "\n",
            "Calculando opciones de: \u001b[31m3\u001b[0m\n",
            "[Tamaño]/Valor de la primera mitad:  \u001b[33m[2]/5\u001b[0m\n",
            "[Tamaño]/Valor de la segunda mitad:  \u001b[34m[1]/1\u001b[0m\n",
            "Se calculó precio máximo de la segunda mitad de Tamaño:  \u001b[34m[1] y se retornó: 1\u001b[0m\n",
            "Valor para la opción:  \u001b[35m[2] + [1] : 6\u001b[0m\n",
            "\n",
            "Calculando opciones de: \u001b[31m3\u001b[0m\n",
            "[Tamaño]/Valor de la primera mitad:  \u001b[33m[3]/8\u001b[0m\n",
            "[Tamaño]/Valor de la segunda mitad:  \u001b[34m[]/0\u001b[0m\n",
            "Se calculó precio máximo de la segunda mitad de Tamaño:  \u001b[34m[0] y se retornó: 0\u001b[0m\n",
            "Valor para la opción:  \u001b[35m[3] + [0] : 8\u001b[0m\n",
            "\n",
            "\u001b[32mSe retorna finalmente Tamaño(s)/Valor óptimos encontrados para 3: [3]/8\u001b[0m\n",
            "\n",
            "Calculando opciones de: \u001b[31m4\u001b[0m\n",
            "[Tamaño]/Valor de la primera mitad:  \u001b[33m[1]/1\u001b[0m\n",
            "[Tamaño]/Valor de la segunda mitad:  \u001b[34m[3]/8\u001b[0m\n",
            "Se calculó precio máximo de la segunda mitad de Tamaño:  \u001b[34m[3] y se retornó: 8\u001b[0m\n",
            "Valor para la opción:  \u001b[35m[1] + [3] : 9\u001b[0m\n",
            "\n",
            "Calculando opciones de: \u001b[31m1\u001b[0m\n",
            "[Tamaño]/Valor de la primera mitad:  \u001b[33m[1]/1\u001b[0m\n",
            "[Tamaño]/Valor de la segunda mitad:  \u001b[34m[]/0\u001b[0m\n",
            "Se calculó precio máximo de la segunda mitad de Tamaño:  \u001b[34m[0] y se retornó: 0\u001b[0m\n",
            "Valor para la opción:  \u001b[35m[1] + [0] : 1\u001b[0m\n",
            "\n",
            "\u001b[32mSe retorna finalmente Tamaño(s)/Valor óptimos encontrados para 1: [1]/1\u001b[0m\n",
            "\n",
            "Calculando opciones de: \u001b[31m2\u001b[0m\n",
            "[Tamaño]/Valor de la primera mitad:  \u001b[33m[1]/1\u001b[0m\n",
            "[Tamaño]/Valor de la segunda mitad:  \u001b[34m[1]/1\u001b[0m\n",
            "Se calculó precio máximo de la segunda mitad de Tamaño:  \u001b[34m[1] y se retornó: 1\u001b[0m\n",
            "Valor para la opción:  \u001b[35m[1] + [1] : 2\u001b[0m\n",
            "\n",
            "Calculando opciones de: \u001b[31m2\u001b[0m\n",
            "[Tamaño]/Valor de la primera mitad:  \u001b[33m[2]/5\u001b[0m\n",
            "[Tamaño]/Valor de la segunda mitad:  \u001b[34m[]/0\u001b[0m\n",
            "Se calculó precio máximo de la segunda mitad de Tamaño:  \u001b[34m[0] y se retornó: 0\u001b[0m\n",
            "Valor para la opción:  \u001b[35m[2] + [0] : 5\u001b[0m\n",
            "\n",
            "\u001b[32mSe retorna finalmente Tamaño(s)/Valor óptimos encontrados para 2: [2]/5\u001b[0m\n",
            "\n",
            "Calculando opciones de: \u001b[31m4\u001b[0m\n",
            "[Tamaño]/Valor de la primera mitad:  \u001b[33m[2]/5\u001b[0m\n",
            "[Tamaño]/Valor de la segunda mitad:  \u001b[34m[2]/5\u001b[0m\n",
            "Se calculó precio máximo de la segunda mitad de Tamaño:  \u001b[34m[2] y se retornó: 5\u001b[0m\n",
            "Valor para la opción:  \u001b[35m[2] + [2] : 10\u001b[0m\n",
            "\n",
            "Calculando opciones de: \u001b[31m1\u001b[0m\n",
            "[Tamaño]/Valor de la primera mitad:  \u001b[33m[1]/1\u001b[0m\n",
            "[Tamaño]/Valor de la segunda mitad:  \u001b[34m[]/0\u001b[0m\n",
            "Se calculó precio máximo de la segunda mitad de Tamaño:  \u001b[34m[0] y se retornó: 0\u001b[0m\n",
            "Valor para la opción:  \u001b[35m[1] + [0] : 1\u001b[0m\n",
            "\n",
            "\u001b[32mSe retorna finalmente Tamaño(s)/Valor óptimos encontrados para 1: [1]/1\u001b[0m\n",
            "\n",
            "Calculando opciones de: \u001b[31m4\u001b[0m\n",
            "[Tamaño]/Valor de la primera mitad:  \u001b[33m[3]/8\u001b[0m\n",
            "[Tamaño]/Valor de la segunda mitad:  \u001b[34m[1]/1\u001b[0m\n",
            "Se calculó precio máximo de la segunda mitad de Tamaño:  \u001b[34m[1] y se retornó: 1\u001b[0m\n",
            "Valor para la opción:  \u001b[35m[3] + [1] : 9\u001b[0m\n",
            "\n",
            "Calculando opciones de: \u001b[31m4\u001b[0m\n",
            "[Tamaño]/Valor de la primera mitad:  \u001b[33m[4]/9\u001b[0m\n",
            "[Tamaño]/Valor de la segunda mitad:  \u001b[34m[]/0\u001b[0m\n",
            "Se calculó precio máximo de la segunda mitad de Tamaño:  \u001b[34m[0] y se retornó: 0\u001b[0m\n",
            "Valor para la opción:  \u001b[35m[4] + [0] : 9\u001b[0m\n",
            "\n",
            "\u001b[32mSe retorna finalmente Tamaño(s)/Valor óptimos encontrados para 4: [2, 2]/10\u001b[0m\n",
            "\n",
            "Calculando opciones de: \u001b[31m5\u001b[0m\n",
            "[Tamaño]/Valor de la primera mitad:  \u001b[33m[1]/1\u001b[0m\n",
            "[Tamaño]/Valor de la segunda mitad:  \u001b[34m[2, 2]/10\u001b[0m\n",
            "Se calculó precio máximo de la segunda mitad de Tamaño:  \u001b[34m[4] y se retornó: 10\u001b[0m\n",
            "Valor para la opción:  \u001b[35m[1] + [4] : 11\u001b[0m\n",
            "\n",
            "Calculando opciones de: \u001b[31m1\u001b[0m\n",
            "[Tamaño]/Valor de la primera mitad:  \u001b[33m[1]/1\u001b[0m\n",
            "[Tamaño]/Valor de la segunda mitad:  \u001b[34m[]/0\u001b[0m\n",
            "Se calculó precio máximo de la segunda mitad de Tamaño:  \u001b[34m[0] y se retornó: 0\u001b[0m\n",
            "Valor para la opción:  \u001b[35m[1] + [0] : 1\u001b[0m\n",
            "\n",
            "\u001b[32mSe retorna finalmente Tamaño(s)/Valor óptimos encontrados para 1: [1]/1\u001b[0m\n",
            "\n",
            "Calculando opciones de: \u001b[31m2\u001b[0m\n",
            "[Tamaño]/Valor de la primera mitad:  \u001b[33m[1]/1\u001b[0m\n",
            "[Tamaño]/Valor de la segunda mitad:  \u001b[34m[1]/1\u001b[0m\n",
            "Se calculó precio máximo de la segunda mitad de Tamaño:  \u001b[34m[1] y se retornó: 1\u001b[0m\n",
            "Valor para la opción:  \u001b[35m[1] + [1] : 2\u001b[0m\n",
            "\n",
            "Calculando opciones de: \u001b[31m2\u001b[0m\n",
            "[Tamaño]/Valor de la primera mitad:  \u001b[33m[2]/5\u001b[0m\n",
            "[Tamaño]/Valor de la segunda mitad:  \u001b[34m[]/0\u001b[0m\n",
            "Se calculó precio máximo de la segunda mitad de Tamaño:  \u001b[34m[0] y se retornó: 0\u001b[0m\n",
            "Valor para la opción:  \u001b[35m[2] + [0] : 5\u001b[0m\n",
            "\n",
            "\u001b[32mSe retorna finalmente Tamaño(s)/Valor óptimos encontrados para 2: [2]/5\u001b[0m\n",
            "\n",
            "Calculando opciones de: \u001b[31m3\u001b[0m\n",
            "[Tamaño]/Valor de la primera mitad:  \u001b[33m[1]/1\u001b[0m\n",
            "[Tamaño]/Valor de la segunda mitad:  \u001b[34m[2]/5\u001b[0m\n",
            "Se calculó precio máximo de la segunda mitad de Tamaño:  \u001b[34m[2] y se retornó: 5\u001b[0m\n",
            "Valor para la opción:  \u001b[35m[1] + [2] : 6\u001b[0m\n",
            "\n",
            "Calculando opciones de: \u001b[31m1\u001b[0m\n",
            "[Tamaño]/Valor de la primera mitad:  \u001b[33m[1]/1\u001b[0m\n",
            "[Tamaño]/Valor de la segunda mitad:  \u001b[34m[]/0\u001b[0m\n",
            "Se calculó precio máximo de la segunda mitad de Tamaño:  \u001b[34m[0] y se retornó: 0\u001b[0m\n",
            "Valor para la opción:  \u001b[35m[1] + [0] : 1\u001b[0m\n",
            "\n",
            "\u001b[32mSe retorna finalmente Tamaño(s)/Valor óptimos encontrados para 1: [1]/1\u001b[0m\n",
            "\n",
            "Calculando opciones de: \u001b[31m3\u001b[0m\n",
            "[Tamaño]/Valor de la primera mitad:  \u001b[33m[2]/5\u001b[0m\n",
            "[Tamaño]/Valor de la segunda mitad:  \u001b[34m[1]/1\u001b[0m\n",
            "Se calculó precio máximo de la segunda mitad de Tamaño:  \u001b[34m[1] y se retornó: 1\u001b[0m\n",
            "Valor para la opción:  \u001b[35m[2] + [1] : 6\u001b[0m\n",
            "\n",
            "Calculando opciones de: \u001b[31m3\u001b[0m\n",
            "[Tamaño]/Valor de la primera mitad:  \u001b[33m[3]/8\u001b[0m\n",
            "[Tamaño]/Valor de la segunda mitad:  \u001b[34m[]/0\u001b[0m\n",
            "Se calculó precio máximo de la segunda mitad de Tamaño:  \u001b[34m[0] y se retornó: 0\u001b[0m\n",
            "Valor para la opción:  \u001b[35m[3] + [0] : 8\u001b[0m\n",
            "\n",
            "\u001b[32mSe retorna finalmente Tamaño(s)/Valor óptimos encontrados para 3: [3]/8\u001b[0m\n",
            "\n",
            "Calculando opciones de: \u001b[31m5\u001b[0m\n",
            "[Tamaño]/Valor de la primera mitad:  \u001b[33m[2]/5\u001b[0m\n",
            "[Tamaño]/Valor de la segunda mitad:  \u001b[34m[3]/8\u001b[0m\n",
            "Se calculó precio máximo de la segunda mitad de Tamaño:  \u001b[34m[3] y se retornó: 8\u001b[0m\n",
            "Valor para la opción:  \u001b[35m[2] + [3] : 13\u001b[0m\n",
            "\n",
            "Calculando opciones de: \u001b[31m1\u001b[0m\n",
            "[Tamaño]/Valor de la primera mitad:  \u001b[33m[1]/1\u001b[0m\n",
            "[Tamaño]/Valor de la segunda mitad:  \u001b[34m[]/0\u001b[0m\n",
            "Se calculó precio máximo de la segunda mitad de Tamaño:  \u001b[34m[0] y se retornó: 0\u001b[0m\n",
            "Valor para la opción:  \u001b[35m[1] + [0] : 1\u001b[0m\n",
            "\n",
            "\u001b[32mSe retorna finalmente Tamaño(s)/Valor óptimos encontrados para 1: [1]/1\u001b[0m\n",
            "\n",
            "Calculando opciones de: \u001b[31m2\u001b[0m\n",
            "[Tamaño]/Valor de la primera mitad:  \u001b[33m[1]/1\u001b[0m\n",
            "[Tamaño]/Valor de la segunda mitad:  \u001b[34m[1]/1\u001b[0m\n",
            "Se calculó precio máximo de la segunda mitad de Tamaño:  \u001b[34m[1] y se retornó: 1\u001b[0m\n",
            "Valor para la opción:  \u001b[35m[1] + [1] : 2\u001b[0m\n",
            "\n",
            "Calculando opciones de: \u001b[31m2\u001b[0m\n",
            "[Tamaño]/Valor de la primera mitad:  \u001b[33m[2]/5\u001b[0m\n",
            "[Tamaño]/Valor de la segunda mitad:  \u001b[34m[]/0\u001b[0m\n",
            "Se calculó precio máximo de la segunda mitad de Tamaño:  \u001b[34m[0] y se retornó: 0\u001b[0m\n",
            "Valor para la opción:  \u001b[35m[2] + [0] : 5\u001b[0m\n",
            "\n",
            "\u001b[32mSe retorna finalmente Tamaño(s)/Valor óptimos encontrados para 2: [2]/5\u001b[0m\n",
            "\n",
            "Calculando opciones de: \u001b[31m5\u001b[0m\n",
            "[Tamaño]/Valor de la primera mitad:  \u001b[33m[3]/8\u001b[0m\n",
            "[Tamaño]/Valor de la segunda mitad:  \u001b[34m[2]/5\u001b[0m\n",
            "Se calculó precio máximo de la segunda mitad de Tamaño:  \u001b[34m[2] y se retornó: 5\u001b[0m\n",
            "Valor para la opción:  \u001b[35m[3] + [2] : 13\u001b[0m\n",
            "\n",
            "Calculando opciones de: \u001b[31m1\u001b[0m\n",
            "[Tamaño]/Valor de la primera mitad:  \u001b[33m[1]/1\u001b[0m\n",
            "[Tamaño]/Valor de la segunda mitad:  \u001b[34m[]/0\u001b[0m\n",
            "Se calculó precio máximo de la segunda mitad de Tamaño:  \u001b[34m[0] y se retornó: 0\u001b[0m\n",
            "Valor para la opción:  \u001b[35m[1] + [0] : 1\u001b[0m\n",
            "\n",
            "\u001b[32mSe retorna finalmente Tamaño(s)/Valor óptimos encontrados para 1: [1]/1\u001b[0m\n",
            "\n",
            "Calculando opciones de: \u001b[31m5\u001b[0m\n",
            "[Tamaño]/Valor de la primera mitad:  \u001b[33m[4]/9\u001b[0m\n",
            "[Tamaño]/Valor de la segunda mitad:  \u001b[34m[1]/1\u001b[0m\n",
            "Se calculó precio máximo de la segunda mitad de Tamaño:  \u001b[34m[1] y se retornó: 1\u001b[0m\n",
            "Valor para la opción:  \u001b[35m[4] + [1] : 10\u001b[0m\n",
            "\n",
            "Calculando opciones de: \u001b[31m5\u001b[0m\n",
            "[Tamaño]/Valor de la primera mitad:  \u001b[33m[5]/10\u001b[0m\n",
            "[Tamaño]/Valor de la segunda mitad:  \u001b[34m[]/0\u001b[0m\n",
            "Se calculó precio máximo de la segunda mitad de Tamaño:  \u001b[34m[0] y se retornó: 0\u001b[0m\n",
            "Valor para la opción:  \u001b[35m[5] + [0] : 10\u001b[0m\n",
            "\n",
            "\u001b[32mSe retorna finalmente Tamaño(s)/Valor óptimos encontrados para 5: [3, 2]/13\u001b[0m\n",
            "\n",
            "Valor máximo:  13\n",
            "Llamadas recursivas: 64\n",
            "Se necesitan 2 varillas de largo:\n",
            "3/2/ Respectivamente\n"
          ]
        }
      ]
    },
    {
      "cell_type": "markdown",
      "source": [
        "Las impresiones en caso de que la opción verbose esté activada ilustran lo que va sucediendo con el arreglo según el funcionamiento descrito, se nos muestra cómo se calcula cada opción y finalmente se retorna la que supone una mayor suma.\n",
        "\n",
        "Es importante recalcar que cada cierta iteración, se vuelven a calcular valores máximos ya obtenidos para la segunda mitad. Es por esto que por ejemplo cuando se imprime por pantalla que se están calculando las opciones para el tamaño `5`, vuelve a aparecer que se calculan opciones de números menores, junto con todos los pasos que eso conlleva, para luego volver a la iteración donde se estaban calculando las opciones de `5`, lo cual coincide con el mensaje que indica que se calculó el valor máximo para la segunda mitad. \n",
        "\n",
        "Lo anteriormente descrito es debido a que para el cálculo del valor máximo de la segunda mitad, se aplica la función de manera recursiva hasta llegar a un caso base y poder volver a la iteración que llamó a la función en primera instancia."
      ],
      "metadata": {
        "id": "uCrzC2a9lTIn"
      }
    },
    {
      "cell_type": "markdown",
      "source": [
        "## 2.2 Opción con programación dinámica bottom-up\n",
        "\n"
      ],
      "metadata": {
        "id": "22CyMFk__bYn"
      }
    },
    {
      "cell_type": "markdown",
      "source": [
        "### 2.2.1 Descripción\n",
        "\n"
      ],
      "metadata": {
        "id": "qXRdj8Qxrbzr"
      }
    },
    {
      "cell_type": "markdown",
      "source": [
        "Para esta opción, se aplicará el paradigma de **programación dinámica**, el cual consiste en dividir un problema de tamaño $n$, en una cierta cantidad de sub-problemas de tamaño $m < n$, los cuales deberían ser relativamente más \"fáciles\" de solucionar que el problema original. Posteriormente  se almacenan las resoluciones de cada uno de estos en una tabla, la cual es consultada cuando para resolver un sub-problema $a$ sea necesario un resultado de un sub-problema $b$ previamente calculado. \n",
        "\n",
        "De esta manera estos algoritmos son más eficientes en tiempo que los algoritmos recursivos, que tienden a ser peores en rendimiento cuando los problemas se **traslapan**, es decir que comparten resoluciones.\n",
        "\n",
        "Adicionalmente a esto, tenemos que esta segunda opción utiliza la programación dinámica con una planificación **bottom-up**, es decir que va solucionando los problemas de menor tamaño, y guarda sus resoluciones para que sean ocupadas para resolver los sub-problemas de mayor tamaño.\n",
        "\n",
        "Para este problema en específico la cantidad de sub-problemas a resolver depende de el tamaño $n$ de la varilla, debido a que se deben encontrar los máximos cortes posibles para cada largo hasta llegar al largo $n$ de la varilla.\n",
        "\n",
        "A continuación se muestra una imágen para entender esta relación:\n",
        "\n",
        "<a href=\"https://imgur.com/NTceSky\"><img src=\"https://i.imgur.com/NTceSky.jpg\" title=\"source: imgur.com\" /></a>\n",
        "\n",
        "Se puede observar que para un problema original de tamaño $4$, se divide en sub problemas de tamaño $0, 1, 2, 3$, los cuales dependen a su vez de las soluciones de los problemas anteriores.\n",
        "\n",
        "Es importante notar que el problema de tamaño $0$, no depende de ningún sub-problema anterior, por lo que representa nuestro caso base y nuestro primer elemento de la tabla que almacena las soluciones de problemas anteriores.\n",
        "\n"
      ],
      "metadata": {
        "id": "chIfPkf2BbHS"
      }
    },
    {
      "cell_type": "markdown",
      "source": [
        "### 2.2.2 Código"
      ],
      "metadata": {
        "id": "K3RrYdbDuHhg"
      }
    },
    {
      "cell_type": "code",
      "source": [
        "def corteVarillasDin (precios, n, verbose):\n",
        "  r = [0 for i in range(n+1)] #Arreglo auxiliar para almacenar soluciones de problemas anteriores\n",
        "  cortes = [[0]]*(n+1)\n",
        "  \n",
        "  for i in range(1, n+1):\n",
        "    valMax = -99999999\n",
        "    if verbose == True:\n",
        "      print(\"\\033[31m\" + \"Calculando opciones para \" + str(i) + \": \" + \"\\033[0m\")\n",
        "    for j in range(i):\n",
        "      if verbose == True:\n",
        "          print(\"Tamaño de la primera mitad \" + \"\\033[34m\" + str(j+1) + \"\\033[0m\")\n",
        "          print(\"Tamaño de la segunda mitad: \"+ \"\\033[33m\" + str(i-(j+1)) + \"\\033[0m\")\n",
        "          print(\"Valor para esta opción: \" + \"\\033[35m\" + str(precios[j] + r[i-j-1]) + \"\\033[0m\")\n",
        "\n",
        "      if valMax < precios[j] + r[i-j-1]:\n",
        "        valMax = precios[j] + r[i-j-1]\n",
        "        cortesAux = cortes[i-j-1].copy()\n",
        "        cortesAux.append(j+1)\n",
        "\n",
        "    cortes[i] = cortesAux.copy()\n",
        "    r[i] = valMax\n",
        "    if(verbose == True):\n",
        "      print(\"Valor máximo encontrado para \" + str(i) + \": \" + \"\\033[92m\" + str(r[i]) + \"\\033[0m\")\n",
        "      print(\"Largo de cortes óptimos encontrados para \" + \"\\033[31m\" + str(i) + \"\\033[0m\" + \": \" +  \"\\033[92m\" + str(cortes[i]) + \"\\033[0m\")\n",
        "\n",
        "  return r[n], cortes[i]\n",
        "\n",
        "precios = [1, 5, 8, 9, 10]\n",
        "\n",
        "print(\"Precios: \", precios, end = '')\n",
        "print(\" Largo de varilla: \", len(precios))\n",
        "\n",
        "valMax, cortes = corteVarillasDin(precios, len(precios), False)\n",
        " \n",
        "print(\"Valor máximo: \", valMax)\n",
        "cortes.pop(0)\n",
        "print(\"Se necesitan \" + str(len(cortes)) + \" varillas de largo:\")\n",
        "for i in range(len(cortes)):\n",
        "  print (str(cortes[i]) + \"/\", end ='')\n",
        "print(\" Respectivamente\")"
      ],
      "metadata": {
        "colab": {
          "base_uri": "https://localhost:8080/"
        },
        "id": "nclEdP0kuK3l",
        "outputId": "1cd724c9-27f3-4048-9671-987da2645f56"
      },
      "execution_count": 15,
      "outputs": [
        {
          "output_type": "stream",
          "name": "stdout",
          "text": [
            "Precios:  [1, 5, 8, 9, 10] Largo de varilla:  5\n",
            "Valor máximo:  13\n",
            "Se necesitan 2 varillas de largo:\n",
            "[3, 2]\n",
            "3/2/ Respectivamente\n"
          ]
        }
      ]
    },
    {
      "cell_type": "markdown",
      "source": [
        "Las variables relevantes son:\n",
        "\n",
        "* `r`: Que es el arreglo donde se guardan las resoluciones obtenidas.\n",
        "* `valMax`: Igual que en el caso recursivo, almacena el máximo valor encontrado.\n",
        "* `i`: Presente en el primer ciclo for, el cual se ir aumentando el tamaño del primer corte de varilla.\n",
        "* `j`: Variable que se encuentra en el segundo ciclo for, se encargará de consultar las soluciones encontradas para los problemas anteriores, presentes en `r`."
      ],
      "metadata": {
        "id": "un08FhAHiY7a"
      }
    },
    {
      "cell_type": "markdown",
      "source": [
        "### 2.2.3 Ejemplo"
      ],
      "metadata": {
        "id": "lupJG8CPgtQp"
      }
    },
    {
      "cell_type": "markdown",
      "source": [
        "El ejemplo utilizado es el mismo mostrado anteriormente:\n",
        "\n",
        "<a href=\"https://imgur.com/po5lPnv\"><img src=\"https://i.imgur.com/po5lPnv.jpg\" title=\"source: imgur.com\" /></a>"
      ],
      "metadata": {
        "id": "TvUvIP8mgwmu"
      }
    },
    {
      "cell_type": "markdown",
      "source": [
        "### 2.2.4 Ejecución con opción verbose"
      ],
      "metadata": {
        "id": "qYLJrGKFsdJB"
      }
    },
    {
      "cell_type": "code",
      "source": [
        "precios = [1, 5, 8, 9, 10]\n",
        "\n",
        "print(\"Precios: \", precios, end = '')\n",
        "print(\" Largo de varilla: \", len(precios))\n",
        "\n",
        "valMax, cortes = corteVarillasDin(precios, len(precios), True)\n",
        " \n",
        "print(\"Valor máximo: \", valMax)\n",
        "cortes.pop(0)\n",
        "print(\"Se necesitan \" + str(len(cortes)) + \" varillas de largo:\")\n",
        "for i in range(len(cortes)):\n",
        "  print (str(cortes[i]) + \"/\", end ='')\n",
        "print(\" Respectivamente\")"
      ],
      "metadata": {
        "id": "QqD0SG0Osg0H",
        "colab": {
          "base_uri": "https://localhost:8080/"
        },
        "outputId": "1f3748ce-3835-4134-ad82-d8492646fd96"
      },
      "execution_count": 11,
      "outputs": [
        {
          "output_type": "stream",
          "name": "stdout",
          "text": [
            "Precios:  [1, 5, 8, 9, 10] Largo de varilla:  5\n",
            "\u001b[31mCalculando opciones para 1: \u001b[0m\n",
            "Tamaño de la primera mitad \u001b[34m1\u001b[0m\n",
            "Tamaño de la segunda mitad: \u001b[33m0\u001b[0m\n",
            "Valor para esta opción: \u001b[35m1\u001b[0m\n",
            "Valor máximo encontrado para 1: \u001b[92m1\u001b[0m\n",
            "Largo de cortes óptimos encontrados para \u001b[31m1\u001b[0m: \u001b[92m[0, 1]\u001b[0m\n",
            "\u001b[31mCalculando opciones para 2: \u001b[0m\n",
            "Tamaño de la primera mitad \u001b[34m1\u001b[0m\n",
            "Tamaño de la segunda mitad: \u001b[33m1\u001b[0m\n",
            "Valor para esta opción: \u001b[35m2\u001b[0m\n",
            "Tamaño de la primera mitad \u001b[34m2\u001b[0m\n",
            "Tamaño de la segunda mitad: \u001b[33m0\u001b[0m\n",
            "Valor para esta opción: \u001b[35m5\u001b[0m\n",
            "Valor máximo encontrado para 2: \u001b[92m5\u001b[0m\n",
            "Largo de cortes óptimos encontrados para \u001b[31m2\u001b[0m: \u001b[92m[0, 2]\u001b[0m\n",
            "\u001b[31mCalculando opciones para 3: \u001b[0m\n",
            "Tamaño de la primera mitad \u001b[34m1\u001b[0m\n",
            "Tamaño de la segunda mitad: \u001b[33m2\u001b[0m\n",
            "Valor para esta opción: \u001b[35m6\u001b[0m\n",
            "Tamaño de la primera mitad \u001b[34m2\u001b[0m\n",
            "Tamaño de la segunda mitad: \u001b[33m1\u001b[0m\n",
            "Valor para esta opción: \u001b[35m6\u001b[0m\n",
            "Tamaño de la primera mitad \u001b[34m3\u001b[0m\n",
            "Tamaño de la segunda mitad: \u001b[33m0\u001b[0m\n",
            "Valor para esta opción: \u001b[35m8\u001b[0m\n",
            "Valor máximo encontrado para 3: \u001b[92m8\u001b[0m\n",
            "Largo de cortes óptimos encontrados para \u001b[31m3\u001b[0m: \u001b[92m[0, 3]\u001b[0m\n",
            "\u001b[31mCalculando opciones para 4: \u001b[0m\n",
            "Tamaño de la primera mitad \u001b[34m1\u001b[0m\n",
            "Tamaño de la segunda mitad: \u001b[33m3\u001b[0m\n",
            "Valor para esta opción: \u001b[35m9\u001b[0m\n",
            "Tamaño de la primera mitad \u001b[34m2\u001b[0m\n",
            "Tamaño de la segunda mitad: \u001b[33m2\u001b[0m\n",
            "Valor para esta opción: \u001b[35m10\u001b[0m\n",
            "Tamaño de la primera mitad \u001b[34m3\u001b[0m\n",
            "Tamaño de la segunda mitad: \u001b[33m1\u001b[0m\n",
            "Valor para esta opción: \u001b[35m9\u001b[0m\n",
            "Tamaño de la primera mitad \u001b[34m4\u001b[0m\n",
            "Tamaño de la segunda mitad: \u001b[33m0\u001b[0m\n",
            "Valor para esta opción: \u001b[35m9\u001b[0m\n",
            "Valor máximo encontrado para 4: \u001b[92m10\u001b[0m\n",
            "Largo de cortes óptimos encontrados para \u001b[31m4\u001b[0m: \u001b[92m[0, 2, 2]\u001b[0m\n",
            "\u001b[31mCalculando opciones para 5: \u001b[0m\n",
            "Tamaño de la primera mitad \u001b[34m1\u001b[0m\n",
            "Tamaño de la segunda mitad: \u001b[33m4\u001b[0m\n",
            "Valor para esta opción: \u001b[35m11\u001b[0m\n",
            "Tamaño de la primera mitad \u001b[34m2\u001b[0m\n",
            "Tamaño de la segunda mitad: \u001b[33m3\u001b[0m\n",
            "Valor para esta opción: \u001b[35m13\u001b[0m\n",
            "Tamaño de la primera mitad \u001b[34m3\u001b[0m\n",
            "Tamaño de la segunda mitad: \u001b[33m2\u001b[0m\n",
            "Valor para esta opción: \u001b[35m13\u001b[0m\n",
            "Tamaño de la primera mitad \u001b[34m4\u001b[0m\n",
            "Tamaño de la segunda mitad: \u001b[33m1\u001b[0m\n",
            "Valor para esta opción: \u001b[35m10\u001b[0m\n",
            "Tamaño de la primera mitad \u001b[34m5\u001b[0m\n",
            "Tamaño de la segunda mitad: \u001b[33m0\u001b[0m\n",
            "Valor para esta opción: \u001b[35m10\u001b[0m\n",
            "Valor máximo encontrado para 5: \u001b[92m13\u001b[0m\n",
            "Largo de cortes óptimos encontrados para \u001b[31m5\u001b[0m: \u001b[92m[0, 3, 2]\u001b[0m\n",
            "Valor máximo:  13\n",
            "Se necesitan 2 varillas de largo:\n",
            "3/2/ Respectivamente\n"
          ]
        }
      ]
    },
    {
      "cell_type": "markdown",
      "source": [
        "A contraparte de la opción verbose de la forma recursiva, podemos observar cómo esta alternativa también calcula todos los casos posibles del largo indicado, sin embargo lo realiza una sola vez, a diferencia del algoritmo recursivo que calcula una y otra vez los mismos valores.\n",
        "\n",
        "Lo anterior es gracias al diseño del algoritmo que va desde los tamaños más pequeños hasta los más grandes y guarda los resultados obtenidos para ser ocupados en el futuro, siguiendo el paradigma de programación dinámica."
      ],
      "metadata": {
        "id": "mX4VeyI3sI_n"
      }
    },
    {
      "cell_type": "markdown",
      "source": [
        "# 3. Propidades del algoritmo"
      ],
      "metadata": {
        "id": "O7WrlqsOmNM2"
      }
    },
    {
      "cell_type": "markdown",
      "source": [
        "## 3.1 Correctitud"
      ],
      "metadata": {
        "id": "veB1VpruTZTd"
      }
    },
    {
      "cell_type": "markdown",
      "source": [
        "### 3.1.1 Teorema de correctitud del algoritmo Bottom-up"
      ],
      "metadata": {
        "id": "qxir2GE4CxNq"
      }
    },
    {
      "cell_type": "markdown",
      "source": [
        "El algoritmo para resolver el problema de corte de varillas, dada una lista $[a_1,a_2, \\ldots ,a_k]$, donde $k$ representa un tamaño determinado de una varilla, y $a_n$ un precio asociado a ese tamaño, el algoritmo retorna el mayor valor posible a obtener para una varilla de largo $n$.\n",
        "\n",
        "**Prueba del teorema**\n",
        "\n",
        "Para la comprobación de la correctitud del algortimo se utilizará el método de inducción, el cual ya ha sido explicado en informes anteriores.\n",
        "\n",
        "**Caso base**\n",
        "\n",
        "Cuando el tamaño de la varilla es $n=0$, el algoritmo inicializa un arreglo `r[0]` el cual tiene como único elemento un $0$. Este es el único valor posible de \"corte\" de la varilla, es debido a esta condición que trivialmente será el mayor beneficio posible y es el valor que se retornará.\n",
        "\n",
        "**Paso inductivo**\n",
        "\n",
        "Para tamaños más grandes, el algoritmo realiza combinaciones de cortes aumentando progresivamente el tamaño de la primera mitad, comenzando desde $1$, hasta llegar al tamaño total de la varilla. Es así como el algoritmo retorna el máximo entre dos valores: \n",
        "\n",
        "1. $P(n)$, el cual significa retornar la varilla sin cortes.\n",
        "2. $P(i) + P(n-i)$, que es representa el valor que se consigue al realizar un corte de tamaño $i$ a la varilla, y sumarle el máximo valor posible al realizarle otros cortes al resto de la varilla de tamaño $(n-i)$.\n",
        "\n",
        "En caso de que el máximo valor sea la varilla sin cortes, el algoritmo dispone de la lista de precios por lo cual accede facilmente al precio de ese tamaño de varilla y lo retorna.\n",
        "\n",
        "Para el segundo caso, el algoritmo accede en primer lugar a la lista de precios ya mencionada, del cual accede al precio del corte de tamaño $i$, y le suma el acumulado de soluciones de tamaños menores a $n$ anteriormente calculadas, debido a que como se mencionó, el algoritmo resuelve desde los tamaños más pequeños hasta los más grandes.\n",
        "\n",
        "Finalmente, se retorna la opción que representa el mayor beneficio posible según el tamaño $n$."
      ],
      "metadata": {
        "id": "IWSzI4jZTeMh"
      }
    },
    {
      "cell_type": "markdown",
      "source": [
        "## 3.2 Tiempo de ejecución de algoritmo Bottom-up"
      ],
      "metadata": {
        "id": "OF3niKpRgDDp"
      }
    },
    {
      "cell_type": "markdown",
      "source": [
        "Para el tiempo de ejecución de este algoritmo, se debe analizar el comportamiento de este en el código.\n",
        "\n",
        "Como se describió anteriormente, el algoritmo utiliza dos ciclos `for`, el primero que recorre la lista de precios de tamaño $n$, y el segundo que va desde $0$ hasta el tamaño $i$ del corte de la primera mitad.\n",
        "\n",
        "Al tener dos ciclos `for` anidados uno dentro del otro, cuyas variables van en un rango de $1$ ó $0$ hasta $n$, tenemos que el tiempo de ejecución del algoritmo es del orden $O(n^2)$."
      ],
      "metadata": {
        "id": "JPt5dd97mRGw"
      }
    },
    {
      "cell_type": "markdown",
      "source": [
        "# 4. Experimentos"
      ],
      "metadata": {
        "id": "N14_QSBIgUUe"
      }
    },
    {
      "cell_type": "markdown",
      "source": [
        "## 4.1 Comparación entre alternativas"
      ],
      "metadata": {
        "id": "shXnkOKwb2SZ"
      }
    },
    {
      "cell_type": "markdown",
      "source": [
        "En el siguiente experimento se ilustrará cómo se comportan los tiempos de ejecución de cada alternativa del algoritmo (recursiva/bottom-up), a medida que el tamaño del problema crece."
      ],
      "metadata": {
        "id": "pncKO4BVVQsi"
      }
    },
    {
      "cell_type": "markdown",
      "source": [
        "### Tiempo de ejecución de Bottom-up"
      ],
      "metadata": {
        "id": "aTEH6nSQi7p1"
      }
    },
    {
      "cell_type": "code",
      "source": [
        "import matplotlib.pyplot as plt\n",
        "import datetime\n",
        "import random\n",
        "from timeit import repeat\n",
        "\n",
        "def cutrod_instance_generator(N):\n",
        "  A = []\n",
        "  prev = 0\n",
        "  for i in range(N):\n",
        "    r=random.randint(0,10)\n",
        "    A.append(prev+r)\n",
        "    prev+=r\n",
        "  return A\n",
        "\n",
        "x = []; y1 = [] ; y2 = []\n",
        "\n",
        "for n in range(1,100):\n",
        "\n",
        "  A = cutrod_instance_generator(n)\n",
        "\n",
        "  t = repeat(setup=\"from __main__ import corteVarillasDin\", stmt=f\"corteVarillasDin({A}, {len(A)}, {False})\", repeat=1, number=10)\n",
        "\n",
        "  x.append(n)\n",
        "  y1.append(t)\n",
        "\n",
        "\n",
        "plt.plot(x,y1)\n",
        "plt.legend([\"Algoritmo Bottom-up\"])\n",
        "\n",
        "plt.xlabel('n')\n",
        "plt.ylabel('time in ms')\n",
        "plt.show()"
      ],
      "metadata": {
        "colab": {
          "base_uri": "https://localhost:8080/",
          "height": 279
        },
        "id": "JxyXWY0a8QTc",
        "outputId": "017a74ff-94d6-4876-a1d9-c8e3b8ca0557"
      },
      "execution_count": 7,
      "outputs": [
        {
          "output_type": "display_data",
          "data": {
            "text/plain": [
              "<Figure size 432x288 with 1 Axes>"
            ],
            "image/png": "[encoded data removed]"
          },
          "metadata": {
            "needs_background": "light"
          }
        }
      ]
    },
    {
      "cell_type": "markdown",
      "source": [
        "### Tiempo de ejecución opción recursiva"
      ],
      "metadata": {
        "id": "tmB3wwXErKpx"
      }
    },
    {
      "cell_type": "code",
      "source": [
        "x = []; y1 = [] ; y2 = []\n",
        "\n",
        "for n in range(12,23):\n",
        "\n",
        "  A = cutrod_instance_generator(n)\n",
        "\n",
        "  t = repeat(setup=\"from __main__ import corteVarillas\", stmt=f\"corteVarillas({A}, {len(A)}, {False})\", repeat=1, number=10)\n",
        "\n",
        "  x.append(n)\n",
        "  y1.append(t)\n",
        "\n",
        "\n",
        "plt.plot(x,y1)\n",
        "plt.legend([\"Algoritmo recursivo\"])\n",
        "\n",
        "plt.xlabel('n')\n",
        "plt.ylabel('time in ms')\n",
        "plt.show()"
      ],
      "metadata": {
        "colab": {
          "base_uri": "https://localhost:8080/",
          "height": 279
        },
        "id": "zMWwTvUii0Bk",
        "outputId": "2e023ef1-e771-4a50-b3bd-286f934324c1"
      },
      "execution_count": 10,
      "outputs": [
        {
          "output_type": "display_data",
          "data": {
            "text/plain": [
              "<Figure size 432x288 with 1 Axes>"
            ],
            "image/png": "[encoded data removed]"
          },
          "metadata": {
            "needs_background": "light"
          }
        }
      ]
    },
    {
      "cell_type": "markdown",
      "source": [
        "### Conclusiones"
      ],
      "metadata": {
        "id": "Ro_5Qa0LrSzk"
      }
    },
    {
      "cell_type": "markdown",
      "source": [
        "Luego de analizar ambos gráficos, es importante prestar atención a la medida en la que están los tiempos de ejecución, mientras el algoritmo de programación dinámica tiene una medida de tiempo en números decimales en el eje y, siendo el tiempo más lento $0.008-0.010 [ms]$. Por otro lado el algoritmo recursivo va desde los $0 [ms]$ a los $30[ms]$ con un crecimiento muy pronunciado a partir del tamaño de problema número $18$.\n",
        "\n",
        "Esto se condice con las complejidades temporales teóricas de cada alternativa, debido a que como se mencionó en el punto anterior, la estrategia Bottom-up tiene una cota asintótica de $O(n^2)$, la cual se ve en su gráfica con una curva de crecimiento cuadrática. Mientras que el algoritmo recursivo realiza un total de $2^n$ comparaciones, siendo esa su complejidad temporal, la cual es bastante alta y exponencial, tal como se ve en la gráfica adjunta.\n",
        "\n",
        "Cabe destacar finalmente que al momento de generar los gráficos, Google Collab tardó menos de $2 [s]$ en generar el primer gráfico, y algo más de $2 [min]$ en generar el segundo, demostrando nuevamente la diferencia de complejidad temporal entre estas dos alternativas."
      ],
      "metadata": {
        "id": "rrM6WU11AuPa"
      }
    },
    {
      "cell_type": "markdown",
      "source": [
        "## 4.2 Comparación entre cantidad de sub-problemas/llamadas recursivas\n",
        "\n",
        "Finalmente se compararán ya no el tiempo medido por computadora sino el contador de llamadas recursivas presente en la implementación del algoritmo recursivo, con respecto a la cantidad de sub-problemas que se deben resolver para el algoritmo bottom-up, mencionada anteriormente en la descripción del algoritmo."
      ],
      "metadata": {
        "id": "3Cf3onG7gZnj"
      }
    },
    {
      "cell_type": "code",
      "source": [
        "import matplotlib.pyplot as plt\n",
        "import math\n",
        "\n",
        "x = [n for n in range(0,10)] \n",
        "y1 = [(n-1) for n in range(0,10)] \n",
        "\n",
        "y = []\n",
        "\n",
        "for n in range(0,10):\n",
        "  A = cutrod_instance_generator(n)\n",
        "  cont = 0\n",
        "  aux, cortes = corteVarillas(A, len(A), False)\n",
        "  y.append(cont)\n",
        "\n",
        "plt.plot(x,y)\n",
        "plt.plot(x,y1)\n",
        "\n",
        "plt.legend([\"Algoritmo recursivo\", \"Algoritmo Bottom-up\"])\n",
        "\n",
        "plt.xlabel('Tamaño del problema')\n",
        "plt.ylabel('Número de llamdas recursivas/sub-problemas')\n",
        "plt.show()"
      ],
      "metadata": {
        "colab": {
          "base_uri": "https://localhost:8080/",
          "height": 285
        },
        "id": "513dP4zFcS-W",
        "outputId": "223b12ba-656e-4025-903d-962fc310163f"
      },
      "execution_count": 19,
      "outputs": [
        {
          "output_type": "display_data",
          "data": {
            "text/plain": [
              "<Figure size 432x288 with 1 Axes>"
            ],
            "image/png": "[encoded data removed]"
          },
          "metadata": {
            "needs_background": "light"
          }
        }
      ]
    },
    {
      "cell_type": "markdown",
      "source": [
        "En este último gráfico se puede observar con mayor claridad como la proporción del tamaño del problema sobre el tiempo es lineal para el algoritmo Bottom-up, mientras que para el algoritmo recursivo es una relación exponencial, logrando llegar incluso hasta más de las 512 llamadas recursivas para un tamaño de problema mayor a 8."
      ],
      "metadata": {
        "id": "-7uK1XbCfqqG"
      }
    }
  ]
}