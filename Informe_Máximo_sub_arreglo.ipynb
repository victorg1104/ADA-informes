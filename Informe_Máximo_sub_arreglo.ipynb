{
  "nbformat": 4,
  "nbformat_minor": 0,
  "metadata": {
    "colab": {
      "name": "Informe Máximo sub-arreglo.ipynb",
      "provenance": [],
      "collapsed_sections": []
    },
    "kernelspec": {
      "name": "python3",
      "display_name": "Python 3"
    },
    "language_info": {
      "name": "python"
    }
  },
  "cells": [
    {
      "cell_type": "markdown",
      "source": [
        "# 1. Descripción del problema"
      ],
      "metadata": {
        "id": "ys2SqerWtrgy"
      }
    },
    {
      "cell_type": "markdown",
      "source": [
        "El problema a tratar en este informe es el **Problema del sub-arreglo máximo**, el cual consiste en encontrar dentro de un arreglo A de largo $n$, un sub-arreglo compuesto por elementos contiguos uno del otro, el cual es de tamaño variable, con índices inicial y final $i$ y $j$ respectivamente, tal que $1 \\leq i \\leq j \\leq n$, y por último, con la condición adicional que la suma que resulta de juntar todos los elementos de ese sub-arreglo, es la máxima posible dentro del arreglo original.  \n",
        "\n",
        "**Entrada:** Un arreglo de tamaño $n$ de la forma $A = [a_1,a_2,...,a_n]$\n",
        "\n",
        "**Salida**: Un sub-arreglo de tamaño $n$ y de la forma $A' = [a_1',a_2',...,a_n']$, en el cual la suma $a_1'+ a_2'+,...,+a_n'$ corresponde a la mayor suma de elementos contiguos dentro del arreglo original $A$.\n",
        "\n",
        "**Tamaño del problema:** El tamaño para este problema viende definido por la cantidad $n$ de elementos dentro de el arreglo a estudiar.\n",
        "\n",
        "\n",
        "<a href=\"https://imgur.com/juxuoQa\"><img src=\"https://i.imgur.com/juxuoQa.png\" title=\"source: imgur.com\" /></a>\n",
        "\n",
        "En la presente imagen se nos muestra un arreglo de tamaño 9, en el cual se nos marca con verde el sub-arreglo con elementos contiguos con la mayor suma dentro del arreglo original, cuyo valor corresponde a $1+2+3+6 = 12$.\n",
        "\n",
        "### **Aplicaciones**\n",
        "\n",
        "Las aplicaciones de este problema son variadas, he aquí unos ejemplos de ellas:\n",
        "\n",
        "* En el área de la **bioinformática**, se presentan varios problemas de esta naturaleza al momento de realizar análisis de secuencias genómicas (ADN, ARN) para encontrar segmentos biológicos importantes dentro de las secuencias de proteínas.\n",
        "\n",
        "* En los procesos correspondientes a **visión por computadora** (campo relacionado a la ingeniería y la informática, que se encarga de realizar análisis de alto nivel a partir de imágenes o videos), los algoritmos relacionados a este problema se utilizan al analizar imágenes con un mapa de bits, para así encontrar por ejemplo, el área con mayor iluminación dentro de estas."
      ],
      "metadata": {
        "id": "r7Vhn5P9uU07"
      }
    },
    {
      "cell_type": "markdown",
      "source": [
        "# 2. Algoritmo solución: Divide y vencerás\n"
      ],
      "metadata": {
        "id": "15etIsSS32ep"
      }
    },
    {
      "cell_type": "markdown",
      "source": [
        "## 2.1 Descripción\n",
        "\n"
      ],
      "metadata": {
        "id": "22CyMFk__bYn"
      }
    },
    {
      "cell_type": "markdown",
      "source": [
        "El problema del sub-arreglo máximo tiene tres principales soluciones. En primer lugar tenemos la solución conocida como **fuerza bruta**, que lleva ese nombre debido a que es la que conlleva un mayor tiempo de ejecución y es el más ineficiente, consiste en buscar cada posible sub-arreglo, sumarlos, para luego compararlos entre ellos y determinar el de suma mayor. En segundo lugar existe el algoritmo de Kadane, el cual tiene una complejidad y es el más eficiente en tiempo de las 3 opciones, el funcionamiento de este será explicado más adelante en este informe. Por último, tenemos el algoritmo que utiliza el mismo paradigma que el algoritmo Merge Sort anteriormente descrito: **\"divide y vencerás\"**. A continuación se presenta la aplicación del paradigma en este algoritmo.\n",
        "\n",
        "**Entrada:** Un arreglo o lista con $n$ cantidad de números.\n",
        "\n",
        "**Salida:** Índices $i$ y $j$ tal que $1 \\leq i \\leq j \\leq n$, correspondientes a un sub-arreglo con elementos contiguos pertenecientes al arreglo original, los cuales al sumarlos dan una cantidad mayor a cualquier posible suma de los elementos de otros sub-arreglos existentes.\n",
        "\n",
        "El algoritmo, como se mencionó, tiene una similitud en su funcionamiento con el Merge Sort, debido a que utiliza nuevamente el paradigma **\"divide y vencerás\"**, el la cual consiste en dividir un problema inicial en sub-problemas que sean más llevaderos o \"fáciles\" de solucionar, para así llegar a un resultado final. \n",
        "\n",
        "Este algoritmo lleva a cabo lo anterior realizando los siguientes tres pasos:\n",
        "\n",
        "1. Se divide el arreglo de $n$ elementos en dos que contengan $n/2$ elementos y se busca recursivamente, es decir, aplicando el algoritmo en cada mitad, para así llegar primeramente al caso base, es decir, cuando queda solo un elemento y entonces el problema del sub-arreglo máximo se vuelve trivial. **(Dividir)**\n",
        "\n",
        "2. Se busca el máximo de los sub-arreglos en ambas mitades conseguidas en el paso anterior, pero además se buscan sub-arreglos adicionales que contengan o \"pasen\" por la mitad del arreglo. lo anterior debido a que al analizar cada mitad por separado, estamos olvidando estos posibles sub-arreglos. Esta siguiente búsqueda se realiza mediante una función diferente que llamaremos ***maxSubArrayMid***. **(Conquistar)**\n",
        "\n",
        "3. Se retorna mayor de los tres sub-arreglos obtenidos y se retorna el que tenga la mayor suma entre sus elementos. **(Vencer/Solución del problema)**"
      ],
      "metadata": {
        "id": "chIfPkf2BbHS"
      }
    },
    {
      "cell_type": "markdown",
      "source": [
        "## 2.2 Código"
      ],
      "metadata": {
        "id": "tkaX9fGbBQp3"
      }
    },
    {
      "cell_type": "code",
      "source": [
        "def MaxSubArray(A, izq, der, verbose):\n",
        "\tif(verbose == True and izq != der):\n",
        "\t\tprint(\"Arreglo a \" + \"\\033[1m\" + \"separar: \" + \"\\033[0m\" + \"\\033[91m\" + str(A[izq:der+1]) + \"\\033[0m\")\n",
        "\t\n",
        "\tif izq == der: #Caso base, el sub-arreglo solo un elemento, se retorna ese elemento\n",
        "\t\tif(verbose == True):\n",
        "\t\t\tprint(\"Se retorna elemento único:\" + \"\\033[34m\" + str(A[izq:der+1]) + \"\\033[0m\")\n",
        "\t\treturn A[izq], izq, der  #Se retorna el elemento junto con los índices respectivos\n",
        "\n",
        "\tmid = (izq + der + 1) // 2  #Se calcula la mitad del arreglo\n",
        "\n",
        "\tsumaIzq, inicioIzq, finIzq = MaxSubArray(A, izq, mid-1, verbose)\t\t#Se busca la mayor suma de la mitad izquierda\n",
        "\tsumaDer, inicioDer, finDer = MaxSubArray(A, mid, der, verbose)\t\t\t#Se busca la mayor suma de la mitad derecha\n",
        "\tsumaMid, inicioMid, finMid = MaxArrayMid(A, mid, izq, der)\t#Se busca la mayor suma que considere la mitad del arreglo\n",
        "\n",
        "\tif(verbose == True):\n",
        "\t\tprint(\"Arreglo a \" + \"\\033[1m\" + \"analizar: \" + \"\\033[0m\" \"\\033[91m\" + str(A[izq:der+1]) + \"\\033[0m\")\n",
        "\tif(verbose == True):\n",
        "\t\tprint(\"Máxima suma por la izquierda: \", sumaIzq)\n",
        "\tif(verbose == True):\n",
        "\t\tprint(\"Máxima suma por la derecha: \", sumaDer)\n",
        "\tif(verbose == True):\n",
        "\t\tprint(\"Máxima suma por el medio: \", sumaMid)\n",
        "\t\n",
        "\tres = max(sumaIzq, sumaDer, sumaMid) \t\t#Se busca la mayor suma entre las tres\n",
        " \n",
        "\t#Dependiendo del resultado de la suma mayor, se retorna el resultado y los índices correspondientes\n",
        "\tif(sumaIzq > sumaDer and sumaIzq > sumaMid):\n",
        "\t\tif(verbose == True):\n",
        "\t\t\tprint(\"Se retorna el arreglo por la izquierda: \" + \"\\033[92m\" + str(A[inicioIzq:finIzq+1]) + \"\\033[0m\" + \" con suma: \" + \"\\033[92m\" + str(sumaIzq) + \"\\033[0m\") \n",
        "\t\treturn sumaIzq, inicioIzq, finIzq\n",
        "\telif(sumaDer > sumaIzq and sumaDer > sumaMid):\n",
        "\t\tif(verbose == True):\n",
        "\t\t\tprint(\"Se retorna el arreglo por la derecha: \" + \"\\033[92m\" + str(A[inicioDer:finDer+1]) + \"\\033[0m\" + \" con suma: \" + \"\\033[92m\" + str(sumaDer) + \"\\033[0m\")\n",
        "\t\treturn sumaDer, inicioDer, finDer\n",
        "\telse:\n",
        "\t\tif(verbose == True):\n",
        "\t\t\tprint(\"Se retorna el arreglo que pasa por el medio: \" + \"\\033[92m\" + str(A[inicioMid:finMid+1]) + \"\\033[0m\" + \" con suma: \" + \"\\033[92m\" + str(sumaMid) + \"\\033[0m\")\n",
        "\t\treturn sumaMid, inicioMid, finMid\n",
        " \n",
        "def MaxArrayMid(A, mid, izq, der):  #Función para calculrar el mayor sub-arreglo que pase por el medio\n",
        "\tsum = 0 #Almacena la suma acumulada hasta un cierto índice i\n",
        "\ti = 0 #Almacena el límite izquierdo\n",
        "\tj = 0 #Almacena el límite derecho\n",
        "\tmidIzq = -100000000  #Suma máxima por la izquierda\n",
        "\tmidDer = -100000000  #Suma máxima por la derecha\n",
        "\n",
        "\tfor l in range(mid-1, izq-1, -1): #Se itera buscando la máxima suma izquierda\n",
        "\t\tsum = sum + A[l]\n",
        "\t\tif(sum > midIzq):\n",
        "\t\t\ti = l #Se guarda el ínidice correspondiente al límite por la izquierda\n",
        "\t\t\tmidIzq = sum\n",
        "\n",
        "\tsum = 0\n",
        "\t\n",
        "\tfor l in range(mid, der+1):  #Se itera buscando la máxima suma derecha\n",
        "\t\tsum = sum + A[l]\n",
        "\t\tif(sum > midDer):\n",
        "\t\t\tj = l\t\t#Se guarda el índice correspondiente al límite por la derecha\n",
        "\t\t\tmidDer = sum\n",
        "\n",
        "\tres = midIzq + midDer\n",
        "\treturn res, i, j \t#Se retorna el resultado de ambas sumas y los límites que conforman el sub-arreglo\n",
        "\n",
        "#Ejemplo\n",
        "A = [5,-4,3,8,-6,-2]\n",
        "izq = 0 #Índice inicial\n",
        "der = len(A)-1 #Índice final\n",
        "verbose = False\n",
        "\n",
        "print(\"Entrada: \" + str(A) + \"\\n\")\n",
        " \n",
        "res, izq, der = MaxSubArray(A, izq, der, verbose)\n",
        "\n",
        "print(\"\\nEl mayor sub-arreglo es:\", A[izq:der+1])\n",
        "print(\"con una suma total de: \", res)\n"
      ],
      "metadata": {
        "colab": {
          "base_uri": "https://localhost:8080/"
        },
        "id": "TeFqDcQwBWOs",
        "outputId": "66f07187-c971-4220-bcc0-433e856eafc8"
      },
      "execution_count": 10,
      "outputs": [
        {
          "output_type": "stream",
          "name": "stdout",
          "text": [
            "Entrada: [5, -4, 3, 8, -6, -2]\n",
            "\n",
            "\n",
            "El mayor sub-arreglo es: [5, -4, 3, 8]\n",
            "con una suma total de:  12\n"
          ]
        }
      ]
    },
    {
      "cell_type": "markdown",
      "source": [
        "## 2.3 Ejemplo"
      ],
      "metadata": {
        "id": "lupJG8CPgtQp"
      }
    },
    {
      "cell_type": "markdown",
      "source": [
        "En la siguiente imagen se iluistrará y luego se explicará un ejemplo del uso del algoritmo para el arreglo `A = [5, -4, 3, 8, -6, -2]`:\n",
        "\n",
        "<a href=\"https://imgur.com/gg087j8\"><img src=\"https://i.imgur.com/gg087j8.jpg\" title=\"source: imgur.com\" /></a>\n",
        "\n",
        "* **Paso 1:** En este paso lo primero que se hace es dividir el arreglo a la mitad. Debido a que es un arreglo de tamaño 6, los sub-arreglos resultantes son de tamaño 3.\n",
        "\n",
        "* **Paso 2:** Para este paso cada sub-arreglo es dividido en dos también, debido a que son ambos de tamaño tres, dan como resultado dos sub- arreglos de tamaño 1 y 2 respectivamente.\n",
        "\n",
        "* **Paso 3:** En este siguiente paso se consigue el primer objetivo principal del Merge Sort, dividir a la mínima capacidad el problema, teniendo finalmnente 6 sub-arreglos de tamaño 1, los cuales contienen cada componente del arreglo original.\n",
        "\n",
        "* **Paso 4:** En el paso cuatro es en el cual se vuelven a juntar los elementos divididos, y se comienzan a buscar las máximas sumas de la parte izquierda, derecha y central de cada sub-arreglo.\n",
        "\n",
        "* **Paso 5:** Para este paso es importante observar que los sub arreglos contienen los mismos números que los del paso 2, con la característica que cada sub-arreglo lleva una etiqueta en la cual se destaca la mayor suma conseguida por cada mitad.\n",
        "\n",
        "* **Paso 6:** En este paso es donde se reciben estas máximas sumas del sub-arreglo de la izquierda y de la derecha, para finalmente aplicar la función **MaxArrayMid**  y buscar esos sub-arreglos centrales que no han sido considerados.\n",
        "\n",
        "* **Paso 7:** Para el paso final se muestra cuál es el sub-arreglo que contiene entre sus elementos la máxima suma posible de conseguir dentro del arreglo, junto con su valor. Para el caso del ejemplo tenemos que el máximo sub-arreglo es `A' = [5,-4,3,8]` con una suma total de **12**."
      ],
      "metadata": {
        "id": "TvUvIP8mgwmu"
      }
    },
    {
      "cell_type": "markdown",
      "source": [],
      "metadata": {
        "id": "GpMhXBJqNcng"
      }
    },
    {
      "cell_type": "markdown",
      "source": [
        "## 2.4 Ejecución del código con opción verbose"
      ],
      "metadata": {
        "id": "aH8E7ZNKkxjd"
      }
    },
    {
      "cell_type": "code",
      "source": [
        "import random\n",
        "\n",
        "A = random.sample(range(-20, 20), 7)\n",
        "izq = 0 #Índice inicial\n",
        "der = len(A)-1 #Índice final\n",
        "verbose = True\n",
        "\n",
        "print(\"Entrada: \", A)\n",
        "\n",
        "res, izq, der = MaxSubArray(A, izq, der, verbose)\n",
        "\n",
        "print(\"\\nEl mayor sub-arreglo es:\", A[izq:der+1])\n",
        "print(\"con una suma total de: \", res)"
      ],
      "metadata": {
        "colab": {
          "base_uri": "https://localhost:8080/"
        },
        "id": "CcQhUKuJk2bd",
        "outputId": "b5009e00-6576-4557-eb34-02bc5020aa99"
      },
      "execution_count": 3,
      "outputs": [
        {
          "output_type": "stream",
          "name": "stdout",
          "text": [
            "Entrada:  [-14, -7, -3, -5, 3, 4, -2]\n",
            "Arreglo a \u001b[1mseparar: \u001b[0m\u001b[91m[-14, -7, -3, -5, 3, 4, -2]\u001b[0m\n",
            "Arreglo a \u001b[1mseparar: \u001b[0m\u001b[91m[-14, -7, -3]\u001b[0m\n",
            "Se retorna elemento único:\u001b[34m[-14]\u001b[0m\n",
            "Arreglo a \u001b[1mseparar: \u001b[0m\u001b[91m[-7, -3]\u001b[0m\n",
            "Se retorna elemento único:\u001b[34m[-7]\u001b[0m\n",
            "Se retorna elemento único:\u001b[34m[-3]\u001b[0m\n",
            "Arreglo a \u001b[1manalizar: \u001b[0m\u001b[91m[-7, -3]\u001b[0m\n",
            "Máxima suma por la izquierda:  -7\n",
            "Máxima suma por la derecha:  -3\n",
            "Máxima suma por el medio:  -10\n",
            "Se retorna el arreglo por la derecha: \u001b[92m[-3]\u001b[0m con suma: \u001b[92m-3\u001b[0m\n",
            "Arreglo a \u001b[1manalizar: \u001b[0m\u001b[91m[-14, -7, -3]\u001b[0m\n",
            "Máxima suma por la izquierda:  -14\n",
            "Máxima suma por la derecha:  -3\n",
            "Máxima suma por el medio:  -21\n",
            "Se retorna el arreglo por la derecha: \u001b[92m[-3]\u001b[0m con suma: \u001b[92m-3\u001b[0m\n",
            "Arreglo a \u001b[1mseparar: \u001b[0m\u001b[91m[-5, 3, 4, -2]\u001b[0m\n",
            "Arreglo a \u001b[1mseparar: \u001b[0m\u001b[91m[-5, 3]\u001b[0m\n",
            "Se retorna elemento único:\u001b[34m[-5]\u001b[0m\n",
            "Se retorna elemento único:\u001b[34m[3]\u001b[0m\n",
            "Arreglo a \u001b[1manalizar: \u001b[0m\u001b[91m[-5, 3]\u001b[0m\n",
            "Máxima suma por la izquierda:  -5\n",
            "Máxima suma por la derecha:  3\n",
            "Máxima suma por el medio:  -2\n",
            "Se retorna el arreglo por la derecha: \u001b[92m[3]\u001b[0m con suma: \u001b[92m3\u001b[0m\n",
            "Arreglo a \u001b[1mseparar: \u001b[0m\u001b[91m[4, -2]\u001b[0m\n",
            "Se retorna elemento único:\u001b[34m[4]\u001b[0m\n",
            "Se retorna elemento único:\u001b[34m[-2]\u001b[0m\n",
            "Arreglo a \u001b[1manalizar: \u001b[0m\u001b[91m[4, -2]\u001b[0m\n",
            "Máxima suma por la izquierda:  4\n",
            "Máxima suma por la derecha:  -2\n",
            "Máxima suma por el medio:  2\n",
            "Se retorna el arreglo por la izquierda: \u001b[92m[4]\u001b[0m con suma: \u001b[92m4\u001b[0m\n",
            "Arreglo a \u001b[1manalizar: \u001b[0m\u001b[91m[-5, 3, 4, -2]\u001b[0m\n",
            "Máxima suma por la izquierda:  3\n",
            "Máxima suma por la derecha:  4\n",
            "Máxima suma por el medio:  7\n",
            "Se retorna el arreglo que pasa por el medio: \u001b[92m[3, 4]\u001b[0m con suma: \u001b[92m7\u001b[0m\n",
            "Arreglo a \u001b[1manalizar: \u001b[0m\u001b[91m[-14, -7, -3, -5, 3, 4, -2]\u001b[0m\n",
            "Máxima suma por la izquierda:  -3\n",
            "Máxima suma por la derecha:  7\n",
            "Máxima suma por el medio:  -1\n",
            "Se retorna el arreglo por la derecha: \u001b[92m[3, 4]\u001b[0m con suma: \u001b[92m7\u001b[0m\n",
            "\n",
            "El mayor sub-arreglo es: [3, 4]\n",
            "con una suma total de:  7\n"
          ]
        }
      ]
    },
    {
      "cell_type": "markdown",
      "source": [
        "Las impresiones en caso de que la opción *verbose* esté activada ilustran en primer lugar como el arreglo original así como cada sub-arreglo (resaltados en rojo) se va dividiendo, hasta llegar a elementos unitarios (resaltados en azul). Después de esto, se remarca cuál sub-arreglo se está analizando (resaltado en rojo) para encontrar sus mayores sumas. Finalmente se muestra el sub-arreglo retornado en cada llamada recursiva, el cual corresponde al de mayor suma encontrada (ambas componentes resaltadas en verde)."
      ],
      "metadata": {
        "id": "uCrzC2a9lTIn"
      }
    },
    {
      "cell_type": "markdown",
      "source": [
        "# 3. Propidades del algoritmo"
      ],
      "metadata": {
        "id": "O7WrlqsOmNM2"
      }
    },
    {
      "cell_type": "markdown",
      "source": [
        "## 3.1Tiempo de ejecución"
      ],
      "metadata": {
        "id": "OF3niKpRgDDp"
      }
    },
    {
      "cell_type": "markdown",
      "source": [
        "Para el tiempo de ejecución de este algoritmo, se debe analizar el comportamiento de este según su entrada. Así se tiene que ***divide y vencerás*** se comporta de dos maneras dependiendo del tamaño de su entrada. Por un lado si el arreglo a ordenar es de tamaño 1, se retorna el elemento en cuestión, lo cual tiene una complejidad constante $O(1)$. Para todos los otros casos, el procedimiento del algoritmo al ser recursivo es dividir el problema en dos mitades de tamaño $n \\above 1pt 2$. A cada uno de estos sub-arreglos resultantes se les aplicará el mismo algoritmo, se procederá así sucesivamente hasta llegar en cada uno al caso base inicialmente mencionado, el tiempo que se repetirá este procedimiento hasta dividir cada uno de los arreglos es de $log_2(n)$. Luego de esto viene la parte de la tarea que queda por hacer, que es el encontrar las mayores sumas en la izquierda, la derecha y al medio, lo cual tendrá una complejidad de $O(n)$.\n",
        "\n",
        "Bajo esta primicia resulta la siguiente función de recursión:\n",
        "\n",
        "$T(n) = 2T(n/2) + O(n)$\n",
        "\n",
        "Se puede apreciar que es la misma función que representaba el algoritmo Merge Sort, sin embargo, para este caso se utilizará un nuevo método para calcular la complejidad temporal de este algoritmo, el teorema maestro.\n",
        "\n",
        "El teorema maestro postula que para cualquier función de recurrencia de la forma: $T(n) = aT(n/b) + O(n^d)$ su complejidad temporal vendrá dada por alguna de las siguientes tres relaciones:\n",
        "\n",
        "\\begin{equation}\n",
        "T(n) = \\begin{cases}\n",
        "  O(n^d log (n)) & a = b^d \\\\\n",
        "  O(n^d) & a<b^d \\\\\n",
        "  O(n^{log_b(a)}) & a>b^d\n",
        "\\end{cases}\n",
        "\\end{equation}\n",
        "\n",
        "Teniendo este teorema el cálculo de complejidad temporal se vuelve sencillo, debido a que se pueden identificar facilmente cada variable dentro de la ecuación a analizar para el algoritmo. Se tiene que $a = 2$, $b = 2$ y $d = 1$, por lo tanto, se está en presencia del primer caso posible, en el cual $2 = 2^1 = 2$. Finalmente, para el algoritmo de divide y vencerás se tiene una complejidad de $O(n^1 log (n)) = O(nlog(n))$.\n",
        "\n",
        "Lo anterior es fácilmente comprobable mediante un árbol de recursión, tenemos que la altura de este árbol sería la cantidad de particiones para llegar al caso base, lo cual corresponde a $log_2(n)$, mientras que la complejidad total de cada nivel es de $cn$, que es el remanente de tiempo que aporta la función **MaxArrayMid**. Además se debe tener en consideración que la cantidad de nodos por nivel es de $2^d$, siendo $d$ el nivel el cual se analiza, sin embargo esta variable al no depender directamente del tamaño del problema se vuelve despreciable, luego eliminando las constantes numéricas da como resultado la notación big-O anteriormente mencionada para la complejidad temporal del algoritmo.\n",
        "\n",
        "Es importante recalcar que el mejor caso de este algoritmo y el peor caso son de cierta forma \"relativos\", ya que ambos tienen exactamente la misma complejidad $O(n \\log(n))$. Esto es debido a que en ambos casos el algoritmo desarma el arreglo ($log(n)$) y luego lo vuelve a combinar, aplicando la función **MaxArrayMid**($n$), buscando así la máxima suma posible en cada llamada recursiva."
      ],
      "metadata": {
        "id": "JPt5dd97mRGw"
      }
    },
    {
      "cell_type": "markdown",
      "source": [
        "## 3.2 Correctitud"
      ],
      "metadata": {
        "id": "veB1VpruTZTd"
      }
    },
    {
      "cell_type": "markdown",
      "source": [
        "### **3.2.1 Teorema  de correctitud de función MaxArrayMid**\n",
        "\n",
        "El algoritmo MaxArrayMid, dado un arreglo del orden $[a_1,a_2, \\ldots ,a_n]$, retorna un sub-arreglo $[a_1',a_2', \\ldots ,a_n']$ el cual cumple las condiciones de contener los elementos que se encuentran en el centro del arreglo original, además de ser la mayor de las sumas posibles dentro de las combinaciones contiguas que consideren los números de las posiciones de en medio del arreglo en cuestión. \n",
        "\n",
        "### **Prueba del teorema**\n",
        "\n",
        "* **Propiedad invariante de bucle**: En cada iteración, la función MaxArrayMid considera la mayor suma posible en un intervalo `[i,mid]` y `[mid+1,j]`.\n",
        "\n",
        "**Inicialización**\n",
        "\n",
        "Se tiene que las variables con nombre `midIzq` y `midDer` son las que guardan la mayor suma encontrada hasta el momento desde el inicio del arreglo hasta un punto central `mid` y desde `mid+1` hasta el final del arreglo, respectivamente. Para la primera iteración, estas variables son inicializadas en un valor cercano a $-∞$, es por esto que en la primera entrada al bucle, el número que se encuentra en `mid` es el que se guardará en la variable `midIzq`, debido a que es un solo elemento y es mayor a $-∞$, por lo que representa a la mayor suma encontrada en el intervalo`[mid,mid]`. Este proceso ocurre de manera análoga con respecto a la variable `midDer` y el intervalo `[mid+1,mid+1]`\n",
        "\n",
        "* **Imagen de explicación de la inicialización:**\n",
        "\n",
        "<a href=\"https://imgur.com/ECimXUn\"><img src=\"https://i.imgur.com/ECimXUn.jpg\" title=\"source: imgur.com\" /></a>\n",
        "\n",
        "Se puede observar como la variable `midIzq` contiene a $-∞$ dentro de ella, luego de ser este valor comparado con el elemento correspondiente a la posición `mid`, la variable `midIzq` se actualiza con el valor $5$.\n",
        "\n",
        "**Mantención**\n",
        "\n",
        "Para la mantención se debe analizar lo que ocurre con la i-ésima iteración. En este caso, se asume que las variables `midIzq` y `midDer` guardan la mayor suma encontrada hasta el momento en cada mitad. Teniéndo en cuenta esto, para la i-ésima iteración se suma el número que se encuentre en una posición a una distancia `i` de `mid`, luego de esto, se compara si la suma resultante es mayor a lo que esté guardado en `midIzq`, de ser verdadera aquella comparación, el nuevo valor resultante se guarda en `midIzq` y se actualiza el índice que delimita el limite izquierdo del sub-arreglo a retornar. De igual forma que para la incialización, este proceso se repite para el intervalo `[mid+1,j]`, siendo `j` el límite derecho de este sub-arreglo.\n",
        "\n",
        "Finalmente el mayor sub-arreglo que contenga los elementos centrales del arreglo original es aquel delimitado por los índices resultantes `i` y `j`, y su resultado será el que resulte de sumar los valores dentro de `midIzq` y `midDer`.\n",
        "\n",
        "* **Imagen de explicación de la mantención:**\n",
        "\n",
        "<a href=\"https://imgur.com/7HA1QeO\"><img src=\"https://i.imgur.com/7HA1QeO.jpg\" title=\"source: imgur.com\" /></a>\n",
        "\n",
        "En la anterior imagen podemos ver en color verde los valores considerados hasta el momento dentro de lo que es el mayor sub-arreglo encontrado en cada mitad del arreglo original, luego vemos cómo las flechas indican los elementos contiguos a añadir, para luego comparar el resultado de la suma de ambos números con el valor guardado en `midIzq`, en caso de cumplirse la desigualdad planteada, los valores de `midIzq` y `midDer` se actualizan así también como los índices `i` y `j`. Cabe recalcar que al final de la función **MaxArrayMid**, se retornan los índices para marcar el inicio y fin del máximo sub-areglo central, además de también retornar la suma `midIzq + midDer`.\n",
        "\n",
        "Al comprobar que esta propiedad se cumple al inicio del algoritmo y durante la iteración *i-ésima*, la propiedad **invariante del bucle** queda demostrada, así también la correctitud de la función **MaxArrayMid**.\n",
        "\n"
      ],
      "metadata": {
        "id": "IWSzI4jZTeMh"
      }
    },
    {
      "cell_type": "markdown",
      "source": [
        "### **3.2.2 Teorema  de correctitud de algoritmo MaxSubArray**\n",
        "\n",
        "El algoritmo MaxSubArray, luego de ser aplicado en un arreglo del orden $[a_1,a_2, \\ldots ,a_n]$, retorna los índices de un sub-arreglo $[a_1',a_2', \\ldots ,a_n']$ el cual cumple las condiciones de contener elementos del arreglo original, pero con la condición de que $a_1' + a_2' +\\ldots + a_n'$ es la mayor suma posible dentro del arreglo al cual se le aplicó el algoritmo.\n",
        "\n",
        "### **Prueba del teorema**\n",
        "\n",
        "Debido a que MaxSubArray es un algoritmo recursivo, para la prueba de este segundo teorema se hará uso del método de inducción matemática, el cual consiste en demostrar que una propoisición $P(n)$ se cumple para todos los números $n$. Para esto se deben aplicar los siguientes puntos:\n",
        "\n",
        "1. Probar que $P(n)$ se cumple para un caso base.\n",
        "2. Probar que si $P(n)$ es verdadera, entonces también se cumple para un caso con tamaño $n+1$ \n",
        "\n",
        "### **Caso base**\n",
        "\n",
        "El caso base es para cuando $n=1$, en este caso el algoritmo retorna el mismo elemento. Al ser este un sub-arreglo de tamaño $1$, el único elemento que contiene es también trivialmente la mayor suma posible dentro del sub-arreglo, por lo cual el algoritmo para este caso funciona correctamente.\n",
        "\n",
        "### **Paso inductivo**\n",
        "\n",
        "Para este caso se asume que la propiedad de Merge Sort se cumple para todos los elementos menores o iguales a $n$. Luego observamos que para una entrada por ejemplo de $n+1$, tenemos que el algoritmo genera dos sub-arreglos de tamaño $n+1 \\above 1pt 2$ cada uno, para los cuales la propiedad $P(n)$ se cumple correctamente en cada uno de ellos debido a lo anteriormente mencionado, ya que ${n+1 \\above 1pt 2} \\leq n$.\n",
        "\n",
        "Finalmente el algoritmo compara los tres valores conseguidos, retornando el mayor de estos tres, es gracias a esta última comparación que se demuestra la correctitud del algoritmo, debido que se asume funciona correctamente para los valores menores a $n$ como $n+1 \\above 1pt 2$, mientras que por otro lado la función **MaxArrayMid** funciona correctamente para cualquier valor de $n$ (comprobado en el punto anterior), por ende no existe la posibilidad de que ambas funciones hayan retornado valores erróneos que generen alguna posible contradicción. Así se puede concluir como demostrado el teorema de correctitud del algoritmo **MaxSubArray**."
      ],
      "metadata": {
        "id": "tJDa10Nfw1d6"
      }
    },
    {
      "cell_type": "markdown",
      "source": [
        "# 4. Experimentos"
      ],
      "metadata": {
        "id": "N14_QSBIgUUe"
      }
    },
    {
      "cell_type": "code",
      "source": [
        "#Código extraído de https://www.techiedelight.com/es/maximum-subarray-problem-kadanes-algorithm/\n",
        "\n",
        "import sys\n",
        "\n",
        "# Función para encontrar la suma máxima de un subarray contiguo\n",
        "# en una array de enteros dada (también maneja números negativos)\n",
        "def kadaneNeg(A):\n",
        "    # almacena la sublista de suma máxima encontrada hasta el momento\n",
        "    max_so_far = -sys.maxsize\n",
        " \n",
        "    # almacena la suma máxima de la sublista que termina en la posición actual\n",
        "    max_ending_here = 0\n",
        " \n",
        "    # recorrer la lista dada\n",
        "    for i in range(len(A)):\n",
        "        # actualice la suma máxima de la sublista \"finalizando\" en el índice `i` (agregando el\n",
        "        # elemento actual a la suma máxima que termina en el índice anterior `i-1`)\n",
        "        max_ending_here = max_ending_here + A[i]\n",
        " \n",
        "        # La suma máxima de # debe ser mayor que el elemento actual\n",
        "        max_ending_here = max(max_ending_here, A[i])\n",
        " \n",
        "        # actualiza el resultado si se encuentra que la suma de la sublista actual es mayor\n",
        "        max_so_far = max(max_so_far, max_ending_here)\n",
        " \n",
        "    return max_so_far\n",
        " \n",
        "A = [5, -4, 3, 8, -6, -2]\n",
        "print(\"La mayor suma dentro del arreglo es\", kadaneNeg(A))"
      ],
      "metadata": {
        "id": "dI0U8GPlSpP4",
        "colab": {
          "base_uri": "https://localhost:8080/"
        },
        "outputId": "e56b579f-c9c4-48f6-e09e-4f1c30581334"
      },
      "execution_count": 29,
      "outputs": [
        {
          "output_type": "stream",
          "name": "stdout",
          "text": [
            "La mayor suma dentro del arreglo es 12\n"
          ]
        }
      ]
    },
    {
      "cell_type": "markdown",
      "source": [
        "## 4.1 Comparación con algoritmo de Kadane\n",
        "\n",
        "El algoritmo de Kadane corresponde a otra manera de resolver el problema del sub-arreglo máximo, sin embargo, esta opción es más eficiente en tiempo que el divide y vencerás debido a que tiene una complejidad temporal lineal de **O(n)**, este algoritmo logra ese rendimiento debido a que no utiliza ninguna función para ir dividiendo el arreglo, sino que ."
      ],
      "metadata": {
        "id": "shXnkOKwb2SZ"
      }
    },
    {
      "cell_type": "code",
      "source": [
        "import matplotlib.pyplot as plt\n",
        "import datetime\n",
        "from timeit import repeat\n",
        "\n",
        "x = []; y1 = [] ; y2 = []\n",
        "\n",
        "for n in range(5,500):\n",
        "\n",
        "  a = random.sample(range(1, 1000), n)\n",
        "  izq = 0\n",
        "  der = len(a)-1\n",
        "  verbose = False\n",
        "  #la función repeat está ejecutando 20 veces InsertionSort con el arreglo a y retorna el mejor tiempo obtenido.\n",
        "  t = repeat(setup=\"from __main__ import MaxSubArray\", stmt=f\"MaxSubArray({a},{izq},{der}, {verbose})\", repeat=1, number=10)\n",
        "\n",
        "  k = repeat(setup=\"from __main__ import kadaneNeg\", stmt=f\"kadaneNeg({a})\", repeat=1, number=10)\n",
        "\n",
        "  x.append(n)\n",
        "  y1.append(t)\n",
        "  y2.append(k)\n",
        "\n",
        "\n",
        "plt.plot(x,y1)\n",
        "plt.plot(x,y2)\n",
        "plt.legend([\"Divide y vencerás\", \"Kadane\"])\n",
        "\n",
        "plt.xlabel('n')\n",
        "plt.ylabel('time in ms')\n",
        "plt.show()"
      ],
      "metadata": {
        "colab": {
          "base_uri": "https://localhost:8080/",
          "height": 279
        },
        "id": "JxyXWY0a8QTc",
        "outputId": "571c0a48-c8d3-4b78-c70a-f2f70fe52f4a"
      },
      "execution_count": 34,
      "outputs": [
        {
          "output_type": "display_data",
          "data": {
            "text/plain": [
              "<Figure size 432x288 with 1 Axes>"
            ],
            "image/png": "[encoded data removed]"
          },
          "metadata": {
            "needs_background": "light"
          }
        }
      ]
    },
    {
      "cell_type": "markdown",
      "source": [
        "### **Análisis de resultados**\n",
        "\n",
        "Luego de analizar el gráfico en cuestión, se observan ciertos picos de rendimiento, los cuales se pueden deber a propiedades del procesador, debido a que a pesar de correr varias veces el código estos se mantienen presentes en las gráficas, o también existe la posibilidad de que mientras este código de algoritmo de Kadane retorna solo la suma total, el \"divide y vencerás\" implementado en este informe se debe hacer cargo del control de índices para delimitar el sub-arreglo mayor, lo que podría ocasionar esas anomalías en el rendimiento. A pesar de esto, ambos algoritmos resuelven los problemas planteados en tiempos óptimos menores a 0.1 [ms], aunque es importante recalcar que el tiempo de rendimiento del algoritmo de Kadane crece de manera más lenta a comparación de divide y vencerás, esto comprueba las complejidades temporales teóricas de $O(nlog(n))$ y $O(n)$ respectivamente."
      ],
      "metadata": {
        "id": "rrM6WU11AuPa"
      }
    },
    {
      "cell_type": "code",
      "source": [
        "#Código extraído de https://www.techiedelight.com/es/maximum-sum-subarray-using-divide-conquer/\n",
        "\n",
        "import sys\n",
        "\n",
        "\n",
        "# Solución ingenua para encontrar la suma máxima de sublista usando divide y vencerás\n",
        "def findMaximumSum(nums):\n",
        " \n",
        "    maxSum = -sys.maxsize\n",
        " \n",
        "    # do para cada sublista que comience con `i`\n",
        "    for i in range(len(nums)):\n",
        " \n",
        "        # calcula la suma de la sublista `nums[i…j]`\n",
        " \n",
        "        total = 0        # suma de reinicio\n",
        " \n",
        "        # do para cada sublista que termina en `j`\n",
        "        for j in range(i, len(nums)):\n",
        "            total += nums[j]\n",
        " \n",
        "            # si la suma de la sublista actual es mayor que la suma máxima\n",
        "            # calculado hasta ahora, actualice la suma máxima\n",
        "            if total > maxSum:\n",
        "                maxSum = total\n",
        " \n",
        "    return maxSum"
      ],
      "metadata": {
        "id": "7aNbLhhoKCvN"
      },
      "execution_count": 31,
      "outputs": []
    },
    {
      "cell_type": "markdown",
      "source": [
        "## 4.2 Comparación con fuerza bruta\n",
        "\n",
        "Luego del experimento anterior, queda la interrogante de qué tal se comporta el algoritmo \"divide y vencerás\" con respecto al último método posible para resolver el problema, el llamado \"fuerza bruta\", el cual como se mencionó antes, es el de peor rendimiento con un $O(n^2)$ debido a la forma de proceder.\n",
        "\n",
        "A continuación se muestra una comparación gráfica del tiempo de ejecución de ambos algoritmos."
      ],
      "metadata": {
        "id": "5AFExRxNIHL9"
      }
    },
    {
      "cell_type": "code",
      "source": [
        "x = []; y1 = [] ; y2 = []\n",
        "\n",
        "for n in range(5,500):\n",
        "\n",
        "  a = random.sample(range(1, 1000), n)\n",
        "  izq = 0\n",
        "  der = len(a)-1\n",
        "  verbose = False\n",
        "  #la función repeat está ejecutando 20 veces InsertionSort con el arreglo a y retorna el mejor tiempo obtenido.\n",
        "  t = repeat(setup=\"from __main__ import MaxSubArray\", stmt=f\"MaxSubArray({a},{izq},{der}, {verbose})\", repeat=1, number=10)\n",
        "\n",
        "  k = repeat(setup=\"from __main__ import findMaximumSum\", stmt=f\"findMaximumSum({a})\", repeat=1, number=10)\n",
        "\n",
        "  x.append(n)\n",
        "  y1.append(t)\n",
        "  y2.append(k)\n",
        "\n",
        "\n",
        "plt.plot(x,y1)\n",
        "plt.plot(x,y2)\n",
        "plt.legend([\"Divide y vencerás\", \"Fuerza bruta\"])\n",
        "\n",
        "plt.xlabel('n')\n",
        "plt.ylabel('time in ms')\n",
        "plt.show()"
      ],
      "metadata": {
        "colab": {
          "base_uri": "https://localhost:8080/",
          "height": 279
        },
        "id": "1GwmLqwgNdXP",
        "outputId": "85eed06b-2d00-48bf-fa86-f504fc1497c7"
      },
      "execution_count": 33,
      "outputs": [
        {
          "output_type": "display_data",
          "data": {
            "text/plain": [
              "<Figure size 432x288 with 1 Axes>"
            ],
            "image/png": "[encoded data removed]"
          },
          "metadata": {
            "needs_background": "light"
          }
        }
      ]
    },
    {
      "cell_type": "markdown",
      "source": [
        "### **Análisis de resultados**\n",
        "\n",
        "Existe una cierta similitud en la diferencia que se aprecia entre uno y otro algoritmo, ahora \"divide y vencerás\" ocupa la posición del algoritmo más rápido mientras que \"fuerza bruta\" tiene un crecimiento pronunciadamente cuadrático, llegando a picos de rendimiento de 0.12[ms] mientras que el otro método no llega ni a la décima de milisegundo en sus valores más altos. Es importante mencionar que al momento de correr el código que genera esta segunda gráfica, hubo una diferencia de tiempo importante a comparación de la primera, este gráfico entre fuerza bruta y divide y vencerás tardó una media de 15 segundos en generarse completamente, mientras que el primero tardó menos de 10 segundos."
      ],
      "metadata": {
        "id": "D512sxETN7-r"
      }
    },
    {
      "cell_type": "markdown",
      "source": [
        "## 4.3 Comparación de los tres algoritmos\n",
        "\n",
        "A continuación se muestra la gráfica de los 3 métodos explicados en este informe comparados entre si."
      ],
      "metadata": {
        "id": "ZyxEVOdQQG5m"
      }
    },
    {
      "cell_type": "code",
      "source": [
        "x = []; y1 = [] ; y2 = [] ; y3 = []\n",
        "\n",
        "for n in range(5,500):\n",
        "\n",
        "  a = random.sample(range(1, 1000), n)\n",
        "  izq = 0\n",
        "  der = len(a)-1\n",
        "  verbose = False\n",
        "  #la función repeat está ejecutando 20 veces InsertionSort con el arreglo a y retorna el mejor tiempo obtenido.\n",
        "  t = repeat(setup=\"from __main__ import MaxSubArray\", stmt=f\"MaxSubArray({a},{izq},{der}, {verbose})\", repeat=1, number=10)\n",
        "\n",
        "  k = repeat(setup=\"from __main__ import findMaximumSum\", stmt=f\"findMaximumSum({a})\", repeat=1, number=10)\n",
        "\n",
        "  l = repeat(setup=\"from __main__ import kadaneNeg\", stmt=f\"kadaneNeg({a})\", repeat=1, number=10)\n",
        "\n",
        "  x.append(n)\n",
        "  y1.append(t)\n",
        "  y2.append(k)\n",
        "  y3.append(l)\n",
        "\n",
        "plt.plot(x,y1)\n",
        "plt.plot(x,y2)\n",
        "plt.plot(x,y3)\n",
        "plt.legend([\"Divide y vencerás\", \"Fuerza bruta\", \"Kadane\"])\n",
        "\n",
        "plt.xlabel('n')\n",
        "plt.ylabel('time in ms')\n",
        "plt.show()"
      ],
      "metadata": {
        "colab": {
          "base_uri": "https://localhost:8080/",
          "height": 279
        },
        "id": "Z-sSS0z2QSiD",
        "outputId": "873cef1e-e038-40c0-c646-045f4f6d5bff"
      },
      "execution_count": 36,
      "outputs": [
        {
          "output_type": "display_data",
          "data": {
            "text/plain": [
              "<Figure size 432x288 with 1 Axes>"
            ],
            "image/png": "[encoded data removed]"
          },
          "metadata": {
            "needs_background": "light"
          }
        }
      ]
    },
    {
      "cell_type": "markdown",
      "source": [
        "### Análisis de resultados\n",
        "\n",
        "Se observa la tendencia marcada al rededor de los anteriores gráficos, siendo Kadane el más rápido, seguido por \"divide y vencerás\", dejando al método \"fuerza bruta\" como el más lento. Los picos de rendimiento mostrados al incio y final de la gráfica se deben meramente a condiciones del procesamiento del código, debido a que no se habían presentado en experimentos anteriores."
      ],
      "metadata": {
        "id": "1ToXla6_Q92a"
      }
    }
  ]
}